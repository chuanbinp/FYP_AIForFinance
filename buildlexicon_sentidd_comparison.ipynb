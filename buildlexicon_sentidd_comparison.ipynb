{
 "cells": [
  {
   "cell_type": "code",
   "execution_count": 1,
   "metadata": {},
   "outputs": [],
   "source": [
    "import pandas as pd\n",
    "import numpy as np\n",
    "from nltk.stem.porter import PorterStemmer\n",
    "from nltk.stem import WordNetLemmatizer\n",
    "from nltk import word_tokenize, pos_tag\n",
    "import data_reader\n",
    "import results_analyser\n",
    "from tqdm import tqdm\n",
    "\n",
    "stemmer = PorterStemmer()\n",
    "lemmatizer=WordNetLemmatizer()"
   ]
  },
  {
   "cell_type": "code",
   "execution_count": 2,
   "metadata": {},
   "outputs": [],
   "source": [
    "def senti_dd_polarity(text, sentidd_dict, lm_dict):\n",
    "    def lm_score(text, lm_dict):\n",
    "        tokens = word_tokenize(text)\n",
    "        count = 0\n",
    "        score = 0\n",
    "        for token in tokens:\n",
    "            try:\n",
    "                if lm_dict[token]==\"positive\":\n",
    "                    score += 1\n",
    "                    count += 1\n",
    "                elif lm_dict[token]==\"negative\":\n",
    "                    score -= 1\n",
    "                    count += 1\n",
    "            except:\n",
    "                pass\n",
    "\n",
    "        return score/count if count>0 else score\n",
    "\n",
    "    def senti_dd_score(text, sentidd_dict):\n",
    "        tokens = word_tokenize(text)\n",
    "        count = 0\n",
    "        score = 0\n",
    "        stemmed_tokens = [stemmer.stem(token) for token in tokens]\n",
    "        lemmatized_tokens = [lemmatizer.lemmatize(token) for token in tokens]\n",
    "        for stemmed_token in stemmed_tokens:\n",
    "            for lemmatized_token in lemmatized_tokens:\n",
    "                \n",
    "                try:\n",
    "                    if (sentidd_dict[(lemmatized_token, stemmed_token)] ==\"positive\"):\n",
    "                        score += 1\n",
    "                        count += 1\n",
    "                    elif (sentidd_dict[(lemmatized_token, stemmed_token)] ==\"negative\"):\n",
    "                        score -= 1\n",
    "                        count += 1\n",
    "                except:\n",
    "                    pass\n",
    "        return score/count if count>0 else score\n",
    "    \n",
    "    score = lm_score(text, lm_dict)\n",
    "    context_sentiment_score = senti_dd_score(text, sentidd_dict)\n",
    "    if context_sentiment_score > 0: score += 1\n",
    "    elif context_sentiment_score < 0: score -= 1\n",
    "\n",
    "    return score\n",
    "\n",
    "\n",
    "def sentidd_processor(X, sentidd_dict, lm_dict):\n",
    "    senti_dd_pred = []\n",
    "    for test_tweet in tqdm(X):\n",
    "        s = \" \".join(test_tweet)\n",
    "        senti_dd_score = senti_dd_polarity(s, sentidd_dict, lm_dict)\n",
    "        senti_dd_pred.append(senti_dd_score)\n",
    "    \n",
    "    return senti_dd_pred\n",
    "\n",
    "def generate_results(X, y_class, experiment):\n",
    "    results_df = pd.DataFrame()\n",
    "\n",
    "    sentidd_pred = sentidd_processor(X, sentidd_dict, lm_dict)\n",
    "    #remove neutral\n",
    "    sentidd_pred = np.array(sentidd_pred)\n",
    "    y_class = np.array(y_class)[sentidd_pred != 0].tolist()\n",
    "    sentidd_pred = sentidd_pred[sentidd_pred != 0].tolist()\n",
    "\n",
    "    pred_class = results_analyser.probability_to_class(sentidd_pred)\n",
    "    results_df = results_analyser.calculate_metrics(results_df, y_class, pred_class, experiment)\n",
    "\n",
    "    return results_df"
   ]
  },
  {
   "cell_type": "code",
   "execution_count": 3,
   "metadata": {},
   "outputs": [],
   "source": [
    "FILE_DIR = \"./custom_lexicons/sentidd/\"\n",
    "LM_FILEPATH = FILE_DIR+\"LM_Word_List.csv\"\n",
    "lm_df = pd.read_csv(LM_FILEPATH)\n",
    "lm_dict = dict(zip(lm_df.word, lm_df.label))"
   ]
  },
  {
   "cell_type": "markdown",
   "metadata": {},
   "source": [
    "## Sentidd using data1"
   ]
  },
  {
   "cell_type": "code",
   "execution_count": 4,
   "metadata": {},
   "outputs": [],
   "source": [
    "SENTI_DD_FILEPATH = FILE_DIR+\"sentidd_data1.csv\"\n",
    "sentidd = pd.read_csv(SENTI_DD_FILEPATH)\n",
    "sentidd_dict = dict(zip(zip(sentidd.entity, sentidd.directional_word), sentidd.sentiment))"
   ]
  },
  {
   "cell_type": "code",
   "execution_count": 5,
   "metadata": {
    "scrolled": true
   },
   "outputs": [
    {
     "name": "stderr",
     "output_type": "stream",
     "text": [
      "100%|███████████████████████████████████████████████████████████████████████████████| 875/875 [00:01<00:00, 464.39it/s]\n",
      "100%|████████████████████████████████████████████████████████████████████████████| 1161/1161 [00:00<00:00, 1622.52it/s]\n"
     ]
    },
    {
     "data": {
      "text/html": [
       "<div>\n",
       "<style scoped>\n",
       "    .dataframe tbody tr th:only-of-type {\n",
       "        vertical-align: middle;\n",
       "    }\n",
       "\n",
       "    .dataframe tbody tr th {\n",
       "        vertical-align: top;\n",
       "    }\n",
       "\n",
       "    .dataframe thead th {\n",
       "        text-align: right;\n",
       "    }\n",
       "</style>\n",
       "<table border=\"1\" class=\"dataframe\">\n",
       "  <thead>\n",
       "    <tr style=\"text-align: right;\">\n",
       "      <th></th>\n",
       "      <th>Accuracy</th>\n",
       "      <th>Experiment</th>\n",
       "      <th>F1_score</th>\n",
       "      <th>Precision</th>\n",
       "      <th>Recall</th>\n",
       "    </tr>\n",
       "  </thead>\n",
       "  <tbody>\n",
       "    <tr>\n",
       "      <th>0</th>\n",
       "      <td>0.851441</td>\n",
       "      <td>data2</td>\n",
       "      <td>0.858947</td>\n",
       "      <td>0.906667</td>\n",
       "      <td>0.816000</td>\n",
       "    </tr>\n",
       "    <tr>\n",
       "      <th>0</th>\n",
       "      <td>0.591260</td>\n",
       "      <td>data3</td>\n",
       "      <td>0.622328</td>\n",
       "      <td>0.696809</td>\n",
       "      <td>0.562232</td>\n",
       "    </tr>\n",
       "  </tbody>\n",
       "</table>\n",
       "</div>"
      ],
      "text/plain": [
       "   Accuracy Experiment  F1_score  Precision    Recall\n",
       "0  0.851441      data2  0.858947   0.906667  0.816000\n",
       "0  0.591260      data3  0.622328   0.696809  0.562232"
      ]
     },
     "execution_count": 5,
     "metadata": {},
     "output_type": "execute_result"
    }
   ],
   "source": [
    "data2_X, data2_y_class = data_reader.read_data2(\"list\")\n",
    "data3_X, data3_y_class = data_reader.read_data3(\"list\")\n",
    "\n",
    "pd.concat([generate_results(data2_X, data2_y_class, \"data2\"), generate_results(data3_X, data3_y_class, \"data3\")])"
   ]
  },
  {
   "cell_type": "markdown",
   "metadata": {},
   "source": [
    "## Sentidd using data4"
   ]
  },
  {
   "cell_type": "code",
   "execution_count": 6,
   "metadata": {},
   "outputs": [],
   "source": [
    "SENTI_DD_FILEPATH = FILE_DIR+\"sentidd_data4.csv\"\n",
    "sentidd = pd.read_csv(SENTI_DD_FILEPATH)\n",
    "sentidd_dict = dict(zip(zip(sentidd.entity, sentidd.directional_word), sentidd.sentiment))"
   ]
  },
  {
   "cell_type": "code",
   "execution_count": 7,
   "metadata": {},
   "outputs": [
    {
     "name": "stderr",
     "output_type": "stream",
     "text": [
      "100%|██████████████████████████████████████████████████████████████████████████████| 875/875 [00:00<00:00, 1396.42it/s]\n",
      "100%|████████████████████████████████████████████████████████████████████████████| 1161/1161 [00:00<00:00, 1532.50it/s]\n"
     ]
    },
    {
     "data": {
      "text/html": [
       "<div>\n",
       "<style scoped>\n",
       "    .dataframe tbody tr th:only-of-type {\n",
       "        vertical-align: middle;\n",
       "    }\n",
       "\n",
       "    .dataframe tbody tr th {\n",
       "        vertical-align: top;\n",
       "    }\n",
       "\n",
       "    .dataframe thead th {\n",
       "        text-align: right;\n",
       "    }\n",
       "</style>\n",
       "<table border=\"1\" class=\"dataframe\">\n",
       "  <thead>\n",
       "    <tr style=\"text-align: right;\">\n",
       "      <th></th>\n",
       "      <th>Accuracy</th>\n",
       "      <th>Experiment</th>\n",
       "      <th>F1_score</th>\n",
       "      <th>Precision</th>\n",
       "      <th>Recall</th>\n",
       "    </tr>\n",
       "  </thead>\n",
       "  <tbody>\n",
       "    <tr>\n",
       "      <th>0</th>\n",
       "      <td>0.769767</td>\n",
       "      <td>data2</td>\n",
       "      <td>0.765957</td>\n",
       "      <td>0.890110</td>\n",
       "      <td>0.672199</td>\n",
       "    </tr>\n",
       "    <tr>\n",
       "      <th>0</th>\n",
       "      <td>0.601852</td>\n",
       "      <td>data3</td>\n",
       "      <td>0.619469</td>\n",
       "      <td>0.686275</td>\n",
       "      <td>0.564516</td>\n",
       "    </tr>\n",
       "  </tbody>\n",
       "</table>\n",
       "</div>"
      ],
      "text/plain": [
       "   Accuracy Experiment  F1_score  Precision    Recall\n",
       "0  0.769767      data2  0.765957   0.890110  0.672199\n",
       "0  0.601852      data3  0.619469   0.686275  0.564516"
      ]
     },
     "execution_count": 7,
     "metadata": {},
     "output_type": "execute_result"
    }
   ],
   "source": [
    "data2_X, data2_y_class = data_reader.read_data2(\"list\")\n",
    "data3_X, data3_y_class = data_reader.read_data3(\"list\")\n",
    "\n",
    "pd.concat([generate_results(data2_X, data2_y_class, \"data2\"), generate_results(data3_X, data3_y_class, \"data3\")])"
   ]
  }
 ],
 "metadata": {
  "kernelspec": {
   "display_name": "Python 3",
   "language": "python",
   "name": "python3"
  },
  "language_info": {
   "codemirror_mode": {
    "name": "ipython",
    "version": 3
   },
   "file_extension": ".py",
   "mimetype": "text/x-python",
   "name": "python",
   "nbconvert_exporter": "python",
   "pygments_lexer": "ipython3",
   "version": "3.7.6"
  }
 },
 "nbformat": 4,
 "nbformat_minor": 4
}
