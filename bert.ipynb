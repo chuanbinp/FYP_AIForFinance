{
 "cells": [
  {
   "cell_type": "code",
   "execution_count": null,
   "metadata": {
    "colab": {
     "base_uri": "https://localhost:8080/"
    },
    "executionInfo": {
     "elapsed": 3564,
     "status": "ok",
     "timestamp": 1647711113252,
     "user": {
      "displayName": "Chuan Bin Phoe",
      "photoUrl": "https://lh3.googleusercontent.com/a/default-user=s64",
      "userId": "05567159451591599581"
     },
     "user_tz": -480
    },
    "id": "D42esM6PJy3A",
    "outputId": "f8ebb8fd-b007-460d-ecac-c5af730dd0cd"
   },
   "outputs": [
    {
     "name": "stdout",
     "output_type": "stream",
     "text": [
      "Drive already mounted at /content/drive; to attempt to forcibly remount, call drive.mount(\"/content/drive\", force_remount=True).\n"
     ]
    }
   ],
   "source": [
    "# connect to google colab\n",
    "from google.colab import drive\n",
    "drive.mount(\"/content/drive\")"
   ]
  },
  {
   "cell_type": "code",
   "execution_count": null,
   "metadata": {
    "id": "uNZCcDI8KxI9"
   },
   "outputs": [],
   "source": [
    "# base path\n",
    "DATA_PATH = './drive/MyDrive/FYP_U1821679J/data/subsymbolic/'\n",
    "SAVED_MODEL_PATH = './drive/MyDrive/FYP_U1821679J/model/'"
   ]
  },
  {
   "cell_type": "code",
   "execution_count": null,
   "metadata": {
    "colab": {
     "base_uri": "https://localhost:8080/"
    },
    "executionInfo": {
     "elapsed": 10307,
     "status": "ok",
     "timestamp": 1647711123545,
     "user": {
      "displayName": "Chuan Bin Phoe",
      "photoUrl": "https://lh3.googleusercontent.com/a/default-user=s64",
      "userId": "05567159451591599581"
     },
     "user_tz": -480
    },
    "id": "dWEKTSgcK4w0",
    "outputId": "3d0e6bc6-439f-4636-c898-32ce28c13258"
   },
   "outputs": [
    {
     "name": "stdout",
     "output_type": "stream",
     "text": [
      "Requirement already satisfied: transformers in /usr/local/lib/python3.7/dist-packages (4.17.0)\n",
      "Requirement already satisfied: filelock in /usr/local/lib/python3.7/dist-packages (from transformers) (3.6.0)\n",
      "Requirement already satisfied: requests in /usr/local/lib/python3.7/dist-packages (from transformers) (2.23.0)\n",
      "Requirement already satisfied: tqdm>=4.27 in /usr/local/lib/python3.7/dist-packages (from transformers) (4.63.0)\n",
      "Requirement already satisfied: sacremoses in /usr/local/lib/python3.7/dist-packages (from transformers) (0.0.49)\n",
      "Requirement already satisfied: pyyaml>=5.1 in /usr/local/lib/python3.7/dist-packages (from transformers) (6.0)\n",
      "Requirement already satisfied: regex!=2019.12.17 in /usr/local/lib/python3.7/dist-packages (from transformers) (2019.12.20)\n",
      "Requirement already satisfied: importlib-metadata in /usr/local/lib/python3.7/dist-packages (from transformers) (4.11.2)\n",
      "Requirement already satisfied: packaging>=20.0 in /usr/local/lib/python3.7/dist-packages (from transformers) (21.3)\n",
      "Requirement already satisfied: tokenizers!=0.11.3,>=0.11.1 in /usr/local/lib/python3.7/dist-packages (from transformers) (0.11.6)\n",
      "Requirement already satisfied: huggingface-hub<1.0,>=0.1.0 in /usr/local/lib/python3.7/dist-packages (from transformers) (0.4.0)\n",
      "Requirement already satisfied: numpy>=1.17 in /usr/local/lib/python3.7/dist-packages (from transformers) (1.21.5)\n",
      "Requirement already satisfied: typing-extensions>=3.7.4.3 in /usr/local/lib/python3.7/dist-packages (from huggingface-hub<1.0,>=0.1.0->transformers) (3.10.0.2)\n",
      "Requirement already satisfied: pyparsing!=3.0.5,>=2.0.2 in /usr/local/lib/python3.7/dist-packages (from packaging>=20.0->transformers) (3.0.7)\n",
      "Requirement already satisfied: zipp>=0.5 in /usr/local/lib/python3.7/dist-packages (from importlib-metadata->transformers) (3.7.0)\n",
      "Requirement already satisfied: idna<3,>=2.5 in /usr/local/lib/python3.7/dist-packages (from requests->transformers) (2.10)\n",
      "Requirement already satisfied: urllib3!=1.25.0,!=1.25.1,<1.26,>=1.21.1 in /usr/local/lib/python3.7/dist-packages (from requests->transformers) (1.24.3)\n",
      "Requirement already satisfied: chardet<4,>=3.0.2 in /usr/local/lib/python3.7/dist-packages (from requests->transformers) (3.0.4)\n",
      "Requirement already satisfied: certifi>=2017.4.17 in /usr/local/lib/python3.7/dist-packages (from requests->transformers) (2021.10.8)\n",
      "Requirement already satisfied: joblib in /usr/local/lib/python3.7/dist-packages (from sacremoses->transformers) (1.1.0)\n",
      "Requirement already satisfied: click in /usr/local/lib/python3.7/dist-packages (from sacremoses->transformers) (7.1.2)\n",
      "Requirement already satisfied: six in /usr/local/lib/python3.7/dist-packages (from sacremoses->transformers) (1.15.0)\n",
      "Requirement already satisfied: tweet-preprocessor in /usr/local/lib/python3.7/dist-packages (0.6.0)\n"
     ]
    }
   ],
   "source": [
    "!pip install transformers\n",
    "!pip install tweet-preprocessor"
   ]
  },
  {
   "cell_type": "code",
   "execution_count": null,
   "metadata": {
    "colab": {
     "base_uri": "https://localhost:8080/"
    },
    "executionInfo": {
     "elapsed": 6232,
     "status": "ok",
     "timestamp": 1647711130418,
     "user": {
      "displayName": "Chuan Bin Phoe",
      "photoUrl": "https://lh3.googleusercontent.com/a/default-user=s64",
      "userId": "05567159451591599581"
     },
     "user_tz": -480
    },
    "id": "I9YgstySK6KE",
    "outputId": "1351159d-f82e-4768-e249-66dd61eb7a0f"
   },
   "outputs": [
    {
     "name": "stdout",
     "output_type": "stream",
     "text": [
      "cuda:0\n"
     ]
    }
   ],
   "source": [
    "import os\n",
    "import re\n",
    "import random\n",
    "import time\n",
    "from tqdm import tqdm\n",
    "import numpy as np\n",
    "import pandas as pd\n",
    "import matplotlib.pyplot as plt\n",
    "import seaborn as sns\n",
    "from sklearn.metrics import auc, roc_curve, accuracy_score, classification_report, confusion_matrix\n",
    "\n",
    "import torch\n",
    "import torch.nn as nn\n",
    "import torch.nn.functional as F\n",
    "from torch.utils.data import TensorDataset, DataLoader, RandomSampler, SequentialSampler\n",
    "from transformers import BertTokenizer, BertModel, AdamW, get_linear_schedule_with_warmup\n",
    "\n",
    "import sys\n",
    "sys.path.insert(0, './drive/MyDrive/FYP_U1821679J/')\n",
    "import data_reader\n",
    "import results_analyser\n",
    "\n",
    "# check if it is running with GPU or not\n",
    "device = torch.device('cuda:0' if torch.cuda.is_available() else 'cpu')\n",
    "print(device)\n",
    "\n",
    "%matplotlib inline"
   ]
  },
  {
   "cell_type": "code",
   "execution_count": null,
   "metadata": {
    "id": "EUrrW8JOLPAk"
   },
   "outputs": [],
   "source": [
    "# Load the BERT tokenizer\n",
    "tokenizer = BertTokenizer.from_pretrained('bert-base-uncased', do_lower_case=True)"
   ]
  },
  {
   "cell_type": "markdown",
   "metadata": {
    "id": "8NyNAgcJLJr9"
   },
   "source": [
    "## Helper Functions"
   ]
  },
  {
   "cell_type": "code",
   "execution_count": null,
   "metadata": {
    "id": "P6-jYxttLG_D"
   },
   "outputs": [],
   "source": [
    "# helper function to load the data\n",
    "def data_handler(root, train_filename, dev_filename):\n",
    "    train_data_raw = pd.read_csv(root + train_filename)\n",
    "    val_data_raw = pd.read_csv(root + dev_filename)\n",
    "    X_train, y_train = train_data_raw['text_cleaned'], train_data_raw['Label']\n",
    "    X_val, y_val = val_data_raw['text_cleaned'], val_data_raw['Label']\n",
    "    # concatenate the train and validation set text_cleaned data to get the token ids for the words\n",
    "    frames = [X_train, X_val]\n",
    "    X = pd.concat(frames)\n",
    "    # convert from pandas dataframe to numpy arrays\n",
    "    X_ = X.to_numpy()\n",
    "    return X_train, y_train, X_val, y_val, X_\n",
    "\n",
    "# Create a function to tokenize a set of texts\n",
    "def preprocessing_for_bert(data):\n",
    "    \"\"\"Perform required preprocessing steps for pretrained BERT.\n",
    "    @param    data (np.array): Array of texts to be processed.\n",
    "    @return   input_ids (torch.Tensor): Tensor of token ids to be fed to a model.\n",
    "    @return   attention_masks (torch.Tensor): Tensor of indices specifying which\n",
    "                  tokens should be attended to by the model.\n",
    "    \"\"\"\n",
    "    # Create empty lists to store outputs\n",
    "    input_ids = []\n",
    "    attention_masks = []\n",
    "\n",
    "    # For every sentence...\n",
    "    for sent in data:\n",
    "        # `encode_plus` will:\n",
    "        #    (1) Tokenize the sentence\n",
    "        #    (2) Add the `[CLS]` and `[SEP]` token to the start and end\n",
    "        #    (3) Truncate/Pad sentence to max length\n",
    "        #    (4) Map tokens to their IDs\n",
    "        #    (5) Create attention mask\n",
    "        #    (6) Return a dictionary of outputs\n",
    "        encoded_sent = tokenizer.encode_plus(\n",
    "            text=sent,\n",
    "            add_special_tokens=True,        # Add `[CLS]` and `[SEP]`\n",
    "            max_length=MAX_LEN,             # Max length to truncate/pad\n",
    "            pad_to_max_length=True,         # Pad sentence to max length\n",
    "            #return_tensors='pt',           # Return PyTorch tensor\n",
    "            return_attention_mask=True      # Return attention mask\n",
    "            )\n",
    "        \n",
    "        # Add the outputs to the lists\n",
    "        input_ids.append(encoded_sent.get('input_ids'))\n",
    "        attention_masks.append(encoded_sent.get('attention_mask'))\n",
    "\n",
    "    # Convert lists to tensors\n",
    "    input_ids = torch.tensor(input_ids)\n",
    "    attention_masks = torch.tensor(attention_masks)\n",
    "\n",
    "    return input_ids, attention_masks\n",
    "\n",
    "# tokenize data\n",
    "# Specify `MAX_LEN`\n",
    "MAX_LEN = 256\n",
    "\n",
    "def create_data_loader(root,train_filename,dev_filename,batch_size=16):\n",
    "    X_train, y_train, X_val, y_val, X_ = data_handler(root, train_filename, dev_filename)\n",
    "\n",
    "    # Concatenate train data and test data\n",
    "    all_texts = np.concatenate([X_train, X_val])\n",
    "\n",
    "    # Encode our concatenated data\n",
    "    encoded_texts = [tokenizer.encode(sent, add_special_tokens=True) for sent in all_texts]\n",
    "\n",
    "    # Find the maximum length\n",
    "    max_len = max([len(sent) for sent in encoded_texts])\n",
    "\n",
    "    # Print sentence 0 and its encoded token ids\n",
    "    token_ids = list(preprocessing_for_bert([X_[0]])[0].squeeze().numpy())\n",
    "\n",
    "    # Run function `preprocessing_for_bert` on the train set and the validation set\n",
    "    print('Tokenizing data...')\n",
    "    train_inputs, train_masks = preprocessing_for_bert(X_train)\n",
    "    val_inputs, val_masks = preprocessing_for_bert(X_val)\n",
    "\n",
    "    # Convert other data types to torch.Tensor\n",
    "    train_labels = torch.tensor(y_train)\n",
    "    val_labels = torch.tensor(y_val)\n",
    "\n",
    "    # Create the DataLoader for our training set\n",
    "    train_data = TensorDataset(train_inputs, train_masks, train_labels)\n",
    "    train_sampler = RandomSampler(train_data)\n",
    "    train_dataloader = DataLoader(train_data, sampler=train_sampler, batch_size=batch_size)\n",
    "\n",
    "    # Create the DataLoader for our validation set\n",
    "    val_data = TensorDataset(val_inputs, val_masks, val_labels)\n",
    "    val_sampler = SequentialSampler(val_data)\n",
    "    val_dataloader = DataLoader(val_data, sampler=val_sampler, batch_size=batch_size)\n",
    "\n",
    "    return train_dataloader, val_dataloader, y_val"
   ]
  },
  {
   "cell_type": "markdown",
   "metadata": {
    "id": "Z-TJdAAarqeA"
   },
   "source": [
    "## Creating the model"
   ]
  },
  {
   "cell_type": "code",
   "execution_count": null,
   "metadata": {
    "colab": {
     "base_uri": "https://localhost:8080/"
    },
    "executionInfo": {
     "elapsed": 27,
     "status": "ok",
     "timestamp": 1647711134597,
     "user": {
      "displayName": "Chuan Bin Phoe",
      "photoUrl": "https://lh3.googleusercontent.com/a/default-user=s64",
      "userId": "05567159451591599581"
     },
     "user_tz": -480
    },
    "id": "WX9IxOcAkeHo",
    "outputId": "446421e3-6e7f-494d-ffa4-2fa67672e44a"
   },
   "outputs": [
    {
     "name": "stdout",
     "output_type": "stream",
     "text": [
      "CPU times: user 24 µs, sys: 4 µs, total: 28 µs\n",
      "Wall time: 31.5 µs\n"
     ]
    }
   ],
   "source": [
    "%%time\n",
    "# Create the BertClassfier class\n",
    "class BertClassifier(nn.Module):\n",
    "    def __init__(self, freeze_bert=False):\n",
    "        super(BertClassifier, self).__init__()\n",
    "        # Specify hidden size of BERT, hidden size of our classifier, and number of labels\n",
    "        D_in, H, D_out = 768, 50, 2\n",
    "\n",
    "        # Instantiate BERT model\n",
    "        self.bert = BertModel.from_pretrained('bert-base-uncased')\n",
    "\n",
    "        # Instantiate an one-layer feed-forward classifier\n",
    "        self.classifier = nn.Sequential(\n",
    "            nn.Linear(D_in, H),\n",
    "            nn.ReLU(),\n",
    "            nn.Linear(H, D_out)\n",
    "        )\n",
    "\n",
    "        # Freeze the BERT model\n",
    "        if freeze_bert:\n",
    "            for param in self.bert.parameters():\n",
    "                param.requires_grad = False\n",
    "        \n",
    "    def forward(self, input_ids, attention_mask):\n",
    "        # Feed input to BERT\n",
    "        outputs = self.bert(input_ids=input_ids,\n",
    "                            attention_mask=attention_mask)\n",
    "        \n",
    "        # Extract the last hidden state of the token `[CLS]` for classification task\n",
    "        last_hidden_state_cls = outputs[0][:, 0, :]\n",
    "\n",
    "        # Feed input to classifier to compute logits\n",
    "        logits = self.classifier(last_hidden_state_cls)\n",
    "\n",
    "        return logits"
   ]
  },
  {
   "cell_type": "code",
   "execution_count": null,
   "metadata": {
    "id": "Ysgb5c9vlmeY"
   },
   "outputs": [],
   "source": [
    "def initialize_model(train_dataloader, epochs=4):\n",
    "    \"\"\"Initialize the Bert Classifier, the optimizer and the learning rate scheduler.\n",
    "    \"\"\"\n",
    "    # Instantiate Bert Classifier\n",
    "    bert_classifier = BertClassifier(freeze_bert=False)\n",
    "\n",
    "    # Tell PyTorch to run the model on GPU\n",
    "    bert_classifier.to(device)\n",
    "\n",
    "    # Create the optimizer\n",
    "    optimizer = AdamW(bert_classifier.parameters(),\n",
    "                      lr=5e-5,    # Default learning rate\n",
    "                      eps=1e-8    # Default epsilon value\n",
    "                      )\n",
    "\n",
    "    # Total number of training steps\n",
    "    total_steps = len(train_dataloader) * epochs\n",
    "\n",
    "    # Set up the learning rate scheduler\n",
    "    scheduler = get_linear_schedule_with_warmup(optimizer,\n",
    "                                                num_warmup_steps=0, # Default value\n",
    "                                                num_training_steps=total_steps)\n",
    "    return bert_classifier, optimizer, scheduler"
   ]
  },
  {
   "cell_type": "code",
   "execution_count": null,
   "metadata": {
    "id": "qM4XBrgplsYY"
   },
   "outputs": [],
   "source": [
    "# training loop\n",
    "def set_seed(seed_value=42):\n",
    "    \"\"\"Set seed for reproducibility.\n",
    "    \"\"\"\n",
    "    random.seed(seed_value)\n",
    "    np.random.seed(seed_value)\n",
    "    torch.manual_seed(seed_value)\n",
    "    torch.cuda.manual_seed_all(seed_value)\n",
    "\n",
    "def train(model, root_path, filepath, train_dataloader, val_dataloader=None, epochs=4, evaluation=False):\n",
    "    \"\"\"Train the BertClassifier model.\n",
    "    \"\"\"\n",
    "    # Start training loop\n",
    "    print(\"Start training...\\n\")\n",
    "\n",
    "    # initialise best valid loss\n",
    "    best_valid_loss = float('inf')\n",
    "\n",
    "    for epoch_i in range(epochs):\n",
    "        # =======================================\n",
    "        #               Training\n",
    "        # =======================================\n",
    "        # Print the header of the result table\n",
    "        print(f\"{'Epoch':^7} | {'Batch':^7} | {'Train Loss':^12} | {'Val Loss':^10} | {'Val Acc':^9} | {'Elapsed':^9}\")\n",
    "        print(\"-\"*70)\n",
    "\n",
    "        # Measure the elapsed time of each epoch\n",
    "        t0_epoch, t0_batch = time.time(), time.time()\n",
    "\n",
    "        # Reset tracking variables at the beginning of each epoch\n",
    "        total_loss, batch_loss, batch_counts = 0, 0, 0\n",
    "\n",
    "        # Put the model into the training mode\n",
    "        model.train()\n",
    "\n",
    "        # For each batch of training data...\n",
    "        for step, batch in enumerate(train_dataloader):\n",
    "            batch_counts +=1\n",
    "            # Load batch to GPU\n",
    "            b_input_ids, b_attn_mask, b_labels = tuple(t.to(device) for t in batch)\n",
    "\n",
    "            # Zero out any previously calculated gradients\n",
    "            model.zero_grad()\n",
    "\n",
    "            # Perform a forward pass. This will return logits.\n",
    "            logits = model(b_input_ids, b_attn_mask)\n",
    "\n",
    "            # Compute loss and accumulate the loss values\n",
    "            loss = loss_fn(logits, b_labels)\n",
    "            batch_loss += loss.item()\n",
    "            total_loss += loss.item()\n",
    "\n",
    "            # Perform a backward pass to calculate gradients\n",
    "            loss.backward()\n",
    "\n",
    "            # Clip the norm of the gradients to 1.0 to prevent \"exploding gradients\"\n",
    "            torch.nn.utils.clip_grad_norm_(model.parameters(), 1.0)\n",
    "\n",
    "            # Update parameters and the learning rate\n",
    "            optimizer.step()\n",
    "            scheduler.step()\n",
    "\n",
    "            # Print the loss values and time elapsed for every 20 batches\n",
    "            if (step % 20 == 0 and step != 0) or (step == len(train_dataloader) - 1):\n",
    "                # Calculate time elapsed for 20 batches\n",
    "                time_elapsed = time.time() - t0_batch\n",
    "\n",
    "                # Print training results\n",
    "                print(f\"{epoch_i + 1:^7} | {step:^7} | {batch_loss / batch_counts:^12.6f} | {'-':^10} | {'-':^9} | {time_elapsed:^9.2f}\")\n",
    "\n",
    "                # Reset batch tracking variables\n",
    "                batch_loss, batch_counts = 0, 0\n",
    "                t0_batch = time.time()\n",
    "\n",
    "        # Calculate the average loss over the entire training data\n",
    "        avg_train_loss = total_loss / len(train_dataloader)\n",
    "\n",
    "        print(\"-\"*70)\n",
    "        # =======================================\n",
    "        #               Evaluation\n",
    "        # =======================================\n",
    "        if evaluation == True:\n",
    "            # After the completion of each training epoch, measure the model's performance\n",
    "            # on our validation set.\n",
    "            val_loss, val_accuracy, true_list, pred_list = evaluate(model, val_dataloader)\n",
    "\n",
    "            # Print performance over the entire training data\n",
    "            time_elapsed = time.time() - t0_epoch\n",
    "            \n",
    "            print(f\"{epoch_i + 1:^7} | {'-':^7} | {avg_train_loss:^12.6f} | {val_loss:^10.6f} | {val_accuracy:^9.2f} | {time_elapsed:^9.2f}\")\n",
    "            print(\"-\"*70)\n",
    "        print(\"\\n\")\n",
    "\n",
    "        # save best model weights\n",
    "        if val_loss < best_valid_loss:\n",
    "            best_valid_loss = val_loss\n",
    "            torch.save(model.state_dict(), root_path+filepath)\n",
    "    \n",
    "    print(\"Training complete!\\n\\n\")\n",
    "    \n",
    "    return true_list, pred_list\n",
    "\n",
    "def evaluate(model, val_dataloader):\n",
    "    \"\"\"After the completion of each training epoch, measure the model's performance\n",
    "    on our validation set.\n",
    "    \"\"\"\n",
    "    # Put the model into the evaluation mode. The dropout layers are disabled during\n",
    "    # the test time.\n",
    "    model.eval()\n",
    "\n",
    "    # Tracking variables\n",
    "    val_accuracy = []\n",
    "    val_loss = []\n",
    "    true_list = []\n",
    "    pred_list = []\n",
    "\n",
    "    # For each batch in our validation set...\n",
    "    for batch in val_dataloader:\n",
    "        # Load batch to GPU\n",
    "        b_input_ids, b_attn_mask, b_labels = tuple(t.to(device) for t in batch)\n",
    "\n",
    "        # Compute logits\n",
    "        with torch.no_grad():\n",
    "            logits = model(b_input_ids, b_attn_mask)\n",
    "\n",
    "        # Compute loss\n",
    "        loss = loss_fn(logits, b_labels)\n",
    "        val_loss.append(loss.item())\n",
    "\n",
    "        # Get the predictions\n",
    "        preds = torch.argmax(logits, dim=1).flatten()\n",
    "        pred_list.extend(preds.tolist())\n",
    "        true_list.extend(b_labels.tolist())\n",
    "\n",
    "        # Calculate the accuracy rate\n",
    "        accuracy = (preds == b_labels).cpu().numpy().mean() * 100\n",
    "        val_accuracy.append(accuracy)\n",
    "\n",
    "    # Compute the average accuracy and loss over the validation set.\n",
    "    val_loss = np.mean(val_loss)\n",
    "    val_accuracy = np.mean(val_accuracy)\n",
    "\n",
    "    return val_loss, val_accuracy, true_list, pred_list\n",
    "\n",
    "# get the f1 score and confusion matrix\n",
    "def f1_confusion_matrix(true_list, pred_list):\n",
    "    labels = ['0','1']\n",
    "    val_tuple = list(zip(true_list, pred_list))\n",
    "    val_df = pd.DataFrame(val_tuple, columns=['true_list', 'pred_list'])\n",
    "\n",
    "    # get the multi-class F1-score to see the distribution of the predictions\n",
    "    print('F1-Score and Confusion Matrix of the Validation Set')\n",
    "    print()\n",
    "\n",
    "    print(classification_report(list(val_df['true_list']), list(val_df['pred_list']), target_names=labels, digits=4))\n",
    "    print('\\n')\n",
    "\n",
    "    # confusion matrix\n",
    "    cm_sns = pd.crosstab(val_df['true_list'], val_df['pred_list'], rownames=['Actual'], colnames=['Predicted'])\n",
    "    plt.subplots(figsize=(8,6))\n",
    "    sns.heatmap(cm_sns, annot=True, fmt=\"d\", cmap='BuGn')\n",
    "    plt.show()"
   ]
  },
  {
   "cell_type": "code",
   "execution_count": null,
   "metadata": {
    "id": "dQ5ZKGX6mquB"
   },
   "outputs": [],
   "source": [
    "# ROC curve and AUC value to test the value on the validation set\n",
    "def bert_predict(model, test_dataloader):\n",
    "    \"\"\"Perform a forward pass on the trained BERT model to predict probabilities\n",
    "    on the test set.\n",
    "    \"\"\"\n",
    "    # Put the model into the evaluation mode. The dropout layers are disabled during\n",
    "    # the test time.\n",
    "    model.eval()\n",
    "\n",
    "    all_logits = []\n",
    "\n",
    "    # For each batch in our test set...\n",
    "    for batch in test_dataloader:\n",
    "        # Load batch to GPU\n",
    "        b_input_ids, b_attn_mask = tuple(t.to(device) for t in batch)[:2]\n",
    "\n",
    "        # Compute logits\n",
    "        with torch.no_grad():\n",
    "            logits = model(b_input_ids, b_attn_mask)\n",
    "        all_logits.append(logits)\n",
    "    \n",
    "    # Concatenate logits from each batch\n",
    "    all_logits = torch.cat(all_logits, dim=0)\n",
    "\n",
    "    # Apply softmax to calculate probabilities\n",
    "    probs = F.softmax(all_logits, dim=1).cpu().numpy()\n",
    "\n",
    "    return probs"
   ]
  },
  {
   "cell_type": "code",
   "execution_count": null,
   "metadata": {
    "id": "i8KAoqjnmqnR"
   },
   "outputs": [],
   "source": [
    "# helper function to to plot the ROC curve\n",
    "def evaluate_roc(probs, y_true):\n",
    "    \"\"\"\n",
    "    - Print AUC and accuracy on the test set\n",
    "    - Plot ROC\n",
    "    @params    probs (np.array): an array of predicted probabilities with shape (len(y_true), 2)\n",
    "    @params    y_true (np.array): an array of the true values with shape (len(y_true),)\n",
    "    \"\"\"\n",
    "    preds = probs[:, 1]\n",
    "    fpr, tpr, threshold = roc_curve(y_true, preds)\n",
    "    roc_auc = auc(fpr, tpr)\n",
    "    print(f'AUC: {roc_auc:.4f}')\n",
    "       \n",
    "    # Get accuracy over the test set\n",
    "    y_pred = np.where(preds >= 0.5, 1, 0)\n",
    "    accuracy = accuracy_score(y_true, y_pred)\n",
    "    print(f'Accuracy: {accuracy*100:.2f}%\\n')\n",
    "    \n",
    "    # Plot ROC AUC\n",
    "    print('ROC Curve')\n",
    "    plt.title('Receiver Operating Characteristic')\n",
    "    plt.plot(fpr, tpr, 'b', label = 'AUC = %0.4f' % roc_auc)\n",
    "    plt.legend(loc = 'lower right')\n",
    "    plt.plot([0, 1], [0, 1],'r--')\n",
    "    plt.xlim([0, 1])\n",
    "    plt.ylim([0, 1])\n",
    "    plt.ylabel('True Positive Rate')\n",
    "    plt.xlabel('False Positive Rate')\n",
    "    plt.show()"
   ]
  },
  {
   "cell_type": "code",
   "execution_count": null,
   "metadata": {
    "id": "mfxpGa2IqiqV"
   },
   "outputs": [],
   "source": [
    "# for multiple graph together\n",
    "def evaluate_roc_multi(probs, y_true): # takes in list of values\n",
    "    \"\"\"\n",
    "    - Print AUC and accuracy on the test set\n",
    "    - Plot ROC\n",
    "    @params    probs (np.array): an array of predicted probabilities with shape (len(y_true), 2)\n",
    "    @params    y_true (np.array): an array of the true values with shape (len(y_true),)\n",
    "    \"\"\"\n",
    "\n",
    "    fpr_list = []\n",
    "    tpr_list = []\n",
    "    auc_value_list = []\n",
    "    color_set = ['b','g','r','k']\n",
    "    label_name = ['Data4', 'Data1', 'Combined']\n",
    "\n",
    "    for i in range(len(probs)):\n",
    "        preds = probs[i][:, 1]\n",
    "        fpr, tpr, _ = roc_curve(y_true[i], preds)\n",
    "        auc_value = auc(fpr, tpr)\n",
    "        fpr_list.append(fpr)\n",
    "        tpr_list.append(tpr)\n",
    "        auc_value_list.append(auc_value)\n",
    "\n",
    "    # Plot ROC AUC\n",
    "    print('ROC Curve')\n",
    "    plt.rcParams[\"figure.figsize\"] = [12,8]\n",
    "    plt.title('Receiver Operating Characteristic')\n",
    "    for i in range(len(probs)):\n",
    "        plt.plot(fpr_list[i], tpr_list[i], color_set[i], label = f'{label_name[i]} AUC = {auc_value_list[i]:.4f}')\n",
    "    plt.legend(loc = 'lower right')\n",
    "    plt.plot([0, 1], [0, 1],'r--')\n",
    "    plt.xlim([0, 1])\n",
    "    plt.ylim([0, 1])\n",
    "    plt.ylabel('True Positive Rate')\n",
    "    plt.xlabel('False Positive Rate')\n",
    "    plt.show()"
   ]
  },
  {
   "cell_type": "markdown",
   "metadata": {
    "id": "2mY3npruX4Y3"
   },
   "source": [
    "## Training the model"
   ]
  },
  {
   "cell_type": "markdown",
   "metadata": {
    "id": "FmEHCG4OX68e"
   },
   "source": [
    "### Train on Data4"
   ]
  },
  {
   "cell_type": "code",
   "execution_count": null,
   "metadata": {
    "colab": {
     "base_uri": "https://localhost:8080/",
     "height": 830
    },
    "executionInfo": {
     "elapsed": 1468,
     "status": "ok",
     "timestamp": 1647707585522,
     "user": {
      "displayName": "Chuan Bin Phoe",
      "photoUrl": "https://lh3.googleusercontent.com/a/default-user=s64",
      "userId": "05567159451591599581"
     },
     "user_tz": -480
    },
    "id": "KB-CY21yfPOM",
    "outputId": "41ab57cc-0675-4fe4-ddb9-076b19f94710"
   },
   "outputs": [
    {
     "data": {
      "text/html": [
       "\n",
       "  <div id=\"df-cfcc130b-cbc5-4a25-be95-6096c46e12c9\">\n",
       "    <div class=\"colab-df-container\">\n",
       "      <div>\n",
       "<style scoped>\n",
       "    .dataframe tbody tr th:only-of-type {\n",
       "        vertical-align: middle;\n",
       "    }\n",
       "\n",
       "    .dataframe tbody tr th {\n",
       "        vertical-align: top;\n",
       "    }\n",
       "\n",
       "    .dataframe thead th {\n",
       "        text-align: right;\n",
       "    }\n",
       "</style>\n",
       "<table border=\"1\" class=\"dataframe\">\n",
       "  <thead>\n",
       "    <tr style=\"text-align: right;\">\n",
       "      <th></th>\n",
       "      <th>text_cleaned</th>\n",
       "      <th>Label</th>\n",
       "    </tr>\n",
       "  </thead>\n",
       "  <tbody>\n",
       "    <tr>\n",
       "      <th>528914</th>\n",
       "      <td>to all my brothers and sisters</td>\n",
       "      <td>1</td>\n",
       "    </tr>\n",
       "    <tr>\n",
       "      <th>352304</th>\n",
       "      <td>read it andweep bears</td>\n",
       "      <td>1</td>\n",
       "    </tr>\n",
       "    <tr>\n",
       "      <th>478824</th>\n",
       "      <td>hodl</td>\n",
       "      <td>1</td>\n",
       "    </tr>\n",
       "    <tr>\n",
       "      <th>304090</th>\n",
       "      <td>crypto you never let me down</td>\n",
       "      <td>1</td>\n",
       "    </tr>\n",
       "    <tr>\n",
       "      <th>555917</th>\n",
       "      <td>dont say we didnt warn you</td>\n",
       "      <td>0</td>\n",
       "    </tr>\n",
       "    <tr>\n",
       "      <th>...</th>\n",
       "      <td>...</td>\n",
       "      <td>...</td>\n",
       "    </tr>\n",
       "    <tr>\n",
       "      <th>597630</th>\n",
       "      <td>what a feeling its payday with cardano cardano...</td>\n",
       "      <td>1</td>\n",
       "    </tr>\n",
       "    <tr>\n",
       "      <th>307312</th>\n",
       "      <td>we just seeing movement because of ukraine and...</td>\n",
       "      <td>1</td>\n",
       "    </tr>\n",
       "    <tr>\n",
       "      <th>171242</th>\n",
       "      <td>by tomorrow</td>\n",
       "      <td>1</td>\n",
       "    </tr>\n",
       "    <tr>\n",
       "      <th>384867</th>\n",
       "      <td>back in at</td>\n",
       "      <td>1</td>\n",
       "    </tr>\n",
       "    <tr>\n",
       "      <th>59855</th>\n",
       "      <td>oil is going to drop from here on the monthly ...</td>\n",
       "      <td>0</td>\n",
       "    </tr>\n",
       "  </tbody>\n",
       "</table>\n",
       "<p>3200 rows × 2 columns</p>\n",
       "</div>\n",
       "      <button class=\"colab-df-convert\" onclick=\"convertToInteractive('df-cfcc130b-cbc5-4a25-be95-6096c46e12c9')\"\n",
       "              title=\"Convert this dataframe to an interactive table.\"\n",
       "              style=\"display:none;\">\n",
       "        \n",
       "  <svg xmlns=\"http://www.w3.org/2000/svg\" height=\"24px\"viewBox=\"0 0 24 24\"\n",
       "       width=\"24px\">\n",
       "    <path d=\"M0 0h24v24H0V0z\" fill=\"none\"/>\n",
       "    <path d=\"M18.56 5.44l.94 2.06.94-2.06 2.06-.94-2.06-.94-.94-2.06-.94 2.06-2.06.94zm-11 1L8.5 8.5l.94-2.06 2.06-.94-2.06-.94L8.5 2.5l-.94 2.06-2.06.94zm10 10l.94 2.06.94-2.06 2.06-.94-2.06-.94-.94-2.06-.94 2.06-2.06.94z\"/><path d=\"M17.41 7.96l-1.37-1.37c-.4-.4-.92-.59-1.43-.59-.52 0-1.04.2-1.43.59L10.3 9.45l-7.72 7.72c-.78.78-.78 2.05 0 2.83L4 21.41c.39.39.9.59 1.41.59.51 0 1.02-.2 1.41-.59l7.78-7.78 2.81-2.81c.8-.78.8-2.07 0-2.86zM5.41 20L4 18.59l7.72-7.72 1.47 1.35L5.41 20z\"/>\n",
       "  </svg>\n",
       "      </button>\n",
       "      \n",
       "  <style>\n",
       "    .colab-df-container {\n",
       "      display:flex;\n",
       "      flex-wrap:wrap;\n",
       "      gap: 12px;\n",
       "    }\n",
       "\n",
       "    .colab-df-convert {\n",
       "      background-color: #E8F0FE;\n",
       "      border: none;\n",
       "      border-radius: 50%;\n",
       "      cursor: pointer;\n",
       "      display: none;\n",
       "      fill: #1967D2;\n",
       "      height: 32px;\n",
       "      padding: 0 0 0 0;\n",
       "      width: 32px;\n",
       "    }\n",
       "\n",
       "    .colab-df-convert:hover {\n",
       "      background-color: #E2EBFA;\n",
       "      box-shadow: 0px 1px 2px rgba(60, 64, 67, 0.3), 0px 1px 3px 1px rgba(60, 64, 67, 0.15);\n",
       "      fill: #174EA6;\n",
       "    }\n",
       "\n",
       "    [theme=dark] .colab-df-convert {\n",
       "      background-color: #3B4455;\n",
       "      fill: #D2E3FC;\n",
       "    }\n",
       "\n",
       "    [theme=dark] .colab-df-convert:hover {\n",
       "      background-color: #434B5C;\n",
       "      box-shadow: 0px 1px 3px 1px rgba(0, 0, 0, 0.15);\n",
       "      filter: drop-shadow(0px 1px 2px rgba(0, 0, 0, 0.3));\n",
       "      fill: #FFFFFF;\n",
       "    }\n",
       "  </style>\n",
       "\n",
       "      <script>\n",
       "        const buttonEl =\n",
       "          document.querySelector('#df-cfcc130b-cbc5-4a25-be95-6096c46e12c9 button.colab-df-convert');\n",
       "        buttonEl.style.display =\n",
       "          google.colab.kernel.accessAllowed ? 'block' : 'none';\n",
       "\n",
       "        async function convertToInteractive(key) {\n",
       "          const element = document.querySelector('#df-cfcc130b-cbc5-4a25-be95-6096c46e12c9');\n",
       "          const dataTable =\n",
       "            await google.colab.kernel.invokeFunction('convertToInteractive',\n",
       "                                                     [key], {});\n",
       "          if (!dataTable) return;\n",
       "\n",
       "          const docLinkHtml = 'Like what you see? Visit the ' +\n",
       "            '<a target=\"_blank\" href=https://colab.research.google.com/notebooks/data_table.ipynb>data table notebook</a>'\n",
       "            + ' to learn more about interactive tables.';\n",
       "          element.innerHTML = '';\n",
       "          dataTable['output_type'] = 'display_data';\n",
       "          await google.colab.output.renderOutput(dataTable, element);\n",
       "          const docLink = document.createElement('div');\n",
       "          docLink.innerHTML = docLinkHtml;\n",
       "          element.appendChild(docLink);\n",
       "        }\n",
       "      </script>\n",
       "    </div>\n",
       "  </div>\n",
       "  "
      ],
      "text/plain": [
       "                                             text_cleaned  Label\n",
       "528914                     to all my brothers and sisters      1\n",
       "352304                              read it andweep bears      1\n",
       "478824                                               hodl      1\n",
       "304090                       crypto you never let me down      1\n",
       "555917                         dont say we didnt warn you      0\n",
       "...                                                   ...    ...\n",
       "597630  what a feeling its payday with cardano cardano...      1\n",
       "307312  we just seeing movement because of ukraine and...      1\n",
       "171242                                        by tomorrow      1\n",
       "384867                                         back in at      1\n",
       "59855   oil is going to drop from here on the monthly ...      0\n",
       "\n",
       "[3200 rows x 2 columns]"
      ]
     },
     "metadata": {},
     "output_type": "display_data"
    },
    {
     "data": {
      "text/html": [
       "\n",
       "  <div id=\"df-602c3533-fb75-4e01-9359-fbfffb9fc888\">\n",
       "    <div class=\"colab-df-container\">\n",
       "      <div>\n",
       "<style scoped>\n",
       "    .dataframe tbody tr th:only-of-type {\n",
       "        vertical-align: middle;\n",
       "    }\n",
       "\n",
       "    .dataframe tbody tr th {\n",
       "        vertical-align: top;\n",
       "    }\n",
       "\n",
       "    .dataframe thead th {\n",
       "        text-align: right;\n",
       "    }\n",
       "</style>\n",
       "<table border=\"1\" class=\"dataframe\">\n",
       "  <thead>\n",
       "    <tr style=\"text-align: right;\">\n",
       "      <th></th>\n",
       "      <th>text_cleaned</th>\n",
       "      <th>Label</th>\n",
       "    </tr>\n",
       "  </thead>\n",
       "  <tbody>\n",
       "    <tr>\n",
       "      <th>194030</th>\n",
       "      <td>thanks for the lay up bears</td>\n",
       "      <td>1</td>\n",
       "    </tr>\n",
       "    <tr>\n",
       "      <th>503572</th>\n",
       "      <td>beautiful excited to see this xrp will rocket</td>\n",
       "      <td>1</td>\n",
       "    </tr>\n",
       "    <tr>\n",
       "      <th>85538</th>\n",
       "      <td>breaking news</td>\n",
       "      <td>0</td>\n",
       "    </tr>\n",
       "    <tr>\n",
       "      <th>49670</th>\n",
       "      <td>nuke talk is not cool</td>\n",
       "      <td>0</td>\n",
       "    </tr>\n",
       "    <tr>\n",
       "      <th>253918</th>\n",
       "      <td>bleed hard so i can add cheapies across the ma...</td>\n",
       "      <td>0</td>\n",
       "    </tr>\n",
       "    <tr>\n",
       "      <th>...</th>\n",
       "      <td>...</td>\n",
       "      <td>...</td>\n",
       "    </tr>\n",
       "    <tr>\n",
       "      <th>532383</th>\n",
       "      <td>worse and worseyikes</td>\n",
       "      <td>0</td>\n",
       "    </tr>\n",
       "    <tr>\n",
       "      <th>211305</th>\n",
       "      <td>liking the support on ma line</td>\n",
       "      <td>1</td>\n",
       "    </tr>\n",
       "    <tr>\n",
       "      <th>497002</th>\n",
       "      <td>here we come</td>\n",
       "      <td>1</td>\n",
       "    </tr>\n",
       "    <tr>\n",
       "      <th>636356</th>\n",
       "      <td>all coins are making cup and handle pattern ac...</td>\n",
       "      <td>1</td>\n",
       "    </tr>\n",
       "    <tr>\n",
       "      <th>264312</th>\n",
       "      <td>mrna will rally to this week</td>\n",
       "      <td>1</td>\n",
       "    </tr>\n",
       "  </tbody>\n",
       "</table>\n",
       "<p>800 rows × 2 columns</p>\n",
       "</div>\n",
       "      <button class=\"colab-df-convert\" onclick=\"convertToInteractive('df-602c3533-fb75-4e01-9359-fbfffb9fc888')\"\n",
       "              title=\"Convert this dataframe to an interactive table.\"\n",
       "              style=\"display:none;\">\n",
       "        \n",
       "  <svg xmlns=\"http://www.w3.org/2000/svg\" height=\"24px\"viewBox=\"0 0 24 24\"\n",
       "       width=\"24px\">\n",
       "    <path d=\"M0 0h24v24H0V0z\" fill=\"none\"/>\n",
       "    <path d=\"M18.56 5.44l.94 2.06.94-2.06 2.06-.94-2.06-.94-.94-2.06-.94 2.06-2.06.94zm-11 1L8.5 8.5l.94-2.06 2.06-.94-2.06-.94L8.5 2.5l-.94 2.06-2.06.94zm10 10l.94 2.06.94-2.06 2.06-.94-2.06-.94-.94-2.06-.94 2.06-2.06.94z\"/><path d=\"M17.41 7.96l-1.37-1.37c-.4-.4-.92-.59-1.43-.59-.52 0-1.04.2-1.43.59L10.3 9.45l-7.72 7.72c-.78.78-.78 2.05 0 2.83L4 21.41c.39.39.9.59 1.41.59.51 0 1.02-.2 1.41-.59l7.78-7.78 2.81-2.81c.8-.78.8-2.07 0-2.86zM5.41 20L4 18.59l7.72-7.72 1.47 1.35L5.41 20z\"/>\n",
       "  </svg>\n",
       "      </button>\n",
       "      \n",
       "  <style>\n",
       "    .colab-df-container {\n",
       "      display:flex;\n",
       "      flex-wrap:wrap;\n",
       "      gap: 12px;\n",
       "    }\n",
       "\n",
       "    .colab-df-convert {\n",
       "      background-color: #E8F0FE;\n",
       "      border: none;\n",
       "      border-radius: 50%;\n",
       "      cursor: pointer;\n",
       "      display: none;\n",
       "      fill: #1967D2;\n",
       "      height: 32px;\n",
       "      padding: 0 0 0 0;\n",
       "      width: 32px;\n",
       "    }\n",
       "\n",
       "    .colab-df-convert:hover {\n",
       "      background-color: #E2EBFA;\n",
       "      box-shadow: 0px 1px 2px rgba(60, 64, 67, 0.3), 0px 1px 3px 1px rgba(60, 64, 67, 0.15);\n",
       "      fill: #174EA6;\n",
       "    }\n",
       "\n",
       "    [theme=dark] .colab-df-convert {\n",
       "      background-color: #3B4455;\n",
       "      fill: #D2E3FC;\n",
       "    }\n",
       "\n",
       "    [theme=dark] .colab-df-convert:hover {\n",
       "      background-color: #434B5C;\n",
       "      box-shadow: 0px 1px 3px 1px rgba(0, 0, 0, 0.15);\n",
       "      filter: drop-shadow(0px 1px 2px rgba(0, 0, 0, 0.3));\n",
       "      fill: #FFFFFF;\n",
       "    }\n",
       "  </style>\n",
       "\n",
       "      <script>\n",
       "        const buttonEl =\n",
       "          document.querySelector('#df-602c3533-fb75-4e01-9359-fbfffb9fc888 button.colab-df-convert');\n",
       "        buttonEl.style.display =\n",
       "          google.colab.kernel.accessAllowed ? 'block' : 'none';\n",
       "\n",
       "        async function convertToInteractive(key) {\n",
       "          const element = document.querySelector('#df-602c3533-fb75-4e01-9359-fbfffb9fc888');\n",
       "          const dataTable =\n",
       "            await google.colab.kernel.invokeFunction('convertToInteractive',\n",
       "                                                     [key], {});\n",
       "          if (!dataTable) return;\n",
       "\n",
       "          const docLinkHtml = 'Like what you see? Visit the ' +\n",
       "            '<a target=\"_blank\" href=https://colab.research.google.com/notebooks/data_table.ipynb>data table notebook</a>'\n",
       "            + ' to learn more about interactive tables.';\n",
       "          element.innerHTML = '';\n",
       "          dataTable['output_type'] = 'display_data';\n",
       "          await google.colab.output.renderOutput(dataTable, element);\n",
       "          const docLink = document.createElement('div');\n",
       "          docLink.innerHTML = docLinkHtml;\n",
       "          element.appendChild(docLink);\n",
       "        }\n",
       "      </script>\n",
       "    </div>\n",
       "  </div>\n",
       "  "
      ],
      "text/plain": [
       "                                             text_cleaned  Label\n",
       "194030                        thanks for the lay up bears      1\n",
       "503572      beautiful excited to see this xrp will rocket      1\n",
       "85538                                       breaking news      0\n",
       "49670                               nuke talk is not cool      0\n",
       "253918  bleed hard so i can add cheapies across the ma...      0\n",
       "...                                                   ...    ...\n",
       "532383                               worse and worseyikes      0\n",
       "211305                      liking the support on ma line      1\n",
       "497002                                       here we come      1\n",
       "636356  all coins are making cup and handle pattern ac...      1\n",
       "264312                       mrna will rally to this week      1\n",
       "\n",
       "[800 rows x 2 columns]"
      ]
     },
     "metadata": {},
     "output_type": "display_data"
    }
   ],
   "source": [
    "data4_train_df, data4_val_df = data_reader.read_data4(\"bert\", True, 4000, 42)\n",
    "display(data4_train_df)\n",
    "display(data4_val_df)"
   ]
  },
  {
   "cell_type": "code",
   "execution_count": null,
   "metadata": {
    "id": "E0KRvKIW7Toa"
   },
   "outputs": [],
   "source": [
    "data4_train_filepath = \"data4_train.csv\"\n",
    "data4_val_filepath = \"data4_val.csv\"\n",
    "data4_bert_model = \"bert_model_data4.pt\"\n",
    "\n",
    "data4_train_df.to_csv(DATA_PATH+data4_train_filepath, index=False)\n",
    "data4_val_df.to_csv(DATA_PATH+data4_val_filepath, index=False)"
   ]
  },
  {
   "cell_type": "code",
   "execution_count": null,
   "metadata": {
    "colab": {
     "base_uri": "https://localhost:8080/",
     "height": 1000
    },
    "executionInfo": {
     "elapsed": 1470505,
     "status": "ok",
     "timestamp": 1647709056015,
     "user": {
      "displayName": "Chuan Bin Phoe",
      "photoUrl": "https://lh3.googleusercontent.com/a/default-user=s64",
      "userId": "05567159451591599581"
     },
     "user_tz": -480
    },
    "id": "4u3kEbY9mqpp",
    "outputId": "3f1e33bf-5403-441e-c710-5bf2014579fa"
   },
   "outputs": [
    {
     "name": "stderr",
     "output_type": "stream",
     "text": [
      "Truncation was not explicitly activated but `max_length` is provided a specific value, please use `truncation=True` to explicitly truncate examples to max length. Defaulting to 'longest_first' truncation strategy. If you encode pairs of sequences (GLUE-style) with the tokenizer you can select this strategy more precisely by providing a specific strategy to `truncation`.\n",
      "/usr/local/lib/python3.7/dist-packages/transformers/tokenization_utils_base.py:2277: FutureWarning: The `pad_to_max_length` argument is deprecated and will be removed in a future version, use `padding=True` or `padding='longest'` to pad to the longest sequence in the batch, or use `padding='max_length'` to pad to a max length. In this case, you can give a specific length with `max_length` (e.g. `max_length=45`) or leave max_length to None to pad to the maximal input size of the model (e.g. 512 for Bert).\n",
      "  FutureWarning,\n"
     ]
    },
    {
     "name": "stdout",
     "output_type": "stream",
     "text": [
      "Tokenizing data...\n"
     ]
    },
    {
     "name": "stderr",
     "output_type": "stream",
     "text": [
      "Some weights of the model checkpoint at bert-base-uncased were not used when initializing BertModel: ['cls.predictions.transform.dense.bias', 'cls.seq_relationship.bias', 'cls.predictions.transform.dense.weight', 'cls.predictions.transform.LayerNorm.bias', 'cls.predictions.decoder.weight', 'cls.seq_relationship.weight', 'cls.predictions.transform.LayerNorm.weight', 'cls.predictions.bias']\n",
      "- This IS expected if you are initializing BertModel from the checkpoint of a model trained on another task or with another architecture (e.g. initializing a BertForSequenceClassification model from a BertForPreTraining model).\n",
      "- This IS NOT expected if you are initializing BertModel from the checkpoint of a model that you expect to be exactly identical (initializing a BertForSequenceClassification model from a BertForSequenceClassification model).\n",
      "/usr/local/lib/python3.7/dist-packages/transformers/optimization.py:309: FutureWarning: This implementation of AdamW is deprecated and will be removed in a future version. Use the PyTorch implementation torch.optim.AdamW instead, or set `no_deprecation_warning=True` to disable this warning\n",
      "  FutureWarning,\n"
     ]
    },
    {
     "name": "stdout",
     "output_type": "stream",
     "text": [
      "Start training...\n",
      "\n",
      " Epoch  |  Batch  |  Train Loss  |  Val Loss  |  Val Acc  |  Elapsed \n",
      "----------------------------------------------------------------------\n",
      "   1    |   20    |   0.638984   |     -      |     -     |   27.27  \n",
      "   1    |   40    |   0.595983   |     -      |     -     |   26.27  \n",
      "   1    |   60    |   0.562525   |     -      |     -     |   26.74  \n",
      "   1    |   80    |   0.594259   |     -      |     -     |   27.07  \n",
      "   1    |   100   |   0.634949   |     -      |     -     |   26.78  \n",
      "   1    |   120   |   0.605246   |     -      |     -     |   26.45  \n",
      "   1    |   140   |   0.519552   |     -      |     -     |   26.56  \n",
      "   1    |   160   |   0.573495   |     -      |     -     |   26.26  \n",
      "   1    |   180   |   0.556770   |     -      |     -     |   26.26  \n",
      "   1    |   199   |   0.533461   |     -      |     -     |   25.34  \n",
      "----------------------------------------------------------------------\n",
      "   1    |    -    |   0.582050   |  0.523430  |   72.00   |  289.24  \n",
      "----------------------------------------------------------------------\n",
      "\n",
      "\n",
      " Epoch  |  Batch  |  Train Loss  |  Val Loss  |  Val Acc  |  Elapsed \n",
      "----------------------------------------------------------------------\n",
      "   2    |   20    |   0.473989   |     -      |     -     |   27.89  \n",
      "   2    |   40    |   0.471113   |     -      |     -     |   26.48  \n",
      "   2    |   60    |   0.396263   |     -      |     -     |   26.44  \n",
      "   2    |   80    |   0.419713   |     -      |     -     |   26.51  \n",
      "   2    |   100   |   0.495637   |     -      |     -     |   26.27  \n",
      "   2    |   120   |   0.453531   |     -      |     -     |   26.42  \n",
      "   2    |   140   |   0.479909   |     -      |     -     |   26.45  \n",
      "   2    |   160   |   0.419378   |     -      |     -     |   26.87  \n",
      "   2    |   180   |   0.457974   |     -      |     -     |   26.69  \n",
      "   2    |   199   |   0.424369   |     -      |     -     |   24.93  \n",
      "----------------------------------------------------------------------\n",
      "   2    |    -    |   0.449436   |  0.519721  |   76.88   |  289.15  \n",
      "----------------------------------------------------------------------\n",
      "\n",
      "\n",
      " Epoch  |  Batch  |  Train Loss  |  Val Loss  |  Val Acc  |  Elapsed \n",
      "----------------------------------------------------------------------\n",
      "   3    |   20    |   0.252989   |     -      |     -     |   28.25  \n",
      "   3    |   40    |   0.288139   |     -      |     -     |   26.61  \n",
      "   3    |   60    |   0.298719   |     -      |     -     |   26.62  \n",
      "   3    |   80    |   0.230563   |     -      |     -     |   26.55  \n",
      "   3    |   100   |   0.225527   |     -      |     -     |   26.48  \n",
      "   3    |   120   |   0.254528   |     -      |     -     |   26.47  \n",
      "   3    |   140   |   0.285724   |     -      |     -     |   26.42  \n",
      "   3    |   160   |   0.245241   |     -      |     -     |   26.37  \n",
      "   3    |   180   |   0.232207   |     -      |     -     |   26.49  \n",
      "   3    |   199   |   0.214672   |     -      |     -     |   25.06  \n",
      "----------------------------------------------------------------------\n",
      "   3    |    -    |   0.253022   |  0.664863  |   76.75   |  289.44  \n",
      "----------------------------------------------------------------------\n",
      "\n",
      "\n",
      " Epoch  |  Batch  |  Train Loss  |  Val Loss  |  Val Acc  |  Elapsed \n",
      "----------------------------------------------------------------------\n",
      "   4    |   20    |   0.151205   |     -      |     -     |   27.50  \n",
      "   4    |   40    |   0.118297   |     -      |     -     |   26.76  \n",
      "   4    |   60    |   0.087133   |     -      |     -     |   26.65  \n",
      "   4    |   80    |   0.118541   |     -      |     -     |   26.54  \n",
      "   4    |   100   |   0.156551   |     -      |     -     |   26.46  \n",
      "   4    |   120   |   0.204827   |     -      |     -     |   26.60  \n",
      "   4    |   140   |   0.091169   |     -      |     -     |   26.45  \n",
      "   4    |   160   |   0.170239   |     -      |     -     |   26.53  \n",
      "   4    |   180   |   0.122959   |     -      |     -     |   26.48  \n",
      "   4    |   199   |   0.163069   |     -      |     -     |   25.21  \n",
      "----------------------------------------------------------------------\n",
      "   4    |    -    |   0.138340   |  0.902393  |   76.75   |  289.36  \n",
      "----------------------------------------------------------------------\n",
      "\n",
      "\n",
      " Epoch  |  Batch  |  Train Loss  |  Val Loss  |  Val Acc  |  Elapsed \n",
      "----------------------------------------------------------------------\n",
      "   5    |   20    |   0.055492   |     -      |     -     |   27.66  \n",
      "   5    |   40    |   0.073858   |     -      |     -     |   26.25  \n",
      "   5    |   60    |   0.058892   |     -      |     -     |   26.23  \n",
      "   5    |   80    |   0.093116   |     -      |     -     |   26.23  \n",
      "   5    |   100   |   0.053152   |     -      |     -     |   26.19  \n",
      "   5    |   120   |   0.102582   |     -      |     -     |   26.19  \n",
      "   5    |   140   |   0.054987   |     -      |     -     |   26.18  \n",
      "   5    |   160   |   0.102079   |     -      |     -     |   26.16  \n",
      "   5    |   180   |   0.068119   |     -      |     -     |   26.17  \n",
      "   5    |   199   |   0.077569   |     -      |     -     |   24.87  \n",
      "----------------------------------------------------------------------\n",
      "   5    |    -    |   0.073874   |  1.002940  |   77.00   |  286.29  \n",
      "----------------------------------------------------------------------\n",
      "\n",
      "\n",
      "Training complete!\n",
      "\n",
      "\n",
      "F1-Score and Confusion Matrix of the Validation Set\n",
      "\n",
      "              precision    recall  f1-score   support\n",
      "\n",
      "           0     0.5843    0.4860    0.5306       214\n",
      "           1     0.8232    0.8737    0.8477       586\n",
      "\n",
      "    accuracy                         0.7700       800\n",
      "   macro avg     0.7037    0.6799    0.6891       800\n",
      "weighted avg     0.7593    0.7700    0.7629       800\n",
      "\n",
      "\n",
      "\n"
     ]
    },
    {
     "data": {
      "image/png": "[encoded data removed]",
      "text/plain": [
       "<Figure size 576x432 with 2 Axes>"
      ]
     },
     "metadata": {
      "needs_background": "light"
     },
     "output_type": "display_data"
    }
   ],
   "source": [
    "loss_fn = nn.CrossEntropyLoss()\n",
    "batch_size = 16\n",
    "epo = 5\n",
    "\n",
    "# load the data\n",
    "train_loader, val_loader, y_val_data4 = create_data_loader(root=DATA_PATH,\n",
    "                                                     train_filename=data4_train_filepath,\n",
    "                                                     dev_filename=data4_val_filepath,\n",
    "                                                     batch_size=batch_size)\n",
    "\n",
    "set_seed(42)\n",
    "# initalise the model\n",
    "bert_classifier, optimizer, scheduler = initialize_model(train_loader,epochs=epo)\n",
    "\n",
    "# train the model\n",
    "true_list, pred_list = train(model=bert_classifier,\n",
    "                             root_path=SAVED_MODEL_PATH,\n",
    "                             filepath=data4_bert_model,\n",
    "                             train_dataloader=train_loader, \n",
    "                             val_dataloader=val_loader, \n",
    "                             epochs=epo, \n",
    "                             evaluation=True)\n",
    "\n",
    "# get confusion matrix\n",
    "f1_confusion_matrix(true_list, pred_list)"
   ]
  },
  {
   "cell_type": "code",
   "execution_count": null,
   "metadata": {
    "colab": {
     "base_uri": "https://localhost:8080/",
     "height": 479
    },
    "executionInfo": {
     "elapsed": 28511,
     "status": "ok",
     "timestamp": 1647714618028,
     "user": {
      "displayName": "Chuan Bin Phoe",
      "photoUrl": "https://lh3.googleusercontent.com/a/default-user=s64",
      "userId": "05567159451591599581"
     },
     "user_tz": -480
    },
    "id": "dV9kAsk5om8r",
    "outputId": "16b6cff8-9752-4193-d4db-70878abd3037"
   },
   "outputs": [
    {
     "name": "stderr",
     "output_type": "stream",
     "text": [
      "Some weights of the model checkpoint at bert-base-uncased were not used when initializing BertModel: ['cls.predictions.decoder.weight', 'cls.predictions.transform.dense.bias', 'cls.seq_relationship.bias', 'cls.predictions.transform.dense.weight', 'cls.seq_relationship.weight', 'cls.predictions.bias', 'cls.predictions.transform.LayerNorm.weight', 'cls.predictions.transform.LayerNorm.bias']\n",
      "- This IS expected if you are initializing BertModel from the checkpoint of a model trained on another task or with another architecture (e.g. initializing a BertForSequenceClassification model from a BertForPreTraining model).\n",
      "- This IS NOT expected if you are initializing BertModel from the checkpoint of a model that you expect to be exactly identical (initializing a BertForSequenceClassification model from a BertForSequenceClassification model).\n",
      "/usr/local/lib/python3.7/dist-packages/transformers/optimization.py:309: FutureWarning: This implementation of AdamW is deprecated and will be removed in a future version. Use the PyTorch implementation torch.optim.AdamW instead, or set `no_deprecation_warning=True` to disable this warning\n",
      "  FutureWarning,\n"
     ]
    },
    {
     "name": "stdout",
     "output_type": "stream",
     "text": [
      "AUC: 0.7656\n",
      "Accuracy: 76.88%\n",
      "\n",
      "ROC Curve\n"
     ]
    },
    {
     "data": {
      "image/png": "[encoded data removed]",
      "text/plain": [
       "<Figure size 432x288 with 1 Axes>"
      ]
     },
     "metadata": {
      "needs_background": "light"
     },
     "output_type": "display_data"
    }
   ],
   "source": [
    "# call the saved weights\n",
    "PATH = SAVED_MODEL_PATH+data4_bert_model\n",
    "model, _, _ = initialize_model(train_loader,epochs=5)\n",
    "model.load_state_dict(torch.load(PATH))\n",
    "\n",
    "# Compute predicted probabilities on the validation set\n",
    "data4_bert_probs = bert_predict(model, val_loader)\n",
    "\n",
    "# Evaluate ROC-AUC\n",
    "evaluate_roc(data4_bert_probs, y_val_data4)"
   ]
  },
  {
   "cell_type": "markdown",
   "metadata": {
    "id": "jYMSJRUMXtyU"
   },
   "source": [
    "### Test on Data 1, 2, 3"
   ]
  },
  {
   "cell_type": "code",
   "execution_count": null,
   "metadata": {
    "id": "nTeVQHBXKpnS"
   },
   "outputs": [],
   "source": [
    "def argmax(iterable):\n",
    "    return max(enumerate(iterable), key=lambda x: x[1])[0]"
   ]
  },
  {
   "cell_type": "code",
   "execution_count": null,
   "metadata": {
    "colab": {
     "base_uri": "https://localhost:8080/"
    },
    "executionInfo": {
     "elapsed": 703,
     "status": "ok",
     "timestamp": 1647711149108,
     "user": {
      "displayName": "Chuan Bin Phoe",
      "photoUrl": "https://lh3.googleusercontent.com/a/default-user=s64",
      "userId": "05567159451591599581"
     },
     "user_tz": -480
    },
    "id": "Eq0fii_DB9Qo",
    "outputId": "332242ab-5ecb-4136-ac3e-e1f457ba0cf8"
   },
   "outputs": [
    {
     "name": "stderr",
     "output_type": "stream",
     "text": [
      "./drive/MyDrive/FYP_U1821679J/data_reader.py:60: FutureWarning: The default value of regex will change from True to False in a future version.\n",
      "  stocktwit_df[col_name] = stocktwit_df[col_name].str.replace(r'([$][a-zA-z\\.]{1,8})', '')\n",
      "./drive/MyDrive/FYP_U1821679J/data_reader.py:70: FutureWarning: The default value of regex will change from True to False in a future version.\n",
      "  stocktwit_df[col_name] = stocktwit_df[col_name].str.replace(r'(@[^\\s]+|[#]|[$])', ' ')  # Replace '@', '$' and '#...'\n",
      "./drive/MyDrive/FYP_U1821679J/data_reader.py:71: FutureWarning: The default value of regex will change from True to False in a future version.\n",
      "  stocktwit_df[col_name] = stocktwit_df[col_name].str.replace(r'(\\n|\\r)', ' ')  # Replace page breaks\n",
      "./drive/MyDrive/FYP_U1821679J/data_reader.py:74: FutureWarning: The default value of regex will change from True to False in a future version.\n",
      "  stocktwit_df[col_name] = stocktwit_df[col_name].str.replace(r'((https:|http:)[^\\s]+|(www\\.)[^\\s]+)', ' ')\n",
      "./drive/MyDrive/FYP_U1821679J/data_reader.py:77: FutureWarning: The default value of regex will change from True to False in a future version.\n",
      "  stocktwit_df[col_name] = stocktwit_df[col_name].str.replace(r'[\\d]', '')\n"
     ]
    }
   ],
   "source": [
    "data1 = data_reader.read_data1(\"dataframe\", True)\n",
    "data2 = data_reader.read_data2(\"dataframe\", True)\n",
    "data3 = data_reader.read_data3(\"dataframe\", True)"
   ]
  },
  {
   "cell_type": "code",
   "execution_count": null,
   "metadata": {
    "id": "tBmdXLEqYydD"
   },
   "outputs": [],
   "source": [
    "data1_test_filepath = \"data1_test.csv\"\n",
    "data2_test_filepath = \"data2_test.csv\"\n",
    "data3_test_filepath = \"data3_test.csv\"\n",
    "\n",
    "data1.to_csv(DATA_PATH+data1_test_filepath, index=False)\n",
    "data2.to_csv(DATA_PATH+data2_test_filepath, index=False)\n",
    "data3.to_csv(DATA_PATH+data3_test_filepath, index=False)"
   ]
  },
  {
   "cell_type": "code",
   "execution_count": null,
   "metadata": {
    "colab": {
     "base_uri": "https://localhost:8080/",
     "height": 346
    },
    "executionInfo": {
     "elapsed": 148108,
     "status": "ok",
     "timestamp": 1647710436229,
     "user": {
      "displayName": "Chuan Bin Phoe",
      "photoUrl": "https://lh3.googleusercontent.com/a/default-user=s64",
      "userId": "05567159451591599581"
     },
     "user_tz": -480
    },
    "id": "lXzLoyL6pQNw",
    "outputId": "d8275d8a-5c62-4c59-a183-0d54c8a03ec3"
   },
   "outputs": [
    {
     "name": "stderr",
     "output_type": "stream",
     "text": [
      "Some weights of the model checkpoint at bert-base-uncased were not used when initializing BertModel: ['cls.predictions.transform.dense.bias', 'cls.seq_relationship.bias', 'cls.predictions.transform.dense.weight', 'cls.predictions.transform.LayerNorm.bias', 'cls.predictions.decoder.weight', 'cls.seq_relationship.weight', 'cls.predictions.transform.LayerNorm.weight', 'cls.predictions.bias']\n",
      "- This IS expected if you are initializing BertModel from the checkpoint of a model trained on another task or with another architecture (e.g. initializing a BertForSequenceClassification model from a BertForPreTraining model).\n",
      "- This IS NOT expected if you are initializing BertModel from the checkpoint of a model that you expect to be exactly identical (initializing a BertForSequenceClassification model from a BertForSequenceClassification model).\n",
      "/usr/local/lib/python3.7/dist-packages/transformers/optimization.py:309: FutureWarning: This implementation of AdamW is deprecated and will be removed in a future version. Use the PyTorch implementation torch.optim.AdamW instead, or set `no_deprecation_warning=True` to disable this warning\n",
      "  FutureWarning,\n",
      "/usr/local/lib/python3.7/dist-packages/transformers/tokenization_utils_base.py:2277: FutureWarning: The `pad_to_max_length` argument is deprecated and will be removed in a future version, use `padding=True` or `padding='longest'` to pad to the longest sequence in the batch, or use `padding='max_length'` to pad to a max length. In this case, you can give a specific length with `max_length` (e.g. `max_length=45`) or leave max_length to None to pad to the maximal input size of the model (e.g. 512 for Bert).\n",
      "  FutureWarning,\n"
     ]
    },
    {
     "name": "stdout",
     "output_type": "stream",
     "text": [
      "Tokenizing data...\n",
      "Tokenizing data...\n",
      "Tokenizing data...\n"
     ]
    },
    {
     "data": {
      "text/html": [
       "\n",
       "  <div id=\"df-887b075a-4904-48ee-83c9-f5fc5151bacf\">\n",
       "    <div class=\"colab-df-container\">\n",
       "      <div>\n",
       "<style scoped>\n",
       "    .dataframe tbody tr th:only-of-type {\n",
       "        vertical-align: middle;\n",
       "    }\n",
       "\n",
       "    .dataframe tbody tr th {\n",
       "        vertical-align: top;\n",
       "    }\n",
       "\n",
       "    .dataframe thead th {\n",
       "        text-align: right;\n",
       "    }\n",
       "</style>\n",
       "<table border=\"1\" class=\"dataframe\">\n",
       "  <thead>\n",
       "    <tr style=\"text-align: right;\">\n",
       "      <th></th>\n",
       "      <th>Experiment</th>\n",
       "      <th>Accuracy</th>\n",
       "      <th>Precision</th>\n",
       "      <th>Recall</th>\n",
       "      <th>F1_score</th>\n",
       "    </tr>\n",
       "  </thead>\n",
       "  <tbody>\n",
       "    <tr>\n",
       "      <th>0</th>\n",
       "      <td>data1</td>\n",
       "      <td>0.705388</td>\n",
       "      <td>0.721362</td>\n",
       "      <td>0.888635</td>\n",
       "      <td>0.796309</td>\n",
       "    </tr>\n",
       "    <tr>\n",
       "      <th>1</th>\n",
       "      <td>data2</td>\n",
       "      <td>0.635429</td>\n",
       "      <td>0.633676</td>\n",
       "      <td>0.935484</td>\n",
       "      <td>0.755556</td>\n",
       "    </tr>\n",
       "    <tr>\n",
       "      <th>2</th>\n",
       "      <td>data3</td>\n",
       "      <td>0.720930</td>\n",
       "      <td>0.703917</td>\n",
       "      <td>0.901180</td>\n",
       "      <td>0.790427</td>\n",
       "    </tr>\n",
       "  </tbody>\n",
       "</table>\n",
       "</div>\n",
       "      <button class=\"colab-df-convert\" onclick=\"convertToInteractive('df-887b075a-4904-48ee-83c9-f5fc5151bacf')\"\n",
       "              title=\"Convert this dataframe to an interactive table.\"\n",
       "              style=\"display:none;\">\n",
       "        \n",
       "  <svg xmlns=\"http://www.w3.org/2000/svg\" height=\"24px\"viewBox=\"0 0 24 24\"\n",
       "       width=\"24px\">\n",
       "    <path d=\"M0 0h24v24H0V0z\" fill=\"none\"/>\n",
       "    <path d=\"M18.56 5.44l.94 2.06.94-2.06 2.06-.94-2.06-.94-.94-2.06-.94 2.06-2.06.94zm-11 1L8.5 8.5l.94-2.06 2.06-.94-2.06-.94L8.5 2.5l-.94 2.06-2.06.94zm10 10l.94 2.06.94-2.06 2.06-.94-2.06-.94-.94-2.06-.94 2.06-2.06.94z\"/><path d=\"M17.41 7.96l-1.37-1.37c-.4-.4-.92-.59-1.43-.59-.52 0-1.04.2-1.43.59L10.3 9.45l-7.72 7.72c-.78.78-.78 2.05 0 2.83L4 21.41c.39.39.9.59 1.41.59.51 0 1.02-.2 1.41-.59l7.78-7.78 2.81-2.81c.8-.78.8-2.07 0-2.86zM5.41 20L4 18.59l7.72-7.72 1.47 1.35L5.41 20z\"/>\n",
       "  </svg>\n",
       "      </button>\n",
       "      \n",
       "  <style>\n",
       "    .colab-df-container {\n",
       "      display:flex;\n",
       "      flex-wrap:wrap;\n",
       "      gap: 12px;\n",
       "    }\n",
       "\n",
       "    .colab-df-convert {\n",
       "      background-color: #E8F0FE;\n",
       "      border: none;\n",
       "      border-radius: 50%;\n",
       "      cursor: pointer;\n",
       "      display: none;\n",
       "      fill: #1967D2;\n",
       "      height: 32px;\n",
       "      padding: 0 0 0 0;\n",
       "      width: 32px;\n",
       "    }\n",
       "\n",
       "    .colab-df-convert:hover {\n",
       "      background-color: #E2EBFA;\n",
       "      box-shadow: 0px 1px 2px rgba(60, 64, 67, 0.3), 0px 1px 3px 1px rgba(60, 64, 67, 0.15);\n",
       "      fill: #174EA6;\n",
       "    }\n",
       "\n",
       "    [theme=dark] .colab-df-convert {\n",
       "      background-color: #3B4455;\n",
       "      fill: #D2E3FC;\n",
       "    }\n",
       "\n",
       "    [theme=dark] .colab-df-convert:hover {\n",
       "      background-color: #434B5C;\n",
       "      box-shadow: 0px 1px 3px 1px rgba(0, 0, 0, 0.15);\n",
       "      filter: drop-shadow(0px 1px 2px rgba(0, 0, 0, 0.3));\n",
       "      fill: #FFFFFF;\n",
       "    }\n",
       "  </style>\n",
       "\n",
       "      <script>\n",
       "        const buttonEl =\n",
       "          document.querySelector('#df-887b075a-4904-48ee-83c9-f5fc5151bacf button.colab-df-convert');\n",
       "        buttonEl.style.display =\n",
       "          google.colab.kernel.accessAllowed ? 'block' : 'none';\n",
       "\n",
       "        async function convertToInteractive(key) {\n",
       "          const element = document.querySelector('#df-887b075a-4904-48ee-83c9-f5fc5151bacf');\n",
       "          const dataTable =\n",
       "            await google.colab.kernel.invokeFunction('convertToInteractive',\n",
       "                                                     [key], {});\n",
       "          if (!dataTable) return;\n",
       "\n",
       "          const docLinkHtml = 'Like what you see? Visit the ' +\n",
       "            '<a target=\"_blank\" href=https://colab.research.google.com/notebooks/data_table.ipynb>data table notebook</a>'\n",
       "            + ' to learn more about interactive tables.';\n",
       "          element.innerHTML = '';\n",
       "          dataTable['output_type'] = 'display_data';\n",
       "          await google.colab.output.renderOutput(dataTable, element);\n",
       "          const docLink = document.createElement('div');\n",
       "          docLink.innerHTML = docLinkHtml;\n",
       "          element.appendChild(docLink);\n",
       "        }\n",
       "      </script>\n",
       "    </div>\n",
       "  </div>\n",
       "  "
      ],
      "text/plain": [
       "  Experiment  Accuracy  Precision    Recall  F1_score\n",
       "0      data1  0.705388   0.721362  0.888635  0.796309\n",
       "1      data2  0.635429   0.633676  0.935484  0.755556\n",
       "2      data3  0.720930   0.703917  0.901180  0.790427"
      ]
     },
     "metadata": {},
     "output_type": "display_data"
    }
   ],
   "source": [
    "results_df = pd.DataFrame()\n",
    "\n",
    "# call the saved weights\n",
    "PATH = SAVED_MODEL_PATH+data4_bert_model\n",
    "model, _, _ = initialize_model(train_loader,epochs=epo)\n",
    "model.load_state_dict(torch.load(PATH))\n",
    "\n",
    "# Compute predicted probabilities on the validation set\n",
    "_, val_loader_1, y_class_1 = create_data_loader(root=DATA_PATH,\n",
    "                                          train_filename=data1_test_filepath,\n",
    "                                          dev_filename=data1_test_filepath,\n",
    "                                          batch_size=batch_size)\n",
    "\n",
    "_, val_loader_2, y_class_2 = create_data_loader(root=DATA_PATH,\n",
    "                                          train_filename=data2_test_filepath,\n",
    "                                          dev_filename=data2_test_filepath,\n",
    "                                          batch_size=batch_size)\n",
    "\n",
    "_, val_loader_3, y_class_3 = create_data_loader(root=DATA_PATH,\n",
    "                                          train_filename=data3_test_filepath,\n",
    "                                          dev_filename=data3_test_filepath,\n",
    "                                          batch_size=batch_size)\n",
    "\n",
    "data4_bert_probs_test1 = bert_predict(model, val_loader_1)\n",
    "data4_pred_class_test1 = [argmax(prob) for prob in data4_bert_probs_test1]\n",
    "\n",
    "data4_bert_probs_test2 = bert_predict(model, val_loader_2)\n",
    "data4_pred_class_test2 = [argmax(prob) for prob in data4_bert_probs_test2]\n",
    "\n",
    "data4_bert_probs_test3 = bert_predict(model, val_loader_3)\n",
    "data4_pred_class_test3 = [argmax(prob) for prob in data4_bert_probs_test3]\n",
    "\n",
    "\n",
    "results_df = results_analyser.calculate_metrics(results_df, y_class_1, data4_pred_class_test1, \"data1\")\n",
    "results_df = results_analyser.calculate_metrics(results_df, y_class_2, data4_pred_class_test2, \"data2\")\n",
    "results_df = results_analyser.calculate_metrics(results_df, y_class_3, data4_pred_class_test3, \"data3\")\n",
    "display(results_df)"
   ]
  },
  {
   "cell_type": "markdown",
   "metadata": {
    "id": "8cH7Ukeblr9R"
   },
   "source": [
    "### Train on Data1"
   ]
  },
  {
   "cell_type": "code",
   "execution_count": null,
   "metadata": {
    "id": "vfpD2xHrlr9X"
   },
   "outputs": [],
   "source": [
    "data1_train_df = data1.sample(frac=0.8,random_state=42)\n",
    "data1_val_df = data1.drop(data1_train_df.index)\n",
    "\n",
    "data1_train_filepath = \"data1_train.csv\"\n",
    "data1_val_filepath = \"data1_val.csv\"\n",
    "data1_bert_model = \"bert_model_data1.pt\"\n",
    "\n",
    "data1_train_df.to_csv(DATA_PATH+data1_train_filepath, index=False)\n",
    "data1_val_df.to_csv(DATA_PATH+data1_val_filepath, index=False)"
   ]
  },
  {
   "cell_type": "code",
   "execution_count": null,
   "metadata": {
    "colab": {
     "base_uri": "https://localhost:8080/",
     "height": 1000
    },
    "executionInfo": {
     "elapsed": 735072,
     "status": "ok",
     "timestamp": 1647711899494,
     "user": {
      "displayName": "Chuan Bin Phoe",
      "photoUrl": "https://lh3.googleusercontent.com/a/default-user=s64",
      "userId": "05567159451591599581"
     },
     "user_tz": -480
    },
    "id": "rGLSEvIWlr9X",
    "outputId": "a9e3c04d-6e45-4dd7-b4b9-16e578b151e3"
   },
   "outputs": [
    {
     "name": "stderr",
     "output_type": "stream",
     "text": [
      "Truncation was not explicitly activated but `max_length` is provided a specific value, please use `truncation=True` to explicitly truncate examples to max length. Defaulting to 'longest_first' truncation strategy. If you encode pairs of sequences (GLUE-style) with the tokenizer you can select this strategy more precisely by providing a specific strategy to `truncation`.\n",
      "/usr/local/lib/python3.7/dist-packages/transformers/tokenization_utils_base.py:2277: FutureWarning: The `pad_to_max_length` argument is deprecated and will be removed in a future version, use `padding=True` or `padding='longest'` to pad to the longest sequence in the batch, or use `padding='max_length'` to pad to a max length. In this case, you can give a specific length with `max_length` (e.g. `max_length=45`) or leave max_length to None to pad to the maximal input size of the model (e.g. 512 for Bert).\n",
      "  FutureWarning,\n"
     ]
    },
    {
     "name": "stdout",
     "output_type": "stream",
     "text": [
      "Tokenizing data...\n"
     ]
    },
    {
     "name": "stderr",
     "output_type": "stream",
     "text": [
      "Some weights of the model checkpoint at bert-base-uncased were not used when initializing BertModel: ['cls.predictions.decoder.weight', 'cls.predictions.transform.dense.bias', 'cls.seq_relationship.bias', 'cls.predictions.transform.dense.weight', 'cls.seq_relationship.weight', 'cls.predictions.bias', 'cls.predictions.transform.LayerNorm.weight', 'cls.predictions.transform.LayerNorm.bias']\n",
      "- This IS expected if you are initializing BertModel from the checkpoint of a model trained on another task or with another architecture (e.g. initializing a BertForSequenceClassification model from a BertForPreTraining model).\n",
      "- This IS NOT expected if you are initializing BertModel from the checkpoint of a model that you expect to be exactly identical (initializing a BertForSequenceClassification model from a BertForSequenceClassification model).\n",
      "/usr/local/lib/python3.7/dist-packages/transformers/optimization.py:309: FutureWarning: This implementation of AdamW is deprecated and will be removed in a future version. Use the PyTorch implementation torch.optim.AdamW instead, or set `no_deprecation_warning=True` to disable this warning\n",
      "  FutureWarning,\n"
     ]
    },
    {
     "name": "stdout",
     "output_type": "stream",
     "text": [
      "Start training...\n",
      "\n",
      " Epoch  |  Batch  |  Train Loss  |  Val Loss  |  Val Acc  |  Elapsed \n",
      "----------------------------------------------------------------------\n",
      "   1    |   20    |   0.672365   |     -      |     -     |   26.92  \n",
      "   1    |   40    |   0.620831   |     -      |     -     |   25.97  \n",
      "   1    |   60    |   0.594893   |     -      |     -     |   26.16  \n",
      "   1    |   80    |   0.551832   |     -      |     -     |   26.09  \n",
      "   1    |   100   |   0.479237   |     -      |     -     |   26.15  \n",
      "   1    |   101   |   0.914907   |     -      |     -     |   0.26   \n",
      "----------------------------------------------------------------------\n",
      "   1    |    -    |   0.587945   |  0.435307  |   79.90   |  143.78  \n",
      "----------------------------------------------------------------------\n",
      "\n",
      "\n",
      " Epoch  |  Batch  |  Train Loss  |  Val Loss  |  Val Acc  |  Elapsed \n",
      "----------------------------------------------------------------------\n",
      "   2    |   20    |   0.338706   |     -      |     -     |   27.36  \n",
      "   2    |   40    |   0.320645   |     -      |     -     |   26.11  \n",
      "   2    |   60    |   0.309799   |     -      |     -     |   26.08  \n",
      "   2    |   80    |   0.285725   |     -      |     -     |   26.11  \n",
      "   2    |   100   |   0.274328   |     -      |     -     |   26.11  \n",
      "   2    |   101   |   0.042380   |     -      |     -     |   0.25   \n",
      "----------------------------------------------------------------------\n",
      "   2    |    -    |   0.303580   |  0.372742  |   85.29   |  144.25  \n",
      "----------------------------------------------------------------------\n",
      "\n",
      "\n",
      " Epoch  |  Batch  |  Train Loss  |  Val Loss  |  Val Acc  |  Elapsed \n",
      "----------------------------------------------------------------------\n",
      "   3    |   20    |   0.114573   |     -      |     -     |   27.39  \n",
      "   3    |   40    |   0.201466   |     -      |     -     |   26.02  \n",
      "   3    |   60    |   0.138192   |     -      |     -     |   26.08  \n",
      "   3    |   80    |   0.208916   |     -      |     -     |   26.10  \n",
      "   3    |   100   |   0.163281   |     -      |     -     |   26.11  \n",
      "   3    |   101   |   0.142179   |     -      |     -     |   0.25   \n",
      "----------------------------------------------------------------------\n",
      "   3    |    -    |   0.164562   |  0.682615  |   81.92   |  144.17  \n",
      "----------------------------------------------------------------------\n",
      "\n",
      "\n",
      " Epoch  |  Batch  |  Train Loss  |  Val Loss  |  Val Acc  |  Elapsed \n",
      "----------------------------------------------------------------------\n",
      "   4    |   20    |   0.182127   |     -      |     -     |   27.38  \n",
      "   4    |   40    |   0.096375   |     -      |     -     |   26.11  \n",
      "   4    |   60    |   0.118903   |     -      |     -     |   26.17  \n",
      "   4    |   80    |   0.148176   |     -      |     -     |   26.14  \n",
      "   4    |   100   |   0.046793   |     -      |     -     |   26.40  \n",
      "   4    |   101   |   0.008522   |     -      |     -     |   0.23   \n",
      "----------------------------------------------------------------------\n",
      "   4    |    -    |   0.118021   |  0.523115  |   85.29   |  144.70  \n",
      "----------------------------------------------------------------------\n",
      "\n",
      "\n",
      " Epoch  |  Batch  |  Train Loss  |  Val Loss  |  Val Acc  |  Elapsed \n",
      "----------------------------------------------------------------------\n",
      "   5    |   20    |   0.055195   |     -      |     -     |   27.82  \n",
      "   5    |   40    |   0.050501   |     -      |     -     |   26.10  \n",
      "   5    |   60    |   0.082430   |     -      |     -     |   26.10  \n",
      "   5    |   80    |   0.095746   |     -      |     -     |   26.21  \n",
      "   5    |   100   |   0.102885   |     -      |     -     |   26.59  \n",
      "   5    |   101   |   0.011668   |     -      |     -     |   0.25   \n",
      "----------------------------------------------------------------------\n",
      "   5    |    -    |   0.076490   |  0.544809  |   87.02   |  145.33  \n",
      "----------------------------------------------------------------------\n",
      "\n",
      "\n",
      "Training complete!\n",
      "\n",
      "\n",
      "F1-Score and Confusion Matrix of the Validation Set\n",
      "\n",
      "              precision    recall  f1-score   support\n",
      "\n",
      "           0     0.8074    0.7956    0.8015       137\n",
      "           1     0.8963    0.9030    0.8996       268\n",
      "\n",
      "    accuracy                         0.8667       405\n",
      "   macro avg     0.8519    0.8493    0.8505       405\n",
      "weighted avg     0.8662    0.8667    0.8664       405\n",
      "\n",
      "\n",
      "\n"
     ]
    },
    {
     "data": {
      "image/png": "[encoded data removed]",
      "text/plain": [
       "<Figure size 576x432 with 2 Axes>"
      ]
     },
     "metadata": {
      "needs_background": "light"
     },
     "output_type": "display_data"
    }
   ],
   "source": [
    "loss_fn = nn.CrossEntropyLoss()\n",
    "batch_size = 16\n",
    "epo = 5\n",
    "\n",
    "# load the data\n",
    "train_loader, val_loader, y_val_data1 = create_data_loader(root=DATA_PATH,\n",
    "                                                     train_filename=data1_train_filepath,\n",
    "                                                     dev_filename=data1_val_filepath,\n",
    "                                                     batch_size=batch_size)\n",
    "\n",
    "set_seed(42)\n",
    "# initalise the model\n",
    "bert_classifier, optimizer, scheduler = initialize_model(train_loader,epochs=epo)\n",
    "\n",
    "# train the model\n",
    "true_list, pred_list = train(model=bert_classifier,\n",
    "                             root_path=SAVED_MODEL_PATH,\n",
    "                             filepath=data1_bert_model,\n",
    "                             train_dataloader=train_loader, \n",
    "                             val_dataloader=val_loader, \n",
    "                             epochs=epo, \n",
    "                             evaluation=True)\n",
    "\n",
    "# get confusion matrix\n",
    "f1_confusion_matrix(true_list, pred_list)"
   ]
  },
  {
   "cell_type": "code",
   "execution_count": null,
   "metadata": {
    "colab": {
     "base_uri": "https://localhost:8080/",
     "height": 479
    },
    "executionInfo": {
     "elapsed": 18566,
     "status": "ok",
     "timestamp": 1647711918526,
     "user": {
      "displayName": "Chuan Bin Phoe",
      "photoUrl": "https://lh3.googleusercontent.com/a/default-user=s64",
      "userId": "05567159451591599581"
     },
     "user_tz": -480
    },
    "id": "O1EC-FBDlr9Y",
    "outputId": "c24db42a-8abb-470a-c8fc-7651f71e3e6d"
   },
   "outputs": [
    {
     "name": "stderr",
     "output_type": "stream",
     "text": [
      "Some weights of the model checkpoint at bert-base-uncased were not used when initializing BertModel: ['cls.predictions.decoder.weight', 'cls.predictions.transform.dense.bias', 'cls.seq_relationship.bias', 'cls.predictions.transform.dense.weight', 'cls.seq_relationship.weight', 'cls.predictions.bias', 'cls.predictions.transform.LayerNorm.weight', 'cls.predictions.transform.LayerNorm.bias']\n",
      "- This IS expected if you are initializing BertModel from the checkpoint of a model trained on another task or with another architecture (e.g. initializing a BertForSequenceClassification model from a BertForPreTraining model).\n",
      "- This IS NOT expected if you are initializing BertModel from the checkpoint of a model that you expect to be exactly identical (initializing a BertForSequenceClassification model from a BertForSequenceClassification model).\n",
      "/usr/local/lib/python3.7/dist-packages/transformers/optimization.py:309: FutureWarning: This implementation of AdamW is deprecated and will be removed in a future version. Use the PyTorch implementation torch.optim.AdamW instead, or set `no_deprecation_warning=True` to disable this warning\n",
      "  FutureWarning,\n"
     ]
    },
    {
     "name": "stdout",
     "output_type": "stream",
     "text": [
      "AUC: 0.9154\n",
      "Accuracy: 85.43%\n",
      "\n",
      "ROC Curve\n"
     ]
    },
    {
     "data": {
      "image/png": "[encoded data removed]",
      "text/plain": [
       "<Figure size 432x288 with 1 Axes>"
      ]
     },
     "metadata": {
      "needs_background": "light"
     },
     "output_type": "display_data"
    }
   ],
   "source": [
    "# call the saved weights\n",
    "PATH = SAVED_MODEL_PATH+data1_bert_model\n",
    "model, _, _ = initialize_model(train_loader,epochs=epo)\n",
    "model.load_state_dict(torch.load(PATH))\n",
    "\n",
    "# Compute predicted probabilities on the validation set\n",
    "data1_bert_probs = bert_predict(model, val_loader)\n",
    "\n",
    "# Evaluate ROC-AUC\n",
    "evaluate_roc(data1_bert_probs, y_val_data1)"
   ]
  },
  {
   "cell_type": "markdown",
   "metadata": {
    "id": "195PyAhPqPkx"
   },
   "source": [
    "### Test on Data 1, 2, 3"
   ]
  },
  {
   "cell_type": "code",
   "execution_count": null,
   "metadata": {
    "colab": {
     "base_uri": "https://localhost:8080/",
     "height": 346
    },
    "executionInfo": {
     "elapsed": 149434,
     "status": "ok",
     "timestamp": 1647712067935,
     "user": {
      "displayName": "Chuan Bin Phoe",
      "photoUrl": "https://lh3.googleusercontent.com/a/default-user=s64",
      "userId": "05567159451591599581"
     },
     "user_tz": -480
    },
    "id": "VTnt9qMFMwBR",
    "outputId": "71e2b1f7-d7b6-4542-be36-8ff9ede83e72"
   },
   "outputs": [
    {
     "name": "stderr",
     "output_type": "stream",
     "text": [
      "Some weights of the model checkpoint at bert-base-uncased were not used when initializing BertModel: ['cls.predictions.decoder.weight', 'cls.predictions.transform.dense.bias', 'cls.seq_relationship.bias', 'cls.predictions.transform.dense.weight', 'cls.seq_relationship.weight', 'cls.predictions.bias', 'cls.predictions.transform.LayerNorm.weight', 'cls.predictions.transform.LayerNorm.bias']\n",
      "- This IS expected if you are initializing BertModel from the checkpoint of a model trained on another task or with another architecture (e.g. initializing a BertForSequenceClassification model from a BertForPreTraining model).\n",
      "- This IS NOT expected if you are initializing BertModel from the checkpoint of a model that you expect to be exactly identical (initializing a BertForSequenceClassification model from a BertForSequenceClassification model).\n",
      "/usr/local/lib/python3.7/dist-packages/transformers/optimization.py:309: FutureWarning: This implementation of AdamW is deprecated and will be removed in a future version. Use the PyTorch implementation torch.optim.AdamW instead, or set `no_deprecation_warning=True` to disable this warning\n",
      "  FutureWarning,\n",
      "/usr/local/lib/python3.7/dist-packages/transformers/tokenization_utils_base.py:2277: FutureWarning: The `pad_to_max_length` argument is deprecated and will be removed in a future version, use `padding=True` or `padding='longest'` to pad to the longest sequence in the batch, or use `padding='max_length'` to pad to a max length. In this case, you can give a specific length with `max_length` (e.g. `max_length=45`) or leave max_length to None to pad to the maximal input size of the model (e.g. 512 for Bert).\n",
      "  FutureWarning,\n"
     ]
    },
    {
     "name": "stdout",
     "output_type": "stream",
     "text": [
      "Tokenizing data...\n",
      "Tokenizing data...\n",
      "Tokenizing data...\n"
     ]
    },
    {
     "data": {
      "text/html": [
       "\n",
       "  <div id=\"df-82b9853e-1a91-456c-9e5e-99c124080b33\">\n",
       "    <div class=\"colab-df-container\">\n",
       "      <div>\n",
       "<style scoped>\n",
       "    .dataframe tbody tr th:only-of-type {\n",
       "        vertical-align: middle;\n",
       "    }\n",
       "\n",
       "    .dataframe tbody tr th {\n",
       "        vertical-align: top;\n",
       "    }\n",
       "\n",
       "    .dataframe thead th {\n",
       "        text-align: right;\n",
       "    }\n",
       "</style>\n",
       "<table border=\"1\" class=\"dataframe\">\n",
       "  <thead>\n",
       "    <tr style=\"text-align: right;\">\n",
       "      <th></th>\n",
       "      <th>Experiment</th>\n",
       "      <th>Accuracy</th>\n",
       "      <th>Precision</th>\n",
       "      <th>Recall</th>\n",
       "      <th>F1_score</th>\n",
       "    </tr>\n",
       "  </thead>\n",
       "  <tbody>\n",
       "    <tr>\n",
       "      <th>0</th>\n",
       "      <td>data1</td>\n",
       "      <td>0.944142</td>\n",
       "      <td>0.955860</td>\n",
       "      <td>0.958047</td>\n",
       "      <td>0.956952</td>\n",
       "    </tr>\n",
       "    <tr>\n",
       "      <th>1</th>\n",
       "      <td>data2</td>\n",
       "      <td>0.774857</td>\n",
       "      <td>0.761905</td>\n",
       "      <td>0.910816</td>\n",
       "      <td>0.829732</td>\n",
       "    </tr>\n",
       "    <tr>\n",
       "      <th>2</th>\n",
       "      <td>data3</td>\n",
       "      <td>0.726098</td>\n",
       "      <td>0.748619</td>\n",
       "      <td>0.799410</td>\n",
       "      <td>0.773181</td>\n",
       "    </tr>\n",
       "  </tbody>\n",
       "</table>\n",
       "</div>\n",
       "      <button class=\"colab-df-convert\" onclick=\"convertToInteractive('df-82b9853e-1a91-456c-9e5e-99c124080b33')\"\n",
       "              title=\"Convert this dataframe to an interactive table.\"\n",
       "              style=\"display:none;\">\n",
       "        \n",
       "  <svg xmlns=\"http://www.w3.org/2000/svg\" height=\"24px\"viewBox=\"0 0 24 24\"\n",
       "       width=\"24px\">\n",
       "    <path d=\"M0 0h24v24H0V0z\" fill=\"none\"/>\n",
       "    <path d=\"M18.56 5.44l.94 2.06.94-2.06 2.06-.94-2.06-.94-.94-2.06-.94 2.06-2.06.94zm-11 1L8.5 8.5l.94-2.06 2.06-.94-2.06-.94L8.5 2.5l-.94 2.06-2.06.94zm10 10l.94 2.06.94-2.06 2.06-.94-2.06-.94-.94-2.06-.94 2.06-2.06.94z\"/><path d=\"M17.41 7.96l-1.37-1.37c-.4-.4-.92-.59-1.43-.59-.52 0-1.04.2-1.43.59L10.3 9.45l-7.72 7.72c-.78.78-.78 2.05 0 2.83L4 21.41c.39.39.9.59 1.41.59.51 0 1.02-.2 1.41-.59l7.78-7.78 2.81-2.81c.8-.78.8-2.07 0-2.86zM5.41 20L4 18.59l7.72-7.72 1.47 1.35L5.41 20z\"/>\n",
       "  </svg>\n",
       "      </button>\n",
       "      \n",
       "  <style>\n",
       "    .colab-df-container {\n",
       "      display:flex;\n",
       "      flex-wrap:wrap;\n",
       "      gap: 12px;\n",
       "    }\n",
       "\n",
       "    .colab-df-convert {\n",
       "      background-color: #E8F0FE;\n",
       "      border: none;\n",
       "      border-radius: 50%;\n",
       "      cursor: pointer;\n",
       "      display: none;\n",
       "      fill: #1967D2;\n",
       "      height: 32px;\n",
       "      padding: 0 0 0 0;\n",
       "      width: 32px;\n",
       "    }\n",
       "\n",
       "    .colab-df-convert:hover {\n",
       "      background-color: #E2EBFA;\n",
       "      box-shadow: 0px 1px 2px rgba(60, 64, 67, 0.3), 0px 1px 3px 1px rgba(60, 64, 67, 0.15);\n",
       "      fill: #174EA6;\n",
       "    }\n",
       "\n",
       "    [theme=dark] .colab-df-convert {\n",
       "      background-color: #3B4455;\n",
       "      fill: #D2E3FC;\n",
       "    }\n",
       "\n",
       "    [theme=dark] .colab-df-convert:hover {\n",
       "      background-color: #434B5C;\n",
       "      box-shadow: 0px 1px 3px 1px rgba(0, 0, 0, 0.15);\n",
       "      filter: drop-shadow(0px 1px 2px rgba(0, 0, 0, 0.3));\n",
       "      fill: #FFFFFF;\n",
       "    }\n",
       "  </style>\n",
       "\n",
       "      <script>\n",
       "        const buttonEl =\n",
       "          document.querySelector('#df-82b9853e-1a91-456c-9e5e-99c124080b33 button.colab-df-convert');\n",
       "        buttonEl.style.display =\n",
       "          google.colab.kernel.accessAllowed ? 'block' : 'none';\n",
       "\n",
       "        async function convertToInteractive(key) {\n",
       "          const element = document.querySelector('#df-82b9853e-1a91-456c-9e5e-99c124080b33');\n",
       "          const dataTable =\n",
       "            await google.colab.kernel.invokeFunction('convertToInteractive',\n",
       "                                                     [key], {});\n",
       "          if (!dataTable) return;\n",
       "\n",
       "          const docLinkHtml = 'Like what you see? Visit the ' +\n",
       "            '<a target=\"_blank\" href=https://colab.research.google.com/notebooks/data_table.ipynb>data table notebook</a>'\n",
       "            + ' to learn more about interactive tables.';\n",
       "          element.innerHTML = '';\n",
       "          dataTable['output_type'] = 'display_data';\n",
       "          await google.colab.output.renderOutput(dataTable, element);\n",
       "          const docLink = document.createElement('div');\n",
       "          docLink.innerHTML = docLinkHtml;\n",
       "          element.appendChild(docLink);\n",
       "        }\n",
       "      </script>\n",
       "    </div>\n",
       "  </div>\n",
       "  "
      ],
      "text/plain": [
       "  Experiment  Accuracy  Precision    Recall  F1_score\n",
       "0      data1  0.944142   0.955860  0.958047  0.956952\n",
       "1      data2  0.774857   0.761905  0.910816  0.829732\n",
       "2      data3  0.726098   0.748619  0.799410  0.773181"
      ]
     },
     "metadata": {},
     "output_type": "display_data"
    }
   ],
   "source": [
    "results_df = pd.DataFrame()\n",
    "\n",
    "# call the saved weights\n",
    "PATH = SAVED_MODEL_PATH+data1_bert_model\n",
    "model, _, _ = initialize_model(train_loader,epochs=epo)\n",
    "model.load_state_dict(torch.load(PATH))\n",
    "\n",
    "# Compute predicted probabilities on the validation set\n",
    "_, val_loader_1, y_class_1 = create_data_loader(root=DATA_PATH,\n",
    "                                          train_filename=data1_test_filepath,\n",
    "                                          dev_filename=data1_test_filepath,\n",
    "                                          batch_size=batch_size)\n",
    "\n",
    "_, val_loader_2, y_class_2 = create_data_loader(root=DATA_PATH,\n",
    "                                          train_filename=data2_test_filepath,\n",
    "                                          dev_filename=data2_test_filepath,\n",
    "                                          batch_size=batch_size)\n",
    "\n",
    "_, val_loader_3, y_class_3 = create_data_loader(root=DATA_PATH,\n",
    "                                          train_filename=data3_test_filepath,\n",
    "                                          dev_filename=data3_test_filepath,\n",
    "                                          batch_size=batch_size)\n",
    "\n",
    "data1_bert_probs_test1 = bert_predict(model, val_loader_1)\n",
    "data1_pred_class_test1 = [argmax(prob) for prob in data1_bert_probs_test1]\n",
    "\n",
    "data1_bert_probs_test2 = bert_predict(model, val_loader_2)\n",
    "data1_pred_class_test2 = [argmax(prob) for prob in data1_bert_probs_test2]\n",
    "\n",
    "data1_bert_probs_test3 = bert_predict(model, val_loader_3)\n",
    "data1_pred_class_test3 = [argmax(prob) for prob in data1_bert_probs_test3]\n",
    "\n",
    "\n",
    "results_df = results_analyser.calculate_metrics(results_df, y_class_1, data1_pred_class_test1, \"data1\")\n",
    "results_df = results_analyser.calculate_metrics(results_df, y_class_2, data1_pred_class_test2, \"data2\")\n",
    "results_df = results_analyser.calculate_metrics(results_df, y_class_3, data1_pred_class_test3, \"data3\")\n",
    "display(results_df)"
   ]
  },
  {
   "cell_type": "markdown",
   "metadata": {
    "id": "n3Nv2Yq5T0CC"
   },
   "source": [
    "### Train on combined data (data1 and data4)"
   ]
  },
  {
   "cell_type": "code",
   "execution_count": null,
   "metadata": {
    "id": "YjhgVC5WSfja"
   },
   "outputs": [],
   "source": [
    "data4 = pd.concat([d for d in data_reader.read_data4(\"bert\", True, len(data1), 42)])\n",
    "combined_data = pd.concat([data1, data4])\n",
    "combined_data_train_df = combined_data.sample(frac=0.8,random_state=42)\n",
    "combined_data_val_df = combined_data.drop(combined_data_train_df.index)\n",
    "\n",
    "combined_data_train_filepath = \"combined_data_train.csv\"\n",
    "combined_data_val_filepath = \"combined_data_val.csv\"\n",
    "combined_data_bert_model = \"bert_model_combined_data.pt\"\n",
    "\n",
    "combined_data_train_df.to_csv(DATA_PATH+combined_data_train_filepath, index=False)\n",
    "combined_data_val_df.to_csv(DATA_PATH+combined_data_val_filepath, index=False)"
   ]
  },
  {
   "cell_type": "code",
   "execution_count": null,
   "metadata": {
    "colab": {
     "base_uri": "https://localhost:8080/",
     "height": 1000
    },
    "executionInfo": {
     "elapsed": 1464709,
     "status": "ok",
     "timestamp": 1647714155234,
     "user": {
      "displayName": "Chuan Bin Phoe",
      "photoUrl": "https://lh3.googleusercontent.com/a/default-user=s64",
      "userId": "05567159451591599581"
     },
     "user_tz": -480
    },
    "id": "U2cp_j9jUVkf",
    "outputId": "a284a04e-cbba-4344-e150-216008fa0439"
   },
   "outputs": [
    {
     "name": "stderr",
     "output_type": "stream",
     "text": [
      "/usr/local/lib/python3.7/dist-packages/transformers/tokenization_utils_base.py:2277: FutureWarning: The `pad_to_max_length` argument is deprecated and will be removed in a future version, use `padding=True` or `padding='longest'` to pad to the longest sequence in the batch, or use `padding='max_length'` to pad to a max length. In this case, you can give a specific length with `max_length` (e.g. `max_length=45`) or leave max_length to None to pad to the maximal input size of the model (e.g. 512 for Bert).\n",
      "  FutureWarning,\n"
     ]
    },
    {
     "name": "stdout",
     "output_type": "stream",
     "text": [
      "Tokenizing data...\n"
     ]
    },
    {
     "name": "stderr",
     "output_type": "stream",
     "text": [
      "Some weights of the model checkpoint at bert-base-uncased were not used when initializing BertModel: ['cls.predictions.decoder.weight', 'cls.predictions.transform.dense.bias', 'cls.seq_relationship.bias', 'cls.predictions.transform.dense.weight', 'cls.seq_relationship.weight', 'cls.predictions.bias', 'cls.predictions.transform.LayerNorm.weight', 'cls.predictions.transform.LayerNorm.bias']\n",
      "- This IS expected if you are initializing BertModel from the checkpoint of a model trained on another task or with another architecture (e.g. initializing a BertForSequenceClassification model from a BertForPreTraining model).\n",
      "- This IS NOT expected if you are initializing BertModel from the checkpoint of a model that you expect to be exactly identical (initializing a BertForSequenceClassification model from a BertForSequenceClassification model).\n",
      "/usr/local/lib/python3.7/dist-packages/transformers/optimization.py:309: FutureWarning: This implementation of AdamW is deprecated and will be removed in a future version. Use the PyTorch implementation torch.optim.AdamW instead, or set `no_deprecation_warning=True` to disable this warning\n",
      "  FutureWarning,\n"
     ]
    },
    {
     "name": "stdout",
     "output_type": "stream",
     "text": [
      "Start training...\n",
      "\n",
      " Epoch  |  Batch  |  Train Loss  |  Val Loss  |  Val Acc  |  Elapsed \n",
      "----------------------------------------------------------------------\n",
      "   1    |   20    |   0.624257   |     -      |     -     |   27.20  \n",
      "   1    |   40    |   0.658869   |     -      |     -     |   26.18  \n",
      "   1    |   60    |   0.636522   |     -      |     -     |   26.21  \n",
      "   1    |   80    |   0.612443   |     -      |     -     |   26.18  \n",
      "   1    |   100   |   0.615218   |     -      |     -     |   26.13  \n",
      "   1    |   120   |   0.572370   |     -      |     -     |   26.16  \n",
      "   1    |   140   |   0.558545   |     -      |     -     |   26.13  \n",
      "   1    |   160   |   0.553236   |     -      |     -     |   26.17  \n",
      "   1    |   180   |   0.526286   |     -      |     -     |   26.13  \n",
      "   1    |   200   |   0.531923   |     -      |     -     |   26.11  \n",
      "   1    |   202   |   0.453923   |     -      |     -     |   1.80   \n",
      "----------------------------------------------------------------------\n",
      "   1    |    -    |   0.587810   |  0.473497  |   76.35   |  288.66  \n",
      "----------------------------------------------------------------------\n",
      "\n",
      "\n",
      " Epoch  |  Batch  |  Train Loss  |  Val Loss  |  Val Acc  |  Elapsed \n",
      "----------------------------------------------------------------------\n",
      "   2    |   20    |   0.424118   |     -      |     -     |   27.50  \n",
      "   2    |   40    |   0.444223   |     -      |     -     |   26.11  \n",
      "   2    |   60    |   0.421523   |     -      |     -     |   26.08  \n",
      "   2    |   80    |   0.440558   |     -      |     -     |   26.12  \n",
      "   2    |   100   |   0.380779   |     -      |     -     |   26.15  \n",
      "   2    |   120   |   0.324781   |     -      |     -     |   26.14  \n",
      "   2    |   140   |   0.384476   |     -      |     -     |   26.14  \n",
      "   2    |   160   |   0.376180   |     -      |     -     |   26.16  \n",
      "   2    |   180   |   0.336482   |     -      |     -     |   26.24  \n",
      "   2    |   200   |   0.406914   |     -      |     -     |   26.67  \n",
      "   2    |   202   |   0.327124   |     -      |     -     |   1.81   \n",
      "----------------------------------------------------------------------\n",
      "   2    |    -    |   0.393493   |  0.437550  |   80.51   |  289.41  \n",
      "----------------------------------------------------------------------\n",
      "\n",
      "\n",
      " Epoch  |  Batch  |  Train Loss  |  Val Loss  |  Val Acc  |  Elapsed \n",
      "----------------------------------------------------------------------\n",
      "   3    |   20    |   0.171620   |     -      |     -     |   27.47  \n",
      "   3    |   40    |   0.215021   |     -      |     -     |   26.10  \n",
      "   3    |   60    |   0.208712   |     -      |     -     |   26.12  \n",
      "   3    |   80    |   0.244522   |     -      |     -     |   26.20  \n",
      "   3    |   100   |   0.221057   |     -      |     -     |   26.18  \n",
      "   3    |   120   |   0.182538   |     -      |     -     |   26.22  \n",
      "   3    |   140   |   0.191226   |     -      |     -     |   26.18  \n",
      "   3    |   160   |   0.182382   |     -      |     -     |   26.16  \n",
      "   3    |   180   |   0.192360   |     -      |     -     |   26.14  \n",
      "   3    |   200   |   0.183964   |     -      |     -     |   26.14  \n",
      "   3    |   202   |   0.054825   |     -      |     -     |   1.81   \n",
      "----------------------------------------------------------------------\n",
      "   3    |    -    |   0.197780   |  0.684691  |   80.02   |  289.05  \n",
      "----------------------------------------------------------------------\n",
      "\n",
      "\n",
      " Epoch  |  Batch  |  Train Loss  |  Val Loss  |  Val Acc  |  Elapsed \n",
      "----------------------------------------------------------------------\n",
      "   4    |   20    |   0.127341   |     -      |     -     |   27.48  \n",
      "   4    |   40    |   0.083890   |     -      |     -     |   26.24  \n",
      "   4    |   60    |   0.099917   |     -      |     -     |   26.22  \n",
      "   4    |   80    |   0.104852   |     -      |     -     |   26.27  \n",
      "   4    |   100   |   0.081431   |     -      |     -     |   26.27  \n",
      "   4    |   120   |   0.084406   |     -      |     -     |   26.26  \n",
      "   4    |   140   |   0.110550   |     -      |     -     |   26.27  \n",
      "   4    |   160   |   0.114544   |     -      |     -     |   26.26  \n",
      "   4    |   180   |   0.202039   |     -      |     -     |   26.26  \n",
      "   4    |   200   |   0.064876   |     -      |     -     |   26.27  \n",
      "   4    |   202   |   0.168967   |     -      |     -     |   1.82   \n",
      "----------------------------------------------------------------------\n",
      "   4    |    -    |   0.108090   |  0.860361  |   79.78   |  289.93  \n",
      "----------------------------------------------------------------------\n",
      "\n",
      "\n",
      " Epoch  |  Batch  |  Train Loss  |  Val Loss  |  Val Acc  |  Elapsed \n",
      "----------------------------------------------------------------------\n",
      "   5    |   20    |   0.058106   |     -      |     -     |   27.47  \n",
      "   5    |   40    |   0.022463   |     -      |     -     |   26.14  \n",
      "   5    |   60    |   0.070065   |     -      |     -     |   26.16  \n",
      "   5    |   80    |   0.080956   |     -      |     -     |   26.11  \n",
      "   5    |   100   |   0.085526   |     -      |     -     |   26.10  \n",
      "   5    |   120   |   0.042675   |     -      |     -     |   26.10  \n",
      "   5    |   140   |   0.045625   |     -      |     -     |   26.10  \n",
      "   5    |   160   |   0.103709   |     -      |     -     |   26.06  \n",
      "   5    |   180   |   0.086712   |     -      |     -     |   26.09  \n",
      "   5    |   200   |   0.061361   |     -      |     -     |   26.17  \n",
      "   5    |   202   |   0.006156   |     -      |     -     |   1.80   \n",
      "----------------------------------------------------------------------\n",
      "   5    |    -    |   0.065096   |  0.901891  |   80.15   |  288.74  \n",
      "----------------------------------------------------------------------\n",
      "\n",
      "\n",
      "Training complete!\n",
      "\n",
      "\n",
      "F1-Score and Confusion Matrix of the Validation Set\n",
      "\n",
      "              precision    recall  f1-score   support\n",
      "\n",
      "           0     0.6607    0.6407    0.6505       231\n",
      "           1     0.8579    0.8683    0.8630       577\n",
      "\n",
      "    accuracy                         0.8032       808\n",
      "   macro avg     0.7593    0.7545    0.7568       808\n",
      "weighted avg     0.8015    0.8032    0.8023       808\n",
      "\n",
      "\n",
      "\n"
     ]
    },
    {
     "data": {
      "image/png": "[encoded data removed]",
      "text/plain": [
       "<Figure size 576x432 with 2 Axes>"
      ]
     },
     "metadata": {
      "needs_background": "light"
     },
     "output_type": "display_data"
    }
   ],
   "source": [
    "loss_fn = nn.CrossEntropyLoss()\n",
    "batch_size = 16\n",
    "epo = 5\n",
    "\n",
    "# load the data\n",
    "train_loader, val_loader, y_val_combined = create_data_loader(root=DATA_PATH,\n",
    "                                                     train_filename=combined_data_train_filepath,\n",
    "                                                     dev_filename=combined_data_val_filepath,\n",
    "                                                     batch_size=batch_size)\n",
    "\n",
    "set_seed(42)\n",
    "# initalise the model\n",
    "bert_classifier, optimizer, scheduler = initialize_model(train_loader,epochs=epo)\n",
    "\n",
    "# train the model\n",
    "true_list, pred_list = train(model=bert_classifier,\n",
    "                             root_path=SAVED_MODEL_PATH,\n",
    "                             filepath=combined_data_bert_model,\n",
    "                             train_dataloader=train_loader, \n",
    "                             val_dataloader=val_loader, \n",
    "                             epochs=epo, \n",
    "                             evaluation=True)\n",
    "\n",
    "# get confusion matrix\n",
    "f1_confusion_matrix(true_list, pred_list)"
   ]
  },
  {
   "cell_type": "code",
   "execution_count": null,
   "metadata": {
    "colab": {
     "base_uri": "https://localhost:8080/",
     "height": 479
    },
    "executionInfo": {
     "elapsed": 28882,
     "status": "ok",
     "timestamp": 1647714184103,
     "user": {
      "displayName": "Chuan Bin Phoe",
      "photoUrl": "https://lh3.googleusercontent.com/a/default-user=s64",
      "userId": "05567159451591599581"
     },
     "user_tz": -480
    },
    "id": "kD3nXdGcUVkh",
    "outputId": "e222690d-377f-4f91-8f98-2e3679e7fe5a"
   },
   "outputs": [
    {
     "name": "stderr",
     "output_type": "stream",
     "text": [
      "Some weights of the model checkpoint at bert-base-uncased were not used when initializing BertModel: ['cls.predictions.decoder.weight', 'cls.predictions.transform.dense.bias', 'cls.seq_relationship.bias', 'cls.predictions.transform.dense.weight', 'cls.seq_relationship.weight', 'cls.predictions.bias', 'cls.predictions.transform.LayerNorm.weight', 'cls.predictions.transform.LayerNorm.bias']\n",
      "- This IS expected if you are initializing BertModel from the checkpoint of a model trained on another task or with another architecture (e.g. initializing a BertForSequenceClassification model from a BertForPreTraining model).\n",
      "- This IS NOT expected if you are initializing BertModel from the checkpoint of a model that you expect to be exactly identical (initializing a BertForSequenceClassification model from a BertForSequenceClassification model).\n",
      "/usr/local/lib/python3.7/dist-packages/transformers/optimization.py:309: FutureWarning: This implementation of AdamW is deprecated and will be removed in a future version. Use the PyTorch implementation torch.optim.AdamW instead, or set `no_deprecation_warning=True` to disable this warning\n",
      "  FutureWarning,\n"
     ]
    },
    {
     "name": "stdout",
     "output_type": "stream",
     "text": [
      "AUC: 0.8480\n",
      "Accuracy: 80.94%\n",
      "\n",
      "ROC Curve\n"
     ]
    },
    {
     "data": {
      "image/png": "[encoded data removed]",
      "text/plain": [
       "<Figure size 432x288 with 1 Axes>"
      ]
     },
     "metadata": {
      "needs_background": "light"
     },
     "output_type": "display_data"
    }
   ],
   "source": [
    "# call the saved weights\n",
    "PATH = SAVED_MODEL_PATH+combined_data_bert_model\n",
    "model, _, _ = initialize_model(train_loader,epochs=epo)\n",
    "model.load_state_dict(torch.load(PATH))\n",
    "\n",
    "# Compute predicted probabilities on the validation set\n",
    "combined_data_bert_probs = bert_predict(model, val_loader)\n",
    "\n",
    "# Evaluate ROC-AUC\n",
    "evaluate_roc(combined_data_bert_probs, y_val_combined)"
   ]
  },
  {
   "cell_type": "markdown",
   "metadata": {
    "id": "SGAQx_ATUVko"
   },
   "source": [
    "### Test on Data 1, 2, 3"
   ]
  },
  {
   "cell_type": "code",
   "execution_count": null,
   "metadata": {
    "colab": {
     "base_uri": "https://localhost:8080/",
     "height": 346
    },
    "executionInfo": {
     "elapsed": 135357,
     "status": "ok",
     "timestamp": 1647714319377,
     "user": {
      "displayName": "Chuan Bin Phoe",
      "photoUrl": "https://lh3.googleusercontent.com/a/default-user=s64",
      "userId": "05567159451591599581"
     },
     "user_tz": -480
    },
    "id": "Oa3mAfoYUVkp",
    "outputId": "368a158e-56e1-4988-d1ec-c8cd7d037b49"
   },
   "outputs": [
    {
     "name": "stderr",
     "output_type": "stream",
     "text": [
      "Some weights of the model checkpoint at bert-base-uncased were not used when initializing BertModel: ['cls.predictions.decoder.weight', 'cls.predictions.transform.dense.bias', 'cls.seq_relationship.bias', 'cls.predictions.transform.dense.weight', 'cls.seq_relationship.weight', 'cls.predictions.bias', 'cls.predictions.transform.LayerNorm.weight', 'cls.predictions.transform.LayerNorm.bias']\n",
      "- This IS expected if you are initializing BertModel from the checkpoint of a model trained on another task or with another architecture (e.g. initializing a BertForSequenceClassification model from a BertForPreTraining model).\n",
      "- This IS NOT expected if you are initializing BertModel from the checkpoint of a model that you expect to be exactly identical (initializing a BertForSequenceClassification model from a BertForSequenceClassification model).\n",
      "/usr/local/lib/python3.7/dist-packages/transformers/optimization.py:309: FutureWarning: This implementation of AdamW is deprecated and will be removed in a future version. Use the PyTorch implementation torch.optim.AdamW instead, or set `no_deprecation_warning=True` to disable this warning\n",
      "  FutureWarning,\n",
      "/usr/local/lib/python3.7/dist-packages/transformers/tokenization_utils_base.py:2277: FutureWarning: The `pad_to_max_length` argument is deprecated and will be removed in a future version, use `padding=True` or `padding='longest'` to pad to the longest sequence in the batch, or use `padding='max_length'` to pad to a max length. In this case, you can give a specific length with `max_length` (e.g. `max_length=45`) or leave max_length to None to pad to the maximal input size of the model (e.g. 512 for Bert).\n",
      "  FutureWarning,\n"
     ]
    },
    {
     "name": "stdout",
     "output_type": "stream",
     "text": [
      "Tokenizing data...\n",
      "Tokenizing data...\n",
      "Tokenizing data...\n"
     ]
    },
    {
     "data": {
      "text/html": [
       "\n",
       "  <div id=\"df-96589656-7aea-4014-add6-81e6668d0caf\">\n",
       "    <div class=\"colab-df-container\">\n",
       "      <div>\n",
       "<style scoped>\n",
       "    .dataframe tbody tr th:only-of-type {\n",
       "        vertical-align: middle;\n",
       "    }\n",
       "\n",
       "    .dataframe tbody tr th {\n",
       "        vertical-align: top;\n",
       "    }\n",
       "\n",
       "    .dataframe thead th {\n",
       "        text-align: right;\n",
       "    }\n",
       "</style>\n",
       "<table border=\"1\" class=\"dataframe\">\n",
       "  <thead>\n",
       "    <tr style=\"text-align: right;\">\n",
       "      <th></th>\n",
       "      <th>Experiment</th>\n",
       "      <th>Accuracy</th>\n",
       "      <th>Precision</th>\n",
       "      <th>Recall</th>\n",
       "      <th>F1_score</th>\n",
       "    </tr>\n",
       "  </thead>\n",
       "  <tbody>\n",
       "    <tr>\n",
       "      <th>0</th>\n",
       "      <td>data1</td>\n",
       "      <td>0.944142</td>\n",
       "      <td>0.953788</td>\n",
       "      <td>0.960336</td>\n",
       "      <td>0.957051</td>\n",
       "    </tr>\n",
       "    <tr>\n",
       "      <th>1</th>\n",
       "      <td>data2</td>\n",
       "      <td>0.748571</td>\n",
       "      <td>0.740219</td>\n",
       "      <td>0.897533</td>\n",
       "      <td>0.811321</td>\n",
       "    </tr>\n",
       "    <tr>\n",
       "      <th>2</th>\n",
       "      <td>data3</td>\n",
       "      <td>0.733850</td>\n",
       "      <td>0.727497</td>\n",
       "      <td>0.870206</td>\n",
       "      <td>0.792478</td>\n",
       "    </tr>\n",
       "  </tbody>\n",
       "</table>\n",
       "</div>\n",
       "      <button class=\"colab-df-convert\" onclick=\"convertToInteractive('df-96589656-7aea-4014-add6-81e6668d0caf')\"\n",
       "              title=\"Convert this dataframe to an interactive table.\"\n",
       "              style=\"display:none;\">\n",
       "        \n",
       "  <svg xmlns=\"http://www.w3.org/2000/svg\" height=\"24px\"viewBox=\"0 0 24 24\"\n",
       "       width=\"24px\">\n",
       "    <path d=\"M0 0h24v24H0V0z\" fill=\"none\"/>\n",
       "    <path d=\"M18.56 5.44l.94 2.06.94-2.06 2.06-.94-2.06-.94-.94-2.06-.94 2.06-2.06.94zm-11 1L8.5 8.5l.94-2.06 2.06-.94-2.06-.94L8.5 2.5l-.94 2.06-2.06.94zm10 10l.94 2.06.94-2.06 2.06-.94-2.06-.94-.94-2.06-.94 2.06-2.06.94z\"/><path d=\"M17.41 7.96l-1.37-1.37c-.4-.4-.92-.59-1.43-.59-.52 0-1.04.2-1.43.59L10.3 9.45l-7.72 7.72c-.78.78-.78 2.05 0 2.83L4 21.41c.39.39.9.59 1.41.59.51 0 1.02-.2 1.41-.59l7.78-7.78 2.81-2.81c.8-.78.8-2.07 0-2.86zM5.41 20L4 18.59l7.72-7.72 1.47 1.35L5.41 20z\"/>\n",
       "  </svg>\n",
       "      </button>\n",
       "      \n",
       "  <style>\n",
       "    .colab-df-container {\n",
       "      display:flex;\n",
       "      flex-wrap:wrap;\n",
       "      gap: 12px;\n",
       "    }\n",
       "\n",
       "    .colab-df-convert {\n",
       "      background-color: #E8F0FE;\n",
       "      border: none;\n",
       "      border-radius: 50%;\n",
       "      cursor: pointer;\n",
       "      display: none;\n",
       "      fill: #1967D2;\n",
       "      height: 32px;\n",
       "      padding: 0 0 0 0;\n",
       "      width: 32px;\n",
       "    }\n",
       "\n",
       "    .colab-df-convert:hover {\n",
       "      background-color: #E2EBFA;\n",
       "      box-shadow: 0px 1px 2px rgba(60, 64, 67, 0.3), 0px 1px 3px 1px rgba(60, 64, 67, 0.15);\n",
       "      fill: #174EA6;\n",
       "    }\n",
       "\n",
       "    [theme=dark] .colab-df-convert {\n",
       "      background-color: #3B4455;\n",
       "      fill: #D2E3FC;\n",
       "    }\n",
       "\n",
       "    [theme=dark] .colab-df-convert:hover {\n",
       "      background-color: #434B5C;\n",
       "      box-shadow: 0px 1px 3px 1px rgba(0, 0, 0, 0.15);\n",
       "      filter: drop-shadow(0px 1px 2px rgba(0, 0, 0, 0.3));\n",
       "      fill: #FFFFFF;\n",
       "    }\n",
       "  </style>\n",
       "\n",
       "      <script>\n",
       "        const buttonEl =\n",
       "          document.querySelector('#df-96589656-7aea-4014-add6-81e6668d0caf button.colab-df-convert');\n",
       "        buttonEl.style.display =\n",
       "          google.colab.kernel.accessAllowed ? 'block' : 'none';\n",
       "\n",
       "        async function convertToInteractive(key) {\n",
       "          const element = document.querySelector('#df-96589656-7aea-4014-add6-81e6668d0caf');\n",
       "          const dataTable =\n",
       "            await google.colab.kernel.invokeFunction('convertToInteractive',\n",
       "                                                     [key], {});\n",
       "          if (!dataTable) return;\n",
       "\n",
       "          const docLinkHtml = 'Like what you see? Visit the ' +\n",
       "            '<a target=\"_blank\" href=https://colab.research.google.com/notebooks/data_table.ipynb>data table notebook</a>'\n",
       "            + ' to learn more about interactive tables.';\n",
       "          element.innerHTML = '';\n",
       "          dataTable['output_type'] = 'display_data';\n",
       "          await google.colab.output.renderOutput(dataTable, element);\n",
       "          const docLink = document.createElement('div');\n",
       "          docLink.innerHTML = docLinkHtml;\n",
       "          element.appendChild(docLink);\n",
       "        }\n",
       "      </script>\n",
       "    </div>\n",
       "  </div>\n",
       "  "
      ],
      "text/plain": [
       "  Experiment  Accuracy  Precision    Recall  F1_score\n",
       "0      data1  0.944142   0.953788  0.960336  0.957051\n",
       "1      data2  0.748571   0.740219  0.897533  0.811321\n",
       "2      data3  0.733850   0.727497  0.870206  0.792478"
      ]
     },
     "metadata": {},
     "output_type": "display_data"
    }
   ],
   "source": [
    "results_df = pd.DataFrame()\n",
    "\n",
    "# call the saved weights\n",
    "PATH = SAVED_MODEL_PATH+combined_data_bert_model\n",
    "model, _, _ = initialize_model(train_loader,epochs=epo)\n",
    "model.load_state_dict(torch.load(PATH))\n",
    "\n",
    "# Compute predicted probabilities on the validation set\n",
    "_, val_loader_1, y_class_1 = create_data_loader(root=DATA_PATH,\n",
    "                                          train_filename=data1_test_filepath,\n",
    "                                          dev_filename=data1_test_filepath,\n",
    "                                          batch_size=batch_size)\n",
    "\n",
    "_, val_loader_2, y_class_2 = create_data_loader(root=DATA_PATH,\n",
    "                                          train_filename=data2_test_filepath,\n",
    "                                          dev_filename=data2_test_filepath,\n",
    "                                          batch_size=batch_size)\n",
    "\n",
    "_, val_loader_3, y_class_3 = create_data_loader(root=DATA_PATH,\n",
    "                                          train_filename=data3_test_filepath,\n",
    "                                          dev_filename=data3_test_filepath,\n",
    "                                          batch_size=batch_size)\n",
    "\n",
    "combined_bert_probs_test1 = bert_predict(model, val_loader_1)\n",
    "combined_pred_class_test1 = [argmax(prob) for prob in combined_bert_probs_test1]\n",
    "\n",
    "combined_bert_probs_test2 = bert_predict(model, val_loader_2)\n",
    "combined_pred_class_test2 = [argmax(prob) for prob in combined_bert_probs_test2]\n",
    "\n",
    "combined_bert_probs_test3 = bert_predict(model, val_loader_3)\n",
    "combined_pred_class_test3 = [argmax(prob) for prob in combined_bert_probs_test3]\n",
    "\n",
    "\n",
    "results_df = results_analyser.calculate_metrics(results_df, y_class_1, combined_pred_class_test1, \"data1\")\n",
    "results_df = results_analyser.calculate_metrics(results_df, y_class_2, combined_pred_class_test2, \"data2\")\n",
    "results_df = results_analyser.calculate_metrics(results_df, y_class_3, combined_pred_class_test3, \"data3\")\n",
    "display(results_df)"
   ]
  },
  {
   "cell_type": "markdown",
   "metadata": {
    "id": "A5umc30gNv4e"
   },
   "source": [
    "## Evaluate ROC"
   ]
  },
  {
   "cell_type": "code",
   "execution_count": null,
   "metadata": {
    "colab": {
     "base_uri": "https://localhost:8080/",
     "height": 531
    },
    "executionInfo": {
     "elapsed": 779,
     "status": "ok",
     "timestamp": 1647714724998,
     "user": {
      "displayName": "Chuan Bin Phoe",
      "photoUrl": "https://lh3.googleusercontent.com/a/default-user=s64",
      "userId": "05567159451591599581"
     },
     "user_tz": -480
    },
    "id": "yr0eXl3XZo88",
    "outputId": "63cd2cc4-d247-4283-fb08-0900c9629387"
   },
   "outputs": [
    {
     "name": "stdout",
     "output_type": "stream",
     "text": [
      "ROC Curve\n"
     ]
    },
    {
     "data": {
      "image/png": "[encoded data removed]",
      "text/plain": [
       "<Figure size 864x576 with 1 Axes>"
      ]
     },
     "metadata": {
      "needs_background": "light"
     },
     "output_type": "display_data"
    }
   ],
   "source": [
    "# get all the ROC curve in a plot\n",
    "probs_list = [data4_bert_probs, data1_bert_probs, combined_data_bert_probs]\n",
    "y_val_list = [y_val_data4, y_val_data1, y_val_combined]\n",
    "evaluate_roc_multi(probs_list, y_val_list)"
   ]
  }
 ],
 "metadata": {
  "accelerator": "GPU",
  "colab": {
   "collapsed_sections": [
    "8NyNAgcJLJr9",
    "Z-TJdAAarqeA",
    "FmEHCG4OX68e",
    "jYMSJRUMXtyU",
    "8cH7Ukeblr9R",
    "n3Nv2Yq5T0CC",
    "SGAQx_ATUVko"
   ],
   "name": "bert.ipynb",
   "provenance": []
  },
  "kernelspec": {
   "display_name": "Python 3",
   "language": "python",
   "name": "python3"
  },
  "language_info": {
   "codemirror_mode": {
    "name": "ipython",
    "version": 3
   },
   "file_extension": ".py",
   "mimetype": "text/x-python",
   "name": "python",
   "nbconvert_exporter": "python",
   "pygments_lexer": "ipython3",
   "version": "3.7.6"
  }
 },
 "nbformat": 4,
 "nbformat_minor": 1
}
