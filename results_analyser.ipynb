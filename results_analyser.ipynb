{
 "cells": [
  {
   "cell_type": "code",
   "execution_count": 1,
   "metadata": {},
   "outputs": [],
   "source": [
    "import pandas as pd\n",
    "from sklearn.metrics import confusion_matrix"
   ]
  },
  {
   "cell_type": "code",
   "execution_count": 2,
   "metadata": {},
   "outputs": [],
   "source": [
    "def calculate_metrics(results_df, y_class, pred_class, combi_name):\n",
    "    tn, fp, fn, tp = confusion_matrix(y_class, pred_class).ravel()\n",
    "    total = tn+fp+fn+tp\n",
    "    accuracy = (tn+tp)/total\n",
    "    precision = tp / (tp+fp)\n",
    "    recall = tp / (tp+fn)\n",
    "    f1_score = (2*precision*recall) / (precision+recall)\n",
    "    \n",
    "    results_df = results_df.append({\"Experiment\": combi_name,\n",
    "                                    \"Accuracy\":accuracy, \n",
    "                                    \"Precision\":precision, \n",
    "                                    \"Recall\": recall, \n",
    "                                    \"F1_score\": f1_score}\n",
    "                                   , ignore_index = True)\n",
    "    \n",
    "    return results_df"
   ]
  },
  {
   "cell_type": "code",
   "execution_count": null,
   "metadata": {},
   "outputs": [],
   "source": [
    "def probability_to_class(proba_pred):\n",
    "    return [1 if float(pred)>0 else 0 for pred in proba_pred]"
   ]
  },
  {
   "cell_type": "code",
   "execution_count": null,
   "metadata": {},
   "outputs": [],
   "source": [
    "def argmax(iterable):\n",
    "    return max(enumerate(iterable), key=lambda x: x[1])[0]"
   ]
  }
 ],
 "metadata": {
  "kernelspec": {
   "display_name": "Python 3",
   "language": "python",
   "name": "python3"
  },
  "language_info": {
   "codemirror_mode": {
    "name": "ipython",
    "version": 3
   },
   "file_extension": ".py",
   "mimetype": "text/x-python",
   "name": "python",
   "nbconvert_exporter": "python",
   "pygments_lexer": "ipython3",
   "version": "3.7.6"
  }
 },
 "nbformat": 4,
 "nbformat_minor": 4
}
