{
 "cells": [
  {
   "cell_type": "code",
   "execution_count": 1,
   "metadata": {},
   "outputs": [],
   "source": [
    "import pandas as pd\n",
    "import numpy as np\n",
    "import nltk\n",
    "import data_reader\n",
    "import results_analyser"
   ]
  },
  {
   "cell_type": "code",
   "execution_count": 2,
   "metadata": {},
   "outputs": [],
   "source": [
    "LEXICON_DIR = \"./custom_lexicons/stocktwitlexi/\"\n",
    "LEXICON_PATHS = [\"domain_lexicon_norm.csv\",\n",
    "                 \"domain_lexicon_std.csv\",\n",
    "                 \"domain_lexicon_raw.csv\",\n",
    "                 \"domain_lexicon_raw_norm.csv\",\n",
    "                 \"domain_lexicon_raw_std.csv\"]"
   ]
  },
  {
   "cell_type": "code",
   "execution_count": 3,
   "metadata": {},
   "outputs": [],
   "source": [
    "def stocktwitlexi_processor(X, stocktwitlexi):\n",
    "    stocktwitlexi_pred_raw = []\n",
    "\n",
    "    for test_tweet in X:\n",
    "        stocktwitlexi_score = 0\n",
    "        sentence_tagged = np.array(nltk.pos_tag(test_tweet))\n",
    "        for tagged in sentence_tagged:\n",
    "            word = tagged[0]\n",
    "            try: \n",
    "                stocktwitlexi_score += stocktwitlexi[word]\n",
    "            except:\n",
    "                pass\n",
    "        stocktwitlexi_pred_raw.append(stocktwitlexi_score)\n",
    "    \n",
    "    return stocktwitlexi_pred_raw\n",
    "\n",
    "def generate_results(X, y_class):\n",
    "    results_df = pd.DataFrame()\n",
    "\n",
    "    for lexicon_path in LEXICON_PATHS:\n",
    "        stocktwitlexi = pd.read_csv(LEXICON_DIR+lexicon_path, header=None, index_col=0)\n",
    "        stocktwitlexi = stocktwitlexi.to_dict()[1]\n",
    "        stocktwitlexi_pred = stocktwitlexi_processor(X, stocktwitlexi)\n",
    "        pred_class = results_analyser.probability_to_class(stocktwitlexi_pred)\n",
    "        results_df = results_analyser.calculate_metrics(results_df, y_class, pred_class, lexicon_path)\n",
    "\n",
    "    return results_df"
   ]
  },
  {
   "cell_type": "markdown",
   "metadata": {},
   "source": [
    "## Data 1"
   ]
  },
  {
   "cell_type": "code",
   "execution_count": 11,
   "metadata": {},
   "outputs": [
    {
     "data": {
      "text/html": [
       "<div>\n",
       "<style scoped>\n",
       "    .dataframe tbody tr th:only-of-type {\n",
       "        vertical-align: middle;\n",
       "    }\n",
       "\n",
       "    .dataframe tbody tr th {\n",
       "        vertical-align: top;\n",
       "    }\n",
       "\n",
       "    .dataframe thead th {\n",
       "        text-align: right;\n",
       "    }\n",
       "</style>\n",
       "<table border=\"1\" class=\"dataframe\">\n",
       "  <thead>\n",
       "    <tr style=\"text-align: right;\">\n",
       "      <th></th>\n",
       "      <th>Accuracy</th>\n",
       "      <th>Experiment</th>\n",
       "      <th>F1_score</th>\n",
       "      <th>Precision</th>\n",
       "      <th>Recall</th>\n",
       "    </tr>\n",
       "  </thead>\n",
       "  <tbody>\n",
       "    <tr>\n",
       "      <th>0</th>\n",
       "      <td>0.691547</td>\n",
       "      <td>domain_lexicon_norm.csv</td>\n",
       "      <td>0.804143</td>\n",
       "      <td>0.683200</td>\n",
       "      <td>0.977117</td>\n",
       "    </tr>\n",
       "    <tr>\n",
       "      <th>1</th>\n",
       "      <td>0.575877</td>\n",
       "      <td>domain_lexicon_std.csv</td>\n",
       "      <td>0.569277</td>\n",
       "      <td>0.832599</td>\n",
       "      <td>0.432494</td>\n",
       "    </tr>\n",
       "    <tr>\n",
       "      <th>2</th>\n",
       "      <td>0.641127</td>\n",
       "      <td>domain_lexicon_raw.csv</td>\n",
       "      <td>0.688412</td>\n",
       "      <td>0.787046</td>\n",
       "      <td>0.611747</td>\n",
       "    </tr>\n",
       "    <tr>\n",
       "      <th>3</th>\n",
       "      <td>0.695502</td>\n",
       "      <td>domain_lexicon_raw_norm.csv</td>\n",
       "      <td>0.805923</td>\n",
       "      <td>0.686527</td>\n",
       "      <td>0.975591</td>\n",
       "    </tr>\n",
       "    <tr>\n",
       "      <th>4</th>\n",
       "      <td>0.644093</td>\n",
       "      <td>domain_lexicon_raw_std.csv</td>\n",
       "      <td>0.694656</td>\n",
       "      <td>0.782235</td>\n",
       "      <td>0.624714</td>\n",
       "    </tr>\n",
       "  </tbody>\n",
       "</table>\n",
       "</div>"
      ],
      "text/plain": [
       "   Accuracy                   Experiment  F1_score  Precision    Recall\n",
       "0  0.691547      domain_lexicon_norm.csv  0.804143   0.683200  0.977117\n",
       "1  0.575877       domain_lexicon_std.csv  0.569277   0.832599  0.432494\n",
       "2  0.641127       domain_lexicon_raw.csv  0.688412   0.787046  0.611747\n",
       "3  0.695502  domain_lexicon_raw_norm.csv  0.805923   0.686527  0.975591\n",
       "4  0.644093   domain_lexicon_raw_std.csv  0.694656   0.782235  0.624714"
      ]
     },
     "execution_count": 11,
     "metadata": {},
     "output_type": "execute_result"
    }
   ],
   "source": [
    "data1_X, data1_y_class = data_reader.read_data1(\"list\")\n",
    "generate_results(data1_X, data1_y_class)"
   ]
  },
  {
   "cell_type": "markdown",
   "metadata": {},
   "source": [
    "## Data 2"
   ]
  },
  {
   "cell_type": "code",
   "execution_count": 12,
   "metadata": {},
   "outputs": [
    {
     "data": {
      "text/html": [
       "<div>\n",
       "<style scoped>\n",
       "    .dataframe tbody tr th:only-of-type {\n",
       "        vertical-align: middle;\n",
       "    }\n",
       "\n",
       "    .dataframe tbody tr th {\n",
       "        vertical-align: top;\n",
       "    }\n",
       "\n",
       "    .dataframe thead th {\n",
       "        text-align: right;\n",
       "    }\n",
       "</style>\n",
       "<table border=\"1\" class=\"dataframe\">\n",
       "  <thead>\n",
       "    <tr style=\"text-align: right;\">\n",
       "      <th></th>\n",
       "      <th>Accuracy</th>\n",
       "      <th>Experiment</th>\n",
       "      <th>F1_score</th>\n",
       "      <th>Precision</th>\n",
       "      <th>Recall</th>\n",
       "    </tr>\n",
       "  </thead>\n",
       "  <tbody>\n",
       "    <tr>\n",
       "      <th>0</th>\n",
       "      <td>0.613714</td>\n",
       "      <td>domain_lexicon_norm.csv</td>\n",
       "      <td>0.752199</td>\n",
       "      <td>0.612903</td>\n",
       "      <td>0.973435</td>\n",
       "    </tr>\n",
       "    <tr>\n",
       "      <th>1</th>\n",
       "      <td>0.533714</td>\n",
       "      <td>domain_lexicon_std.csv</td>\n",
       "      <td>0.434903</td>\n",
       "      <td>0.805128</td>\n",
       "      <td>0.297913</td>\n",
       "    </tr>\n",
       "    <tr>\n",
       "      <th>2</th>\n",
       "      <td>0.626286</td>\n",
       "      <td>domain_lexicon_raw.csv</td>\n",
       "      <td>0.644178</td>\n",
       "      <td>0.755102</td>\n",
       "      <td>0.561670</td>\n",
       "    </tr>\n",
       "    <tr>\n",
       "      <th>3</th>\n",
       "      <td>0.620571</td>\n",
       "      <td>domain_lexicon_raw_norm.csv</td>\n",
       "      <td>0.755882</td>\n",
       "      <td>0.617047</td>\n",
       "      <td>0.975332</td>\n",
       "    </tr>\n",
       "    <tr>\n",
       "      <th>4</th>\n",
       "      <td>0.633143</td>\n",
       "      <td>domain_lexicon_raw_std.csv</td>\n",
       "      <td>0.655209</td>\n",
       "      <td>0.754950</td>\n",
       "      <td>0.578748</td>\n",
       "    </tr>\n",
       "  </tbody>\n",
       "</table>\n",
       "</div>"
      ],
      "text/plain": [
       "   Accuracy                   Experiment  F1_score  Precision    Recall\n",
       "0  0.613714      domain_lexicon_norm.csv  0.752199   0.612903  0.973435\n",
       "1  0.533714       domain_lexicon_std.csv  0.434903   0.805128  0.297913\n",
       "2  0.626286       domain_lexicon_raw.csv  0.644178   0.755102  0.561670\n",
       "3  0.620571  domain_lexicon_raw_norm.csv  0.755882   0.617047  0.975332\n",
       "4  0.633143   domain_lexicon_raw_std.csv  0.655209   0.754950  0.578748"
      ]
     },
     "execution_count": 12,
     "metadata": {},
     "output_type": "execute_result"
    }
   ],
   "source": [
    "data2_X, data2_y_class = data_reader.read_data2(\"list\")\n",
    "generate_results(data2_X, data2_y_class)"
   ]
  },
  {
   "cell_type": "markdown",
   "metadata": {},
   "source": [
    "## Data 3"
   ]
  },
  {
   "cell_type": "code",
   "execution_count": 13,
   "metadata": {},
   "outputs": [
    {
     "data": {
      "text/html": [
       "<div>\n",
       "<style scoped>\n",
       "    .dataframe tbody tr th:only-of-type {\n",
       "        vertical-align: middle;\n",
       "    }\n",
       "\n",
       "    .dataframe tbody tr th {\n",
       "        vertical-align: top;\n",
       "    }\n",
       "\n",
       "    .dataframe thead th {\n",
       "        text-align: right;\n",
       "    }\n",
       "</style>\n",
       "<table border=\"1\" class=\"dataframe\">\n",
       "  <thead>\n",
       "    <tr style=\"text-align: right;\">\n",
       "      <th></th>\n",
       "      <th>Accuracy</th>\n",
       "      <th>Experiment</th>\n",
       "      <th>F1_score</th>\n",
       "      <th>Precision</th>\n",
       "      <th>Recall</th>\n",
       "    </tr>\n",
       "  </thead>\n",
       "  <tbody>\n",
       "    <tr>\n",
       "      <th>0</th>\n",
       "      <td>0.641688</td>\n",
       "      <td>domain_lexicon_norm.csv</td>\n",
       "      <td>0.758140</td>\n",
       "      <td>0.625720</td>\n",
       "      <td>0.961652</td>\n",
       "    </tr>\n",
       "    <tr>\n",
       "      <th>1</th>\n",
       "      <td>0.695090</td>\n",
       "      <td>domain_lexicon_std.csv</td>\n",
       "      <td>0.687831</td>\n",
       "      <td>0.855263</td>\n",
       "      <td>0.575221</td>\n",
       "    </tr>\n",
       "    <tr>\n",
       "      <th>2</th>\n",
       "      <td>0.740741</td>\n",
       "      <td>domain_lexicon_raw.csv</td>\n",
       "      <td>0.765027</td>\n",
       "      <td>0.812604</td>\n",
       "      <td>0.722714</td>\n",
       "    </tr>\n",
       "    <tr>\n",
       "      <th>3</th>\n",
       "      <td>0.638243</td>\n",
       "      <td>domain_lexicon_raw_norm.csv</td>\n",
       "      <td>0.755530</td>\n",
       "      <td>0.624038</td>\n",
       "      <td>0.957227</td>\n",
       "    </tr>\n",
       "    <tr>\n",
       "      <th>4</th>\n",
       "      <td>0.744186</td>\n",
       "      <td>domain_lexicon_raw_std.csv</td>\n",
       "      <td>0.770302</td>\n",
       "      <td>0.809756</td>\n",
       "      <td>0.734513</td>\n",
       "    </tr>\n",
       "  </tbody>\n",
       "</table>\n",
       "</div>"
      ],
      "text/plain": [
       "   Accuracy                   Experiment  F1_score  Precision    Recall\n",
       "0  0.641688      domain_lexicon_norm.csv  0.758140   0.625720  0.961652\n",
       "1  0.695090       domain_lexicon_std.csv  0.687831   0.855263  0.575221\n",
       "2  0.740741       domain_lexicon_raw.csv  0.765027   0.812604  0.722714\n",
       "3  0.638243  domain_lexicon_raw_norm.csv  0.755530   0.624038  0.957227\n",
       "4  0.744186   domain_lexicon_raw_std.csv  0.770302   0.809756  0.734513"
      ]
     },
     "execution_count": 13,
     "metadata": {},
     "output_type": "execute_result"
    }
   ],
   "source": [
    "data3_X, data3_y_class = data_reader.read_data3(\"list\")\n",
    "generate_results(data3_X, data3_y_class)"
   ]
  },
  {
   "cell_type": "markdown",
   "metadata": {},
   "source": [
    "## Combined"
   ]
  },
  {
   "cell_type": "code",
   "execution_count": 15,
   "metadata": {},
   "outputs": [
    {
     "name": "stdout",
     "output_type": "stream",
     "text": [
      "4059 4059\n"
     ]
    }
   ],
   "source": [
    "combined_X = data1_X\n",
    "combined_X.extend(data2_X)\n",
    "combined_X.extend(data3_X)\n",
    "\n",
    "combined_y_class = data1_y_class\n",
    "combined_y_class.extend(data2_y_class)\n",
    "combined_y_class.extend(data3_y_class)\n",
    "\n",
    "print(len(combined_X), len(combined_y_class))"
   ]
  },
  {
   "cell_type": "code",
   "execution_count": 16,
   "metadata": {},
   "outputs": [
    {
     "data": {
      "text/html": [
       "<div>\n",
       "<style scoped>\n",
       "    .dataframe tbody tr th:only-of-type {\n",
       "        vertical-align: middle;\n",
       "    }\n",
       "\n",
       "    .dataframe tbody tr th {\n",
       "        vertical-align: top;\n",
       "    }\n",
       "\n",
       "    .dataframe thead th {\n",
       "        text-align: right;\n",
       "    }\n",
       "</style>\n",
       "<table border=\"1\" class=\"dataframe\">\n",
       "  <thead>\n",
       "    <tr style=\"text-align: right;\">\n",
       "      <th></th>\n",
       "      <th>Accuracy</th>\n",
       "      <th>Experiment</th>\n",
       "      <th>F1_score</th>\n",
       "      <th>Precision</th>\n",
       "      <th>Recall</th>\n",
       "    </tr>\n",
       "  </thead>\n",
       "  <tbody>\n",
       "    <tr>\n",
       "      <th>0</th>\n",
       "      <td>0.660508</td>\n",
       "      <td>domain_lexicon_norm.csv</td>\n",
       "      <td>0.780223</td>\n",
       "      <td>0.651572</td>\n",
       "      <td>0.972178</td>\n",
       "    </tr>\n",
       "    <tr>\n",
       "      <th>1</th>\n",
       "      <td>0.600887</td>\n",
       "      <td>domain_lexicon_std.csv</td>\n",
       "      <td>0.579002</td>\n",
       "      <td>0.836336</td>\n",
       "      <td>0.442766</td>\n",
       "    </tr>\n",
       "    <tr>\n",
       "      <th>2</th>\n",
       "      <td>0.666420</td>\n",
       "      <td>domain_lexicon_raw.csv</td>\n",
       "      <td>0.701104</td>\n",
       "      <td>0.788481</td>\n",
       "      <td>0.631161</td>\n",
       "    </tr>\n",
       "    <tr>\n",
       "      <th>3</th>\n",
       "      <td>0.662971</td>\n",
       "      <td>domain_lexicon_raw_norm.csv</td>\n",
       "      <td>0.781190</td>\n",
       "      <td>0.653640</td>\n",
       "      <td>0.970588</td>\n",
       "    </tr>\n",
       "    <tr>\n",
       "      <th>4</th>\n",
       "      <td>0.670362</td>\n",
       "      <td>domain_lexicon_raw_std.csv</td>\n",
       "      <td>0.707988</td>\n",
       "      <td>0.785092</td>\n",
       "      <td>0.644674</td>\n",
       "    </tr>\n",
       "  </tbody>\n",
       "</table>\n",
       "</div>"
      ],
      "text/plain": [
       "   Accuracy                   Experiment  F1_score  Precision    Recall\n",
       "0  0.660508      domain_lexicon_norm.csv  0.780223   0.651572  0.972178\n",
       "1  0.600887       domain_lexicon_std.csv  0.579002   0.836336  0.442766\n",
       "2  0.666420       domain_lexicon_raw.csv  0.701104   0.788481  0.631161\n",
       "3  0.662971  domain_lexicon_raw_norm.csv  0.781190   0.653640  0.970588\n",
       "4  0.670362   domain_lexicon_raw_std.csv  0.707988   0.785092  0.644674"
      ]
     },
     "execution_count": 16,
     "metadata": {},
     "output_type": "execute_result"
    }
   ],
   "source": [
    "generate_results(combined_X, combined_y_class)"
   ]
  }
 ],
 "metadata": {
  "kernelspec": {
   "display_name": "Python 3",
   "language": "python",
   "name": "python3"
  },
  "language_info": {
   "codemirror_mode": {
    "name": "ipython",
    "version": 3
   },
   "file_extension": ".py",
   "mimetype": "text/x-python",
   "name": "python",
   "nbconvert_exporter": "python",
   "pygments_lexer": "ipython3",
   "version": "3.7.6"
  }
 },
 "nbformat": 4,
 "nbformat_minor": 4
}
