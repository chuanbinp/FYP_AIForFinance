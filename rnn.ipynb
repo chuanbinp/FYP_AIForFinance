{
 "cells": [
  {
   "cell_type": "code",
   "execution_count": null,
   "metadata": {
    "colab": {
     "base_uri": "https://localhost:8080/"
    },
    "executionInfo": {
     "elapsed": 2830,
     "status": "ok",
     "timestamp": 1647937631455,
     "user": {
      "displayName": "Chuan Bin Phoe",
      "photoUrl": "https://lh3.googleusercontent.com/a/default-user=s64",
      "userId": "05567159451591599581"
     },
     "user_tz": -480
    },
    "id": "6MKcrkXZGaRf",
    "outputId": "805ba8e6-42bc-4f83-c04d-c3df79f6c8c6"
   },
   "outputs": [
    {
     "name": "stdout",
     "output_type": "stream",
     "text": [
      "Drive already mounted at /content/drive; to attempt to forcibly remount, call drive.mount(\"/content/drive\", force_remount=True).\n"
     ]
    }
   ],
   "source": [
    "# connect to google colab\n",
    "from google.colab import drive\n",
    "drive.mount(\"/content/drive\")"
   ]
  },
  {
   "cell_type": "code",
   "execution_count": null,
   "metadata": {
    "colab": {
     "base_uri": "https://localhost:8080/"
    },
    "executionInfo": {
     "elapsed": 5488,
     "status": "ok",
     "timestamp": 1647937636934,
     "user": {
      "displayName": "Chuan Bin Phoe",
      "photoUrl": "https://lh3.googleusercontent.com/a/default-user=s64",
      "userId": "05567159451591599581"
     },
     "user_tz": -480
    },
    "id": "gZAuJR_LHj_y",
    "outputId": "264594be-b97c-47ee-cffe-095103912f99"
   },
   "outputs": [
    {
     "name": "stdout",
     "output_type": "stream",
     "text": [
      "Requirement already satisfied: torchtext==0.6.0 in /usr/local/lib/python3.7/dist-packages (0.6.0)\n",
      "Requirement already satisfied: requests in /usr/local/lib/python3.7/dist-packages (from torchtext==0.6.0) (2.23.0)\n",
      "Requirement already satisfied: six in /usr/local/lib/python3.7/dist-packages (from torchtext==0.6.0) (1.15.0)\n",
      "Requirement already satisfied: sentencepiece in /usr/local/lib/python3.7/dist-packages (from torchtext==0.6.0) (0.1.96)\n",
      "Requirement already satisfied: tqdm in /usr/local/lib/python3.7/dist-packages (from torchtext==0.6.0) (4.63.0)\n",
      "Requirement already satisfied: numpy in /usr/local/lib/python3.7/dist-packages (from torchtext==0.6.0) (1.21.5)\n",
      "Requirement already satisfied: torch in /usr/local/lib/python3.7/dist-packages (from torchtext==0.6.0) (1.10.0+cu111)\n",
      "Requirement already satisfied: urllib3!=1.25.0,!=1.25.1,<1.26,>=1.21.1 in /usr/local/lib/python3.7/dist-packages (from requests->torchtext==0.6.0) (1.24.3)\n",
      "Requirement already satisfied: idna<3,>=2.5 in /usr/local/lib/python3.7/dist-packages (from requests->torchtext==0.6.0) (2.10)\n",
      "Requirement already satisfied: certifi>=2017.4.17 in /usr/local/lib/python3.7/dist-packages (from requests->torchtext==0.6.0) (2021.10.8)\n",
      "Requirement already satisfied: chardet<4,>=3.0.2 in /usr/local/lib/python3.7/dist-packages (from requests->torchtext==0.6.0) (3.0.4)\n",
      "Requirement already satisfied: typing-extensions in /usr/local/lib/python3.7/dist-packages (from torch->torchtext==0.6.0) (3.10.0.2)\n"
     ]
    }
   ],
   "source": [
    "!pip install -U torchtext==0.6.0"
   ]
  },
  {
   "cell_type": "code",
   "execution_count": null,
   "metadata": {
    "colab": {
     "base_uri": "https://localhost:8080/"
    },
    "executionInfo": {
     "elapsed": 3882,
     "status": "ok",
     "timestamp": 1647937640798,
     "user": {
      "displayName": "Chuan Bin Phoe",
      "photoUrl": "https://lh3.googleusercontent.com/a/default-user=s64",
      "userId": "05567159451591599581"
     },
     "user_tz": -480
    },
    "id": "f62HW5O6MAju",
    "outputId": "256dfba2-4f57-453d-adb1-156486cc86b8"
   },
   "outputs": [
    {
     "name": "stdout",
     "output_type": "stream",
     "text": [
      "Requirement already satisfied: tweet-preprocessor in /usr/local/lib/python3.7/dist-packages (0.6.0)\n"
     ]
    }
   ],
   "source": [
    "!pip install tweet-preprocessor"
   ]
  },
  {
   "cell_type": "code",
   "execution_count": null,
   "metadata": {
    "id": "QXuWk1_xHoHS"
   },
   "outputs": [],
   "source": [
    "# base path\n",
    "DATA_PATH = './drive/MyDrive/FYP_U1821679J/data/subsymbolic/'\n",
    "SAVED_MODEL_PATH = './drive/MyDrive/FYP_U1821679J/model/'\n",
    "SAVED_RESULT_PATH = './drive/MyDrive/FYP_U1821679J/results/'"
   ]
  },
  {
   "cell_type": "markdown",
   "metadata": {
    "id": "IEuSWLtwHp3g"
   },
   "source": [
    "## Libraries"
   ]
  },
  {
   "cell_type": "code",
   "execution_count": null,
   "metadata": {
    "colab": {
     "base_uri": "https://localhost:8080/"
    },
    "executionInfo": {
     "elapsed": 3731,
     "status": "ok",
     "timestamp": 1647937644505,
     "user": {
      "displayName": "Chuan Bin Phoe",
      "photoUrl": "https://lh3.googleusercontent.com/a/default-user=s64",
      "userId": "05567159451591599581"
     },
     "user_tz": -480
    },
    "id": "p4HdHCQXHwbB",
    "outputId": "006ca5ea-76f0-45b5-b39c-b31b1cf8edd5"
   },
   "outputs": [
    {
     "name": "stdout",
     "output_type": "stream",
     "text": [
      "cuda:0\n"
     ]
    }
   ],
   "source": [
    "# Libraries\n",
    "import matplotlib.pyplot as plt\n",
    "import pandas as pd\n",
    "import numpy as np\n",
    "import os\n",
    "import sys\n",
    "import torch\n",
    "from time import time\n",
    "\n",
    "# Preliminaries\n",
    "from torch import Tensor\n",
    "import torch.nn as nn\n",
    "from torch.nn.utils.rnn import pack_padded_sequence, pad_packed_sequence\n",
    "from torchtext import data, datasets\n",
    "import torch.optim as optim\n",
    "\n",
    "# Evaluation\n",
    "from sklearn.metrics import auc, roc_curve, accuracy_score, classification_report, confusion_matrix\n",
    "import seaborn as sns\n",
    "\n",
    "# For inference\n",
    "import spacy\n",
    "nlp = spacy.load('en')\n",
    "\n",
    "import sys\n",
    "sys.path.insert(0, './drive/MyDrive/FYP_U1821679J/')\n",
    "import data_reader\n",
    "import results_analyser\n",
    "\n",
    "# check if it is running with GPU or not\n",
    "device = torch.device('cuda:0' if torch.cuda.is_available() else 'cpu')\n",
    "print(device)"
   ]
  },
  {
   "cell_type": "markdown",
   "metadata": {
    "id": "Xki56ad4JWgR"
   },
   "source": [
    "## Load the data using custom dataset"
   ]
  },
  {
   "cell_type": "code",
   "execution_count": null,
   "metadata": {
    "id": "Y6teHtuxHzEw"
   },
   "outputs": [],
   "source": [
    "class CustomDataset(data.Dataset):\n",
    "    def __init__(self, df, fields, is_test=False, **kwargs):\n",
    "        examples = []\n",
    "        for i, row in df.iterrows():\n",
    "            label = row.Label #if not is_test else None\n",
    "            text = row.text_cleaned\n",
    "            examples.append(data.Example.fromlist([text, label], fields))\n",
    "\n",
    "        super().__init__(examples, fields, **kwargs)\n",
    "\n",
    "    @staticmethod\n",
    "    def sort_key(ex):\n",
    "        return len(ex.text)\n",
    "\n",
    "    @classmethod\n",
    "    def splits(cls, fields, train_df, val_df=None, test_df=None, **kwargs):\n",
    "        train_data, val_data, test_data = (None, None, None)\n",
    "        data_field = fields\n",
    "\n",
    "        if train_df is not None:\n",
    "            train_data = cls(train_df.copy(), data_field, **kwargs)\n",
    "        if val_df is not None:\n",
    "            val_data = cls(val_df.copy(), data_field, **kwargs)\n",
    "        if test_df is not None:\n",
    "            test_data = cls(test_df.copy(), data_field, False, **kwargs)\n",
    "\n",
    "        return tuple(d for d in (train_data, val_data, test_data) if d is not None)"
   ]
  },
  {
   "cell_type": "markdown",
   "metadata": {
    "id": "s5P0RzhBrkoW"
   },
   "source": [
    "## Data Handler for RNN models"
   ]
  },
  {
   "cell_type": "code",
   "execution_count": null,
   "metadata": {
    "id": "_ZehTxbPNVdx"
   },
   "outputs": [],
   "source": [
    "# helper function to handle the train and validation data to train the model\n",
    "def data_handler(root_data_path, train_data_filename, val_data_filename, batch_size=32):\n",
    "    # defining the fields needed\n",
    "    TEXT = data.Field(tokenize = 'spacy', batch_first=True, include_lengths = True)\n",
    "    LABEL = data.LabelField(dtype = torch.float, batch_first=True)\n",
    "    fields = [('text',TEXT), ('label',LABEL)]\n",
    "\n",
    "    # load data in pandas dataframe format\n",
    "    train_data_raw = pd.read_csv(root_data_path + train_data_filename)\n",
    "    val_data_raw = pd.read_csv(root_data_path + val_data_filename)\n",
    "\n",
    "    # load the data from pytorch custom dataset class as defined\n",
    "    train_ds, val_ds = CustomDataset.splits(fields, \n",
    "                                            train_df=train_data_raw, \n",
    "                                            val_df=val_data_raw)\n",
    "    \n",
    "    # defining the vocabulary\n",
    "    MAX_VOCAB_SIZE = 100000\n",
    "\n",
    "    TEXT.build_vocab(train_ds, \n",
    "                    max_size = MAX_VOCAB_SIZE, \n",
    "                    vectors='fasttext.simple.300d',\n",
    "                    unk_init = torch.Tensor.zero_)\n",
    "    LABEL.build_vocab(train_ds)\n",
    "\n",
    "    # No. of unique tokens in text\n",
    "    print(\"Size of TEXT vocabulary:\",len(TEXT.vocab))\n",
    "\n",
    "    # No. of unique tokens in label\n",
    "    print(\"Size of LABEL vocabulary:\",len(LABEL.vocab))\n",
    "\n",
    "    # Commonly used words\n",
    "    print(f'Top 10 most frequent word in the vocabulary: {TEXT.vocab.freqs.most_common(10)}')  \n",
    "\n",
    "    # The whole word dictionary\n",
    "\n",
    "    device = torch.device('cuda' if torch.cuda.is_available() else 'cpu')\n",
    "    print(device)\n",
    "\n",
    "    train_iterator, valid_iterator = data.BucketIterator.splits((train_ds, val_ds), \n",
    "                                                                batch_size = batch_size, \n",
    "                                                                sort_within_batch = True, \n",
    "                                                                device = device)\n",
    "    \n",
    "    return TEXT, LABEL, device, train_iterator, valid_iterator"
   ]
  },
  {
   "cell_type": "markdown",
   "metadata": {
    "id": "wWI9YJnTUTvZ"
   },
   "source": [
    "## Build Model"
   ]
  },
  {
   "cell_type": "code",
   "execution_count": null,
   "metadata": {
    "id": "MjHpvjH7UTKo"
   },
   "outputs": [],
   "source": [
    "# RNN Models\n",
    "class RNN(nn.Module):\n",
    "    def __init__(self, vocab_size, embedding_dim, hidden_dim, output_dim, n_layers, \n",
    "                 bidirectional, rnn_type, dropout, pad_idx):\n",
    "        super().__init__()\n",
    "        \n",
    "        self.embedding = nn.Embedding(vocab_size, embedding_dim, padding_idx = pad_idx)\n",
    "        self.rnn_type = rnn_type\n",
    "\n",
    "        # LSTM\n",
    "        if self.rnn_type == 'lstm':\n",
    "            self.rnn = nn.LSTM(embedding_dim, \n",
    "                            hidden_dim, \n",
    "                            num_layers=n_layers, \n",
    "                            bidirectional=bidirectional, \n",
    "                            dropout=dropout,\n",
    "                            batch_first=True)\n",
    "        # GRU\n",
    "        else:\n",
    "            self.rnn = nn.GRU(embedding_dim, \n",
    "                            hidden_dim, \n",
    "                            num_layers=n_layers, \n",
    "                            bidirectional=bidirectional, \n",
    "                            dropout=dropout,\n",
    "                            batch_first=True)\n",
    "        \n",
    "        self.fc1 = nn.Linear(hidden_dim * 2, hidden_dim)\n",
    "        self.fc2 = nn.Linear(hidden_dim, 1)\n",
    "\n",
    "        self.dropout = nn.Dropout(dropout)\n",
    "        \n",
    "    def forward(self, text, text_lengths):\n",
    "        embedded = self.embedding(text)\n",
    "        # pack sequence\n",
    "        packed_embedded = nn.utils.rnn.pack_padded_sequence(embedded, \n",
    "                                                            text_lengths.to('cpu'), \n",
    "                                                            batch_first=True)\n",
    "        # lstm\n",
    "        if self.rnn_type == 'lstm':\n",
    "            packed_output, (hidden, cell) = self.rnn(packed_embedded)\n",
    "        # gru\n",
    "        else:\n",
    "            packed_output, hidden = self.rnn(packed_embedded)\n",
    "            \n",
    "        hidden = self.dropout(torch.cat((hidden[-2,:,:], hidden[-1,:,:]), dim = 1))\n",
    "        output = self.fc1(hidden)\n",
    "        output = self.dropout(self.fc2(output))\n",
    "                    \n",
    "        return output"
   ]
  },
  {
   "cell_type": "markdown",
   "metadata": {
    "id": "wQ1wdXwpd5oT"
   },
   "source": [
    "## Training the model"
   ]
  },
  {
   "cell_type": "code",
   "execution_count": null,
   "metadata": {
    "id": "perYR5ySdyQv"
   },
   "outputs": [],
   "source": [
    "# helper functions\n",
    "\n",
    "#No. of trainable parameters\n",
    "def count_parameters(model):\n",
    "    return sum(p.numel() for p in model.parameters() if p.requires_grad)\n",
    "\n",
    "def binary_accuracy(preds, y):\n",
    "    \"\"\"\n",
    "    Returns accuracy per batch, i.e. if you get 8/10 right, this returns 0.8, NOT 8\n",
    "    \"\"\"\n",
    "\n",
    "    #round predictions to the closest integer\n",
    "    rounded_preds = torch.round(torch.sigmoid(preds))\n",
    "    correct = (rounded_preds == y).float() #convert into float for division \n",
    "    acc = correct.sum() / len(correct)\n",
    "    return acc\n",
    "\n",
    "# training function \n",
    "def train(model, iterator, optimizer, criterion):\n",
    "    \n",
    "    epoch_loss = 0\n",
    "    epoch_acc = 0\n",
    "    steps = 0\n",
    "    model.train()\n",
    "    \n",
    "    for idx, batch in enumerate(iterator):\n",
    "        text, text_lengths = batch.text\n",
    "        \n",
    "        optimizer.zero_grad()\n",
    "        predictions = model(text, text_lengths).squeeze(1)\n",
    "        loss = criterion(predictions, batch.label)\n",
    "        acc = binary_accuracy(predictions, batch.label)\n",
    "\n",
    "        loss.backward()\n",
    "        optimizer.step()\n",
    "        steps += 1\n",
    "        epoch_loss += loss.item()\n",
    "        epoch_acc += acc.item()\n",
    "        \n",
    "        if steps % 50 == 0:\n",
    "            print (f'Idx: {idx+1}, Train Loss: {loss.item():.4f}')\n",
    "\n",
    "    return epoch_loss / len(iterator), epoch_acc / len(iterator)\n",
    "\n",
    "def evaluate(model, iterator, criterion):\n",
    "    \n",
    "    #initialize every epoch\n",
    "    epoch_loss = 0\n",
    "    epoch_acc = 0\n",
    "    true_list = []\n",
    "    pred_list = []\n",
    "    pred_prob_list = []\n",
    "    \n",
    "    model.eval()\n",
    "    \n",
    "    with torch.no_grad():\n",
    "        for batch in iterator:\n",
    "            text, text_lengths = batch.text\n",
    "            predictions = model(text, text_lengths).squeeze(1)\n",
    "            # keep a record of the prediction and the ground truth value for computation of F1 score\n",
    "            pred_list.extend(torch.round(torch.sigmoid(predictions)).tolist())\n",
    "            # get the probability for the ROC Curve instead of the argmax\n",
    "            pred_prob_list.extend(torch.sigmoid(predictions).tolist())\n",
    "            true_list.extend(batch.label.tolist())\n",
    "            #compute loss and accuracy\n",
    "            loss = criterion(predictions, batch.label)\n",
    "            acc = binary_accuracy(predictions, batch.label)\n",
    "            #keep track of loss and accuracy\n",
    "            epoch_loss += loss.item()\n",
    "            epoch_acc += acc.item()\n",
    "        \n",
    "    return epoch_loss / len(iterator), epoch_acc / len(iterator), [int(x) for x in true_list], [int(x) for x in pred_list], pred_prob_list\n",
    "\n",
    "# A function to show f1-score and confusion matrix\n",
    "def f1_confusion_matrix(true_list, pred_list):\n",
    "    labels = ['0','1']\n",
    "    val_tuple = list(zip(true_list, pred_list))\n",
    "    val_df = pd.DataFrame(val_tuple, columns=['true_list', 'pred_list'])\n",
    "    # get the multi-class F1-score to see the distribution of the predictions\n",
    "    print('F1-Score and Confusion Matrix of the Validation Set')\n",
    "    print()\n",
    "    print(classification_report(list(val_df['true_list']), list(val_df['pred_list']), target_names=labels, digits=4))\n",
    "    print('\\n')\n",
    "\n",
    "    # confusion matrix\n",
    "    cm_sns = pd.crosstab(val_df['true_list'], val_df['pred_list'], rownames=['Actual'], colnames=['Predicted'])\n",
    "    plt.subplots(figsize=(8,6))\n",
    "    sns.heatmap(cm_sns, annot=True, fmt=\"d\", cmap='BuGn')\n",
    "    plt.show()\n",
    "\n",
    "# get the ROC-AUC values and parameters for the graph\n",
    "def get_roc_auc(true_list, pred_list):\n",
    "    fpr, tpr, thresholds = roc_curve(true_list, pred_list)\n",
    "    get_auc_value = auc(fpr, tpr)\n",
    "    return fpr, tpr, get_auc_value, thresholds\n",
    "\n",
    "# train model wrapper\n",
    "def fit_model(model, device, learning_rate, num_epochs, root_path, filepath):\n",
    "    \n",
    "    best_valid_loss = float('inf')\n",
    "    model.to(device)\n",
    "\n",
    "    # Loss and optimizer\n",
    "    criterion = nn.BCEWithLogitsLoss()\n",
    "\n",
    "    optimizer = torch.optim.Adam(model.parameters(), \n",
    "                                 lr=learning_rate,\n",
    "                                 weight_decay =1e-4,\n",
    "                                 eps=1e-7)\n",
    "    \n",
    "    # set the LR scheduler\n",
    "    scheduler = torch.optim.lr_scheduler.ReduceLROnPlateau(optimizer, \n",
    "                                                           mode='min', \n",
    "                                                           factor=0.1, \n",
    "                                                           patience=3, \n",
    "                                                           min_lr=1e-5,\n",
    "                                                           verbose=True)\n",
    "    \n",
    "    # fixed parameters to perform early stopping\n",
    "    n_epochs_stop = 3\n",
    "    epochs_no_improve = 0\n",
    "    early_stop = False\n",
    "    min_val_loss = np.inf\n",
    "    threshold = 0\n",
    "    epoch_list = []\n",
    "    train_loss_list = []\n",
    "    val_loss_list = []\n",
    "\n",
    "    for epoch in range(num_epochs):\n",
    "        # time for every epoch\n",
    "        t = time()\n",
    "        train_loss, train_acc = train(model, train_iterator, optimizer, criterion)\n",
    "        valid_loss, valid_acc, true_list, pred_list, pred_prob_list = evaluate(model, valid_iterator, criterion)\n",
    "\n",
    "        print(f'Epoch {epoch+1}: Train Loss: {train_loss:.5f} | Val. Loss: {valid_loss:.5f} | Val. Acc: {valid_acc:.5f} | Time Taken: {time()-t: .3f}s')\n",
    "        # append the values to plot the graphs\n",
    "        epoch_list.append(epoch+1)\n",
    "        train_loss_list.append(train_loss)\n",
    "        val_loss_list.append(valid_loss)\n",
    "\n",
    "        # add the scheduler code\n",
    "        scheduler.step(valid_loss)\n",
    "\n",
    "        #save the best model\n",
    "        if valid_loss < best_valid_loss:\n",
    "            best_valid_loss = valid_loss\n",
    "            torch.save(model.state_dict(), root_path+filepath)\n",
    "        \n",
    "         # --- EARLY STOPPING CONDITION ---\n",
    "        if valid_loss < min_val_loss+threshold: # give some threshold to make the learning less strict\n",
    "            # resets the no improve counter\n",
    "            epochs_no_improve = 0\n",
    "            min_val_loss = valid_loss\n",
    "        else: # val_loss no improvement\n",
    "            epochs_no_improve +=1\n",
    "            print(f\"Validation Loss did not improve count: {epochs_no_improve}\")\n",
    "            # set this line as min now\n",
    "            min_val_loss = valid_loss\n",
    "        if epoch > 5 and epochs_no_improve == n_epochs_stop:\n",
    "            print(\"Training stopped due to early stopping!\")\n",
    "            break\n",
    "        else: \n",
    "            continue\n",
    "    \n",
    "    print()\n",
    "    # plot the loss curve for both the train and the validation set\n",
    "    plt.plot(epoch_list, train_loss_list, label='Train')\n",
    "    plt.plot(epoch_list, val_loss_list, label='Valid')\n",
    "    plt.xlabel('Epochs')\n",
    "    plt.ylabel('Loss')\n",
    "    plt.legend(loc='upper right')\n",
    "    plt.show() \n",
    "\n",
    "    # get the f1-score and confusion matrix\n",
    "    f1_confusion_matrix(true_list, pred_list)\n",
    "\n",
    "    fpr, tpr, get_auc_value, thresholds = get_roc_auc(true_list, pred_prob_list)\n",
    "    print(f'\\nAUC Score: {get_auc_value}')\n",
    "    \n",
    "    return fpr, tpr, get_auc_value, thresholds"
   ]
  },
  {
   "cell_type": "markdown",
   "metadata": {
    "id": "7rVuYGe5hNxp"
   },
   "source": [
    "## Inserting the model configurations to train the model\n",
    "\n",
    "**Datasets considered**  \n",
    "- Data1  \n",
    "- Data4\n",
    "- Combined \n",
    "\n",
    "**Tuned Hyperparameters**   \n",
    "- Unidirectional vs Bidirectional   \n",
    "- GRU vs LSTM  \n",
    "\n",
    "**Total Number of models**   \n",
    "3 x 2 x 2 = 12 models\n"
   ]
  },
  {
   "cell_type": "markdown",
   "metadata": {
    "id": "ZDYmAanBBGra"
   },
   "source": [
    "## Prepare Datasets created in BERT"
   ]
  },
  {
   "cell_type": "code",
   "execution_count": null,
   "metadata": {
    "id": "QeRcuXHhUTOu"
   },
   "outputs": [],
   "source": [
    "data1_train_filepath = \"data1_train.csv\"\n",
    "data1_val_filepath = \"data1_val.csv\"\n",
    "data4_train_filepath = \"data4_train.csv\"\n",
    "data4_val_filepath = \"data4_val.csv\"\n",
    "combined_data_train_filepath = \"combined_data_train.csv\"\n",
    "combined_data_val_filepath = \"combined_data_val.csv\""
   ]
  },
  {
   "cell_type": "code",
   "execution_count": null,
   "metadata": {
    "colab": {
     "base_uri": "https://localhost:8080/"
    },
    "executionInfo": {
     "elapsed": 34,
     "status": "ok",
     "timestamp": 1647937645224,
     "user": {
      "displayName": "Chuan Bin Phoe",
      "photoUrl": "https://lh3.googleusercontent.com/a/default-user=s64",
      "userId": "05567159451591599581"
     },
     "user_tz": -480
    },
    "id": "kIfhJFECKXvZ",
    "outputId": "7450fef9-d0f0-4a53-d49b-47d18e2c633d"
   },
   "outputs": [
    {
     "name": "stderr",
     "output_type": "stream",
     "text": [
      "./drive/MyDrive/FYP_U1821679J/data_reader.py:60: FutureWarning: The default value of regex will change from True to False in a future version.\n",
      "  stocktwit_df[col_name] = stocktwit_df[col_name].str.replace(r'([$][a-zA-z\\.]{1,8})', '')\n",
      "./drive/MyDrive/FYP_U1821679J/data_reader.py:70: FutureWarning: The default value of regex will change from True to False in a future version.\n",
      "  stocktwit_df[col_name] = stocktwit_df[col_name].str.replace(r'(@[^\\s]+|[#]|[$])', ' ')  # Replace '@', '$' and '#...'\n",
      "./drive/MyDrive/FYP_U1821679J/data_reader.py:71: FutureWarning: The default value of regex will change from True to False in a future version.\n",
      "  stocktwit_df[col_name] = stocktwit_df[col_name].str.replace(r'(\\n|\\r)', ' ')  # Replace page breaks\n",
      "./drive/MyDrive/FYP_U1821679J/data_reader.py:74: FutureWarning: The default value of regex will change from True to False in a future version.\n",
      "  stocktwit_df[col_name] = stocktwit_df[col_name].str.replace(r'((https:|http:)[^\\s]+|(www\\.)[^\\s]+)', ' ')\n",
      "./drive/MyDrive/FYP_U1821679J/data_reader.py:77: FutureWarning: The default value of regex will change from True to False in a future version.\n",
      "  stocktwit_df[col_name] = stocktwit_df[col_name].str.replace(r'[\\d]', '')\n"
     ]
    }
   ],
   "source": [
    "# To generate test results\n",
    "def predict(model, sentence):\n",
    "    model.eval()\n",
    "    tokenized = [tok.text for tok in nlp.tokenizer(sentence)]  #tokenize the sentence \n",
    "    indexed = [TEXT.vocab.stoi[t] for t in tokenized]          #convert to integer sequence\n",
    "    length = [len(indexed)]                                    #compute no. of words\n",
    "    tensor = torch.LongTensor(indexed).to('cpu')              #convert to tensor\n",
    "    tensor = tensor.unsqueeze(1).T                             #reshape in form of batch,no. of words\n",
    "    length_tensor = torch.LongTensor(length)                   #convert to tensor\n",
    "    prediction = model(tensor, length_tensor).squeeze(1)       #prediction \n",
    "    rounded_preds = torch.round(1-torch.sigmoid(prediction))\n",
    "    predict_class = rounded_preds.tolist()[0]\n",
    "\n",
    "    return predict_class   \n",
    "\n",
    "results_df = pd.DataFrame()\n",
    "data2 = data_reader.read_data2(\"dataframe\", True)\n",
    "data3 = data_reader.read_data3(\"dataframe\", True)"
   ]
  },
  {
   "cell_type": "markdown",
   "metadata": {
    "id": "m_MqWvZXRIMB"
   },
   "source": [
    "### CONFIGURATION 1a\n",
    "**Baseline**  \n",
    "- Data 1\n",
    "- Uni-LSTM"
   ]
  },
  {
   "cell_type": "code",
   "execution_count": null,
   "metadata": {
    "colab": {
     "base_uri": "https://localhost:8080/"
    },
    "executionInfo": {
     "elapsed": 40879,
     "status": "ok",
     "timestamp": 1647937686083,
     "user": {
      "displayName": "Chuan Bin Phoe",
      "photoUrl": "https://lh3.googleusercontent.com/a/default-user=s64",
      "userId": "05567159451591599581"
     },
     "user_tz": -480
    },
    "id": "RRGVdsJ6tPOq",
    "outputId": "cb787758-299a-4d33-abb8-a29de421a285"
   },
   "outputs": [
    {
     "name": "stdout",
     "output_type": "stream",
     "text": [
      "Size of TEXT vocabulary: 3286\n",
      "Size of LABEL vocabulary: 2\n",
      "Top 10 most frequent word in the vocabulary: [('the', 417), ('to', 410), ('a', 311), ('in', 268), ('of', 267), ('on', 253), ('for', 251), ('and', 227), ('is', 212), ('this', 148)]\n",
      "cuda\n",
      "RNN(\n",
      "  (embedding): Embedding(3286, 300, padding_idx=1)\n",
      "  (rnn): LSTM(300, 512, num_layers=4, batch_first=True, dropout=0.5)\n",
      "  (fc1): Linear(in_features=1024, out_features=512, bias=True)\n",
      "  (fc2): Linear(in_features=512, out_features=1, bias=True)\n",
      "  (dropout): Dropout(p=0.5, inplace=False)\n",
      ")\n",
      "The model has 9,481,929 trainable parameters\n",
      "\n",
      "Idx: 50, Train Loss: 0.7170\n",
      "Epoch 1: Train Loss: 0.68122 | Val. Loss: 0.67062 | Val. Acc: 0.66060 | Time Taken:  2.199s\n",
      "Idx: 50, Train Loss: 0.7436\n",
      "Epoch 2: Train Loss: 0.67078 | Val. Loss: 0.64631 | Val. Acc: 0.66060 | Time Taken:  2.103s\n",
      "Idx: 50, Train Loss: 0.6557\n",
      "Epoch 3: Train Loss: 0.67760 | Val. Loss: 0.65100 | Val. Acc: 0.66060 | Time Taken:  2.250s\n",
      "Validation Loss did not improve count: 1\n",
      "Idx: 50, Train Loss: 0.7858\n",
      "Epoch 4: Train Loss: 0.62950 | Val. Loss: 0.52529 | Val. Acc: 0.73260 | Time Taken:  2.669s\n",
      "Idx: 50, Train Loss: 0.5930\n",
      "Epoch 5: Train Loss: 0.57045 | Val. Loss: 0.52379 | Val. Acc: 0.78571 | Time Taken:  2.437s\n",
      "Idx: 50, Train Loss: 0.5111\n",
      "Epoch 6: Train Loss: 0.51797 | Val. Loss: 0.46809 | Val. Acc: 0.77118 | Time Taken:  2.308s\n",
      "Idx: 50, Train Loss: 0.3465\n",
      "Epoch 7: Train Loss: 0.48066 | Val. Loss: 0.46291 | Val. Acc: 0.79052 | Time Taken:  2.356s\n",
      "Idx: 50, Train Loss: 0.4668\n",
      "Epoch 8: Train Loss: 0.46211 | Val. Loss: 0.55599 | Val. Acc: 0.79888 | Time Taken:  2.417s\n",
      "Validation Loss did not improve count: 1\n",
      "Idx: 50, Train Loss: 0.4743\n",
      "Epoch 9: Train Loss: 0.46168 | Val. Loss: 0.46826 | Val. Acc: 0.78812 | Time Taken:  2.498s\n",
      "Idx: 50, Train Loss: 0.6209\n",
      "Epoch 10: Train Loss: 0.43728 | Val. Loss: 0.46434 | Val. Acc: 0.79533 | Time Taken:  2.194s\n",
      "Idx: 50, Train Loss: 0.4567\n",
      "Epoch 11: Train Loss: 0.40369 | Val. Loss: 0.49231 | Val. Acc: 0.80254 | Time Taken:  2.206s\n",
      "Epoch    11: reducing learning rate of group 0 to 5.0000e-05.\n",
      "Validation Loss did not improve count: 1\n",
      "Idx: 50, Train Loss: 0.4413\n",
      "Epoch 12: Train Loss: 0.39735 | Val. Loss: 0.48079 | Val. Acc: 0.79544 | Time Taken:  2.250s\n",
      "Idx: 50, Train Loss: 0.3756\n",
      "Epoch 13: Train Loss: 0.39696 | Val. Loss: 0.47181 | Val. Acc: 0.80391 | Time Taken:  2.089s\n",
      "Idx: 50, Train Loss: 0.4616\n",
      "Epoch 14: Train Loss: 0.40196 | Val. Loss: 0.47765 | Val. Acc: 0.79785 | Time Taken:  2.229s\n",
      "Validation Loss did not improve count: 1\n",
      "Idx: 50, Train Loss: 0.3368\n",
      "Epoch 15: Train Loss: 0.37252 | Val. Loss: 0.48546 | Val. Acc: 0.79659 | Time Taken:  2.097s\n",
      "Epoch    15: reducing learning rate of group 0 to 1.0000e-05.\n",
      "Validation Loss did not improve count: 2\n",
      "\n"
     ]
    },
    {
     "data": {
      "image/png": "[encoded data removed]",
      "text/plain": [
       "<Figure size 432x288 with 1 Axes>"
      ]
     },
     "metadata": {
      "needs_background": "light"
     },
     "output_type": "display_data"
    },
    {
     "name": "stdout",
     "output_type": "stream",
     "text": [
      "F1-Score and Confusion Matrix of the Validation Set\n",
      "\n",
      "              precision    recall  f1-score   support\n",
      "\n",
      "           0     0.8577    0.8321    0.8447       268\n",
      "           1     0.6897    0.7299    0.7092       137\n",
      "\n",
      "    accuracy                         0.7975       405\n",
      "   macro avg     0.7737    0.7810    0.7770       405\n",
      "weighted avg     0.8009    0.7975    0.7989       405\n",
      "\n",
      "\n",
      "\n"
     ]
    },
    {
     "data": {
      "image/png": "[encoded data removed]",
      "text/plain": [
       "<Figure size 576x432 with 2 Axes>"
      ]
     },
     "metadata": {
      "needs_background": "light"
     },
     "output_type": "display_data"
    },
    {
     "name": "stdout",
     "output_type": "stream",
     "text": [
      "\n",
      "AUC Score: 0.8445500599193813\n"
     ]
    }
   ],
   "source": [
    "# call the data handler to load the data\n",
    "TEXT, LABEL, device, train_iterator, valid_iterator = data_handler(DATA_PATH, \n",
    "                                                                   train_data_filename=data1_train_filepath, \n",
    "                                                                   val_data_filename=data1_val_filepath, \n",
    "                                                                   batch_size=32)\n",
    "\n",
    "MODEL_NAME = 'data1_unilstm_model.pt'\n",
    "\n",
    "# Hyperparameters\n",
    "NUM_EPOCHS = 15\n",
    "LEARNING_RATE = 5e-04\n",
    "\n",
    "INPUT_DIM = len(TEXT.vocab)\n",
    "EMBEDDING_DIM = 300\n",
    "HIDDEN_DIM = 512\n",
    "OUTPUT_DIM = 1\n",
    "N_LAYERS = 4 \n",
    "BIDIRECTIONAL = False # changeable\n",
    "RNN_TYPE = 'lstm' # changeable\n",
    "DROPOUT = 0.5\n",
    "# padding\n",
    "PAD_IDX = TEXT.vocab.stoi[TEXT.pad_token] \n",
    "\n",
    "#creating instance of our LSTM_net class\n",
    "model = RNN(vocab_size=INPUT_DIM, \n",
    "            embedding_dim=EMBEDDING_DIM, \n",
    "            hidden_dim=HIDDEN_DIM, \n",
    "            output_dim=OUTPUT_DIM, \n",
    "            n_layers=N_LAYERS, \n",
    "            bidirectional=BIDIRECTIONAL, \n",
    "            rnn_type=RNN_TYPE,\n",
    "            dropout=DROPOUT, \n",
    "            pad_idx=PAD_IDX)\n",
    "# see the model description\n",
    "print(model)\n",
    "    \n",
    "print(f'The model has {count_parameters(model):,} trainable parameters')\n",
    "print()\n",
    "\n",
    "pretrained_embeddings = TEXT.vocab.vectors\n",
    "model.embedding.weight.data.copy_(pretrained_embeddings)\n",
    "\n",
    "#  to initiaise padded to zeros\n",
    "model.embedding.weight.data[PAD_IDX] = torch.zeros(EMBEDDING_DIM)\n",
    "\n",
    "# fit the model\n",
    "fpr1a, tpr1a, get_auc_value1a, thresholds1a = fit_model(model=model, \n",
    "                                                device=device,\n",
    "                                                learning_rate=LEARNING_RATE,\n",
    "                                                num_epochs=NUM_EPOCHS,\n",
    "                                                root_path=SAVED_MODEL_PATH, \n",
    "                                                filepath=MODEL_NAME)"
   ]
  },
  {
   "cell_type": "code",
   "execution_count": null,
   "metadata": {
    "colab": {
     "base_uri": "https://localhost:8080/"
    },
    "executionInfo": {
     "elapsed": 70318,
     "status": "ok",
     "timestamp": 1647937756384,
     "user": {
      "displayName": "Chuan Bin Phoe",
      "photoUrl": "https://lh3.googleusercontent.com/a/default-user=s64",
      "userId": "05567159451591599581"
     },
     "user_tz": -480
    },
    "id": "Z2nQseyPuNvJ",
    "outputId": "df09d893-fff0-48b8-ddc1-2d2243f8aee9"
   },
   "outputs": [
    {
     "name": "stdout",
     "output_type": "stream",
     "text": [
      "Size of TEXT vocabulary: 3286\n",
      "Size of LABEL vocabulary: 2\n",
      "Top 10 most frequent word in the vocabulary: [('the', 417), ('to', 410), ('a', 311), ('in', 268), ('of', 267), ('on', 253), ('for', 251), ('and', 227), ('is', 212), ('this', 148)]\n",
      "cuda\n"
     ]
    }
   ],
   "source": [
    "# call the data handler to load the data\n",
    "TEXT, LABEL, device, train_iterator, valid_iterator = data_handler(DATA_PATH, \n",
    "                                                                   train_data_filename=data1_train_filepath, \n",
    "                                                                   val_data_filename=data1_val_filepath, \n",
    "                                                                   batch_size=32)\n",
    "\n",
    "MODEL_NAME = 'data1_unilstm_model.pt'\n",
    "\n",
    "# Hyperparameters\n",
    "NUM_EPOCHS = 15\n",
    "LEARNING_RATE = 5e-04\n",
    "\n",
    "INPUT_DIM = len(TEXT.vocab)\n",
    "EMBEDDING_DIM = 300\n",
    "HIDDEN_DIM = 512\n",
    "OUTPUT_DIM = 1\n",
    "N_LAYERS = 4 \n",
    "BIDIRECTIONAL = False # changeable\n",
    "RNN_TYPE = 'lstm' # changeable\n",
    "DROPOUT = 0.5\n",
    "# padding\n",
    "PAD_IDX = TEXT.vocab.stoi[TEXT.pad_token] \n",
    "\n",
    "#creating instance of our LSTM_net class\n",
    "model = RNN(vocab_size=INPUT_DIM, \n",
    "            embedding_dim=EMBEDDING_DIM, \n",
    "            hidden_dim=HIDDEN_DIM, \n",
    "            output_dim=OUTPUT_DIM, \n",
    "            n_layers=N_LAYERS, \n",
    "            bidirectional=BIDIRECTIONAL, \n",
    "            rnn_type=RNN_TYPE,\n",
    "            dropout=DROPOUT, \n",
    "            pad_idx=PAD_IDX)\n",
    "\n",
    "PATH = SAVED_MODEL_PATH+MODEL_NAME\n",
    "model.load_state_dict(torch.load(PATH))\n",
    "\n",
    "data2_pred = []\n",
    "data3_pred = []\n",
    "\n",
    "for sentence in data2['text_cleaned'].to_list():\n",
    "    data2_pred.append(predict(model, sentence))\n",
    "for sentence in data3['text_cleaned'].to_list():\n",
    "    data3_pred.append(predict(model, sentence))\n",
    "\n",
    "results_df = results_analyser.calculate_metrics(results_df, data2[\"Label\"].to_list(), data2_pred, \"data2_\"+MODEL_NAME)\n",
    "results_df = results_analyser.calculate_metrics(results_df, data3[\"Label\"].to_list(), data3_pred, \"data3_\"+MODEL_NAME)"
   ]
  },
  {
   "cell_type": "markdown",
   "metadata": {
    "id": "4LiixkEeR5Tq"
   },
   "source": [
    "### CONFIGURATION 1b\n",
    "- Data 1\n",
    "- BiLSTM"
   ]
  },
  {
   "cell_type": "code",
   "execution_count": null,
   "metadata": {
    "colab": {
     "base_uri": "https://localhost:8080/"
    },
    "executionInfo": {
     "elapsed": 69643,
     "status": "ok",
     "timestamp": 1647937825953,
     "user": {
      "displayName": "Chuan Bin Phoe",
      "photoUrl": "https://lh3.googleusercontent.com/a/default-user=s64",
      "userId": "05567159451591599581"
     },
     "user_tz": -480
    },
    "id": "6SFSwRryLjpw",
    "outputId": "e2b3f106-8abc-4e40-96b5-28ee3d4f1867"
   },
   "outputs": [
    {
     "name": "stdout",
     "output_type": "stream",
     "text": [
      "Size of TEXT vocabulary: 3286\n",
      "Size of LABEL vocabulary: 2\n",
      "Top 10 most frequent word in the vocabulary: [('the', 417), ('to', 410), ('a', 311), ('in', 268), ('of', 267), ('on', 253), ('for', 251), ('and', 227), ('is', 212), ('this', 148)]\n",
      "cuda\n",
      "RNN(\n",
      "  (embedding): Embedding(3286, 300, padding_idx=1)\n",
      "  (rnn): LSTM(300, 512, num_layers=4, batch_first=True, dropout=0.5, bidirectional=True)\n",
      "  (fc1): Linear(in_features=1024, out_features=512, bias=True)\n",
      "  (fc2): Linear(in_features=512, out_features=1, bias=True)\n",
      "  (dropout): Dropout(p=0.5, inplace=False)\n",
      ")\n",
      "The model has 23,744,201 trainable parameters\n",
      "\n",
      "Idx: 50, Train Loss: 0.7296\n",
      "Epoch 1: Train Loss: 0.67792 | Val. Loss: 0.65682 | Val. Acc: 0.66060 | Time Taken:  4.393s\n",
      "Idx: 50, Train Loss: 0.7719\n",
      "Epoch 2: Train Loss: 0.68016 | Val. Loss: 0.65746 | Val. Acc: 0.68945 | Time Taken:  4.152s\n",
      "Validation Loss did not improve count: 1\n",
      "Idx: 50, Train Loss: 0.4857\n",
      "Epoch 3: Train Loss: 0.64856 | Val. Loss: 0.53141 | Val. Acc: 0.72779 | Time Taken:  4.141s\n",
      "Idx: 50, Train Loss: 0.6985\n",
      "Epoch 4: Train Loss: 0.56881 | Val. Loss: 0.57900 | Val. Acc: 0.71577 | Time Taken:  4.210s\n",
      "Validation Loss did not improve count: 1\n",
      "Idx: 50, Train Loss: 0.4999\n",
      "Epoch 5: Train Loss: 0.53348 | Val. Loss: 0.45533 | Val. Acc: 0.80243 | Time Taken:  4.283s\n",
      "Idx: 50, Train Loss: 0.4344\n",
      "Epoch 6: Train Loss: 0.49272 | Val. Loss: 0.45768 | Val. Acc: 0.79647 | Time Taken:  4.125s\n",
      "Validation Loss did not improve count: 1\n",
      "Idx: 50, Train Loss: 0.4220\n",
      "Epoch 7: Train Loss: 0.43761 | Val. Loss: 0.43477 | Val. Acc: 0.80609 | Time Taken:  4.173s\n",
      "Idx: 50, Train Loss: 0.3868\n",
      "Epoch 8: Train Loss: 0.44946 | Val. Loss: 0.42759 | Val. Acc: 0.81685 | Time Taken:  4.051s\n",
      "Idx: 50, Train Loss: 0.4314\n",
      "Epoch 9: Train Loss: 0.43244 | Val. Loss: 0.41731 | Val. Acc: 0.82166 | Time Taken:  4.189s\n",
      "Idx: 50, Train Loss: 0.3728\n",
      "Epoch 10: Train Loss: 0.40747 | Val. Loss: 0.41653 | Val. Acc: 0.82772 | Time Taken:  4.271s\n",
      "Idx: 50, Train Loss: 0.4226\n",
      "Epoch 11: Train Loss: 0.40751 | Val. Loss: 0.43502 | Val. Acc: 0.82177 | Time Taken:  4.288s\n",
      "Validation Loss did not improve count: 1\n",
      "Idx: 50, Train Loss: 0.5507\n",
      "Epoch 12: Train Loss: 0.42118 | Val. Loss: 0.45061 | Val. Acc: 0.81445 | Time Taken:  4.196s\n",
      "Validation Loss did not improve count: 2\n",
      "Idx: 50, Train Loss: 0.3722\n",
      "Epoch 13: Train Loss: 0.40778 | Val. Loss: 0.42393 | Val. Acc: 0.81685 | Time Taken:  4.184s\n",
      "Idx: 50, Train Loss: 0.6337\n",
      "Epoch 14: Train Loss: 0.38019 | Val. Loss: 0.52216 | Val. Acc: 0.83745 | Time Taken:  4.086s\n",
      "Epoch    14: reducing learning rate of group 0 to 5.0000e-05.\n",
      "Validation Loss did not improve count: 1\n",
      "Idx: 50, Train Loss: 0.4495\n",
      "Epoch 15: Train Loss: 0.38960 | Val. Loss: 0.43199 | Val. Acc: 0.80357 | Time Taken:  4.061s\n",
      "\n"
     ]
    },
    {
     "data": {
      "image/png": "[encoded data removed]",
      "text/plain": [
       "<Figure size 432x288 with 1 Axes>"
      ]
     },
     "metadata": {
      "needs_background": "light"
     },
     "output_type": "display_data"
    },
    {
     "name": "stdout",
     "output_type": "stream",
     "text": [
      "F1-Score and Confusion Matrix of the Validation Set\n",
      "\n",
      "              precision    recall  f1-score   support\n",
      "\n",
      "           0     0.8524    0.8619    0.8571       268\n",
      "           1     0.7239    0.7080    0.7159       137\n",
      "\n",
      "    accuracy                         0.8099       405\n",
      "   macro avg     0.7881    0.7850    0.7865       405\n",
      "weighted avg     0.8089    0.8099    0.8094       405\n",
      "\n",
      "\n",
      "\n"
     ]
    },
    {
     "data": {
      "image/png": "[encoded data removed]",
      "text/plain": [
       "<Figure size 576x432 with 2 Axes>"
      ]
     },
     "metadata": {
      "needs_background": "light"
     },
     "output_type": "display_data"
    },
    {
     "name": "stdout",
     "output_type": "stream",
     "text": [
      "\n",
      "AUC Score: 0.8692259505392745\n"
     ]
    }
   ],
   "source": [
    "# call the data handler to load the data\n",
    "TEXT, LABEL, device, train_iterator, valid_iterator = data_handler(DATA_PATH, \n",
    "                                                                   train_data_filename=data1_train_filepath, \n",
    "                                                                   val_data_filename=data1_val_filepath, \n",
    "                                                                   batch_size=32)\n",
    "\n",
    "MODEL_NAME = 'data1_bilstm_model.pt'\n",
    "\n",
    "# Hyperparameters\n",
    "NUM_EPOCHS = 15\n",
    "LEARNING_RATE = 5e-04\n",
    "\n",
    "INPUT_DIM = len(TEXT.vocab)\n",
    "EMBEDDING_DIM = 300\n",
    "HIDDEN_DIM = 512\n",
    "OUTPUT_DIM = 1\n",
    "N_LAYERS = 4 \n",
    "BIDIRECTIONAL = True # changeable\n",
    "RNN_TYPE = 'lstm' # changeable\n",
    "DROPOUT = 0.5\n",
    "# padding\n",
    "PAD_IDX = TEXT.vocab.stoi[TEXT.pad_token] \n",
    "\n",
    "#creating instance of our LSTM_net class\n",
    "model = RNN(vocab_size=INPUT_DIM, \n",
    "            embedding_dim=EMBEDDING_DIM, \n",
    "            hidden_dim=HIDDEN_DIM, \n",
    "            output_dim=OUTPUT_DIM, \n",
    "            n_layers=N_LAYERS, \n",
    "            bidirectional=BIDIRECTIONAL, \n",
    "            rnn_type=RNN_TYPE,\n",
    "            dropout=DROPOUT, \n",
    "            pad_idx=PAD_IDX)\n",
    "# see the model description\n",
    "print(model)\n",
    "    \n",
    "print(f'The model has {count_parameters(model):,} trainable parameters')\n",
    "print()\n",
    "\n",
    "pretrained_embeddings = TEXT.vocab.vectors\n",
    "model.embedding.weight.data.copy_(pretrained_embeddings)\n",
    "\n",
    "#  to initiaise padded to zeros\n",
    "model.embedding.weight.data[PAD_IDX] = torch.zeros(EMBEDDING_DIM)\n",
    "\n",
    "# fit the model\n",
    "fpr1b, tpr1b, get_auc_value1b, thresholds1b = fit_model(model=model, \n",
    "                                                device=device,\n",
    "                                                learning_rate=LEARNING_RATE,\n",
    "                                                num_epochs=NUM_EPOCHS,\n",
    "                                                root_path=SAVED_MODEL_PATH, \n",
    "                                                filepath=MODEL_NAME)"
   ]
  },
  {
   "cell_type": "code",
   "execution_count": null,
   "metadata": {
    "colab": {
     "base_uri": "https://localhost:8080/"
    },
    "executionInfo": {
     "elapsed": 128568,
     "status": "ok",
     "timestamp": 1647937954481,
     "user": {
      "displayName": "Chuan Bin Phoe",
      "photoUrl": "https://lh3.googleusercontent.com/a/default-user=s64",
      "userId": "05567159451591599581"
     },
     "user_tz": -480
    },
    "id": "obSKMrgSuWfK",
    "outputId": "dbd21ab2-4fa0-4f5b-baee-7feab23c78ff"
   },
   "outputs": [
    {
     "name": "stdout",
     "output_type": "stream",
     "text": [
      "Size of TEXT vocabulary: 3286\n",
      "Size of LABEL vocabulary: 2\n",
      "Top 10 most frequent word in the vocabulary: [('the', 417), ('to', 410), ('a', 311), ('in', 268), ('of', 267), ('on', 253), ('for', 251), ('and', 227), ('is', 212), ('this', 148)]\n",
      "cuda\n"
     ]
    }
   ],
   "source": [
    "# call the data handler to load the data\n",
    "TEXT, LABEL, device, train_iterator, valid_iterator = data_handler(DATA_PATH, \n",
    "                                                                   train_data_filename=data1_train_filepath, \n",
    "                                                                   val_data_filename=data1_val_filepath, \n",
    "                                                                   batch_size=32)\n",
    "\n",
    "MODEL_NAME = 'data1_bilstm_model.pt'\n",
    "\n",
    "# Hyperparameters\n",
    "NUM_EPOCHS = 15\n",
    "LEARNING_RATE = 5e-04\n",
    "\n",
    "INPUT_DIM = len(TEXT.vocab)\n",
    "EMBEDDING_DIM = 300\n",
    "HIDDEN_DIM = 512\n",
    "OUTPUT_DIM = 1\n",
    "N_LAYERS = 4 \n",
    "BIDIRECTIONAL = True # changeable\n",
    "RNN_TYPE = 'lstm' # changeable\n",
    "DROPOUT = 0.5\n",
    "# padding\n",
    "PAD_IDX = TEXT.vocab.stoi[TEXT.pad_token] \n",
    "\n",
    "#creating instance of our LSTM_net class\n",
    "model = RNN(vocab_size=INPUT_DIM, \n",
    "            embedding_dim=EMBEDDING_DIM, \n",
    "            hidden_dim=HIDDEN_DIM, \n",
    "            output_dim=OUTPUT_DIM, \n",
    "            n_layers=N_LAYERS, \n",
    "            bidirectional=BIDIRECTIONAL, \n",
    "            rnn_type=RNN_TYPE,\n",
    "            dropout=DROPOUT, \n",
    "            pad_idx=PAD_IDX)\n",
    "\n",
    "PATH = SAVED_MODEL_PATH+MODEL_NAME\n",
    "model.load_state_dict(torch.load(PATH))\n",
    "\n",
    "data2_pred = []\n",
    "data3_pred = []\n",
    "\n",
    "for sentence in data2['text_cleaned'].to_list():\n",
    "    data2_pred.append(predict(model, sentence))\n",
    "for sentence in data3['text_cleaned'].to_list():\n",
    "    data3_pred.append(predict(model, sentence))\n",
    "\n",
    "results_df = results_analyser.calculate_metrics(results_df, data2[\"Label\"].to_list(), data2_pred, \"data2_\"+MODEL_NAME)\n",
    "results_df = results_analyser.calculate_metrics(results_df, data3[\"Label\"].to_list(), data3_pred, \"data3_\"+MODEL_NAME)"
   ]
  },
  {
   "cell_type": "markdown",
   "metadata": {
    "id": "A3_DDXB_Sap4"
   },
   "source": [
    "### CONFIGURATION 1c\n",
    "- Data 1\n",
    "- Uni-GRU"
   ]
  },
  {
   "cell_type": "code",
   "execution_count": null,
   "metadata": {
    "colab": {
     "base_uri": "https://localhost:8080/"
    },
    "executionInfo": {
     "elapsed": 32105,
     "status": "ok",
     "timestamp": 1647937986522,
     "user": {
      "displayName": "Chuan Bin Phoe",
      "photoUrl": "https://lh3.googleusercontent.com/a/default-user=s64",
      "userId": "05567159451591599581"
     },
     "user_tz": -480
    },
    "id": "Z5MRMUobVQhR",
    "outputId": "d6e22f61-86a1-40ae-fc60-e377737ad260"
   },
   "outputs": [
    {
     "name": "stdout",
     "output_type": "stream",
     "text": [
      "Size of TEXT vocabulary: 3286\n",
      "Size of LABEL vocabulary: 2\n",
      "Top 10 most frequent word in the vocabulary: [('the', 417), ('to', 410), ('a', 311), ('in', 268), ('of', 267), ('on', 253), ('for', 251), ('and', 227), ('is', 212), ('this', 148)]\n",
      "cuda\n",
      "RNN(\n",
      "  (embedding): Embedding(3286, 300, padding_idx=1)\n",
      "  (rnn): GRU(300, 512, num_layers=4, batch_first=True, dropout=0.5)\n",
      "  (fc1): Linear(in_features=1024, out_features=512, bias=True)\n",
      "  (fc2): Linear(in_features=512, out_features=1, bias=True)\n",
      "  (dropout): Dropout(p=0.5, inplace=False)\n",
      ")\n",
      "The model has 7,489,225 trainable parameters\n",
      "\n",
      "Idx: 50, Train Loss: 0.6868\n",
      "Epoch 1: Train Loss: 0.67633 | Val. Loss: 0.62912 | Val. Acc: 0.66060 | Time Taken:  1.891s\n",
      "Idx: 50, Train Loss: 0.6214\n",
      "Epoch 2: Train Loss: 0.63982 | Val. Loss: 0.58440 | Val. Acc: 0.72070 | Time Taken:  1.772s\n",
      "Idx: 50, Train Loss: 0.6532\n",
      "Epoch 3: Train Loss: 0.59566 | Val. Loss: 0.52020 | Val. Acc: 0.74222 | Time Taken:  1.745s\n",
      "Idx: 50, Train Loss: 0.6530\n",
      "Epoch 4: Train Loss: 0.56040 | Val. Loss: 0.58394 | Val. Acc: 0.71589 | Time Taken:  1.708s\n",
      "Validation Loss did not improve count: 1\n",
      "Idx: 50, Train Loss: 0.6176\n",
      "Epoch 5: Train Loss: 0.55520 | Val. Loss: 0.52239 | Val. Acc: 0.74473 | Time Taken:  1.745s\n",
      "Idx: 50, Train Loss: 0.6990\n",
      "Epoch 6: Train Loss: 0.50287 | Val. Loss: 0.47270 | Val. Acc: 0.76763 | Time Taken:  1.754s\n",
      "Idx: 50, Train Loss: 0.3210\n",
      "Epoch 7: Train Loss: 0.45597 | Val. Loss: 0.46257 | Val. Acc: 0.77839 | Time Taken:  1.795s\n",
      "Idx: 50, Train Loss: 0.4989\n",
      "Epoch 8: Train Loss: 0.43386 | Val. Loss: 0.45743 | Val. Acc: 0.80735 | Time Taken:  1.755s\n",
      "Idx: 50, Train Loss: 0.4063\n",
      "Epoch 9: Train Loss: 0.44559 | Val. Loss: 0.47607 | Val. Acc: 0.78331 | Time Taken:  1.745s\n",
      "Validation Loss did not improve count: 1\n",
      "Idx: 50, Train Loss: 0.4640\n",
      "Epoch 10: Train Loss: 0.40807 | Val. Loss: 0.48496 | Val. Acc: 0.80495 | Time Taken:  1.708s\n",
      "Validation Loss did not improve count: 2\n",
      "Idx: 50, Train Loss: 0.5077\n",
      "Epoch 11: Train Loss: 0.41977 | Val. Loss: 0.47542 | Val. Acc: 0.78812 | Time Taken:  1.716s\n",
      "Idx: 50, Train Loss: 0.5686\n",
      "Epoch 12: Train Loss: 0.42689 | Val. Loss: 0.46139 | Val. Acc: 0.80128 | Time Taken:  1.780s\n",
      "Epoch    12: reducing learning rate of group 0 to 5.0000e-05.\n",
      "Idx: 50, Train Loss: 0.3910\n",
      "Epoch 13: Train Loss: 0.38132 | Val. Loss: 0.46732 | Val. Acc: 0.80609 | Time Taken:  1.863s\n",
      "Validation Loss did not improve count: 1\n",
      "Idx: 50, Train Loss: 0.4664\n",
      "Epoch 14: Train Loss: 0.38682 | Val. Loss: 0.46501 | Val. Acc: 0.80735 | Time Taken:  1.947s\n",
      "Idx: 50, Train Loss: 0.2659\n",
      "Epoch 15: Train Loss: 0.38013 | Val. Loss: 0.46586 | Val. Acc: 0.79888 | Time Taken:  2.170s\n",
      "Validation Loss did not improve count: 1\n",
      "\n"
     ]
    },
    {
     "data": {
      "image/png": "[encoded data removed]",
      "text/plain": [
       "<Figure size 432x288 with 1 Axes>"
      ]
     },
     "metadata": {
      "needs_background": "light"
     },
     "output_type": "display_data"
    },
    {
     "name": "stdout",
     "output_type": "stream",
     "text": [
      "F1-Score and Confusion Matrix of the Validation Set\n",
      "\n",
      "              precision    recall  f1-score   support\n",
      "\n",
      "           0     0.8534    0.8470    0.8502       268\n",
      "           1     0.7050    0.7153    0.7101       137\n",
      "\n",
      "    accuracy                         0.8025       405\n",
      "   macro avg     0.7792    0.7812    0.7802       405\n",
      "weighted avg     0.8032    0.8025    0.8028       405\n",
      "\n",
      "\n",
      "\n"
     ]
    },
    {
     "data": {
      "image/png": "[encoded data removed]",
      "text/plain": [
       "<Figure size 576x432 with 2 Axes>"
      ]
     },
     "metadata": {
      "needs_background": "light"
     },
     "output_type": "display_data"
    },
    {
     "name": "stdout",
     "output_type": "stream",
     "text": [
      "\n",
      "AUC Score: 0.8415268547772089\n"
     ]
    }
   ],
   "source": [
    "# call the data handler to load the data\n",
    "TEXT, LABEL, device, train_iterator, valid_iterator = data_handler(DATA_PATH, \n",
    "                                                                   train_data_filename=data1_train_filepath, \n",
    "                                                                   val_data_filename=data1_val_filepath, \n",
    "                                                                   batch_size=32)\n",
    "\n",
    "MODEL_NAME = 'data1_unigru_model.pt'\n",
    "\n",
    "# Hyperparameters\n",
    "NUM_EPOCHS = 15\n",
    "LEARNING_RATE = 5e-04\n",
    "\n",
    "INPUT_DIM = len(TEXT.vocab)\n",
    "EMBEDDING_DIM = 300\n",
    "HIDDEN_DIM = 512\n",
    "OUTPUT_DIM = 1\n",
    "N_LAYERS = 4 \n",
    "BIDIRECTIONAL = False # changeable\n",
    "RNN_TYPE = 'gru' # changeable\n",
    "DROPOUT = 0.5\n",
    "# padding\n",
    "PAD_IDX = TEXT.vocab.stoi[TEXT.pad_token] \n",
    "\n",
    "#creating instance of our LSTM_net class\n",
    "model = RNN(vocab_size=INPUT_DIM, \n",
    "            embedding_dim=EMBEDDING_DIM, \n",
    "            hidden_dim=HIDDEN_DIM, \n",
    "            output_dim=OUTPUT_DIM, \n",
    "            n_layers=N_LAYERS, \n",
    "            bidirectional=BIDIRECTIONAL, \n",
    "            rnn_type=RNN_TYPE,\n",
    "            dropout=DROPOUT, \n",
    "            pad_idx=PAD_IDX)\n",
    "# see the model description\n",
    "print(model)\n",
    "    \n",
    "print(f'The model has {count_parameters(model):,} trainable parameters')\n",
    "print()\n",
    "\n",
    "pretrained_embeddings = TEXT.vocab.vectors\n",
    "model.embedding.weight.data.copy_(pretrained_embeddings)\n",
    "\n",
    "#  to initiaise padded to zeros\n",
    "model.embedding.weight.data[PAD_IDX] = torch.zeros(EMBEDDING_DIM)\n",
    "\n",
    "# fit the model\n",
    "fpr1c, tpr1c, get_auc_value1c, thresholds1c = fit_model(model=model, \n",
    "                                                device=device,\n",
    "                                                learning_rate=LEARNING_RATE,\n",
    "                                                num_epochs=NUM_EPOCHS,\n",
    "                                                root_path=SAVED_MODEL_PATH, \n",
    "                                                filepath=MODEL_NAME)"
   ]
  },
  {
   "cell_type": "code",
   "execution_count": null,
   "metadata": {
    "colab": {
     "base_uri": "https://localhost:8080/"
    },
    "executionInfo": {
     "elapsed": 60826,
     "status": "ok",
     "timestamp": 1647938047326,
     "user": {
      "displayName": "Chuan Bin Phoe",
      "photoUrl": "https://lh3.googleusercontent.com/a/default-user=s64",
      "userId": "05567159451591599581"
     },
     "user_tz": -480
    },
    "id": "PEhwHPRiubSU",
    "outputId": "94255eb6-a34d-4d14-f49a-710f948edc99"
   },
   "outputs": [
    {
     "name": "stdout",
     "output_type": "stream",
     "text": [
      "Size of TEXT vocabulary: 3286\n",
      "Size of LABEL vocabulary: 2\n",
      "Top 10 most frequent word in the vocabulary: [('the', 417), ('to', 410), ('a', 311), ('in', 268), ('of', 267), ('on', 253), ('for', 251), ('and', 227), ('is', 212), ('this', 148)]\n",
      "cuda\n"
     ]
    }
   ],
   "source": [
    "# call the data handler to load the data\n",
    "TEXT, LABEL, device, train_iterator, valid_iterator = data_handler(DATA_PATH, \n",
    "                                                                   train_data_filename=data1_train_filepath, \n",
    "                                                                   val_data_filename=data1_val_filepath, \n",
    "                                                                   batch_size=32)\n",
    "\n",
    "MODEL_NAME = 'data1_unigru_model.pt'\n",
    "\n",
    "# Hyperparameters\n",
    "NUM_EPOCHS = 15\n",
    "LEARNING_RATE = 5e-04\n",
    "\n",
    "INPUT_DIM = len(TEXT.vocab)\n",
    "EMBEDDING_DIM = 300\n",
    "HIDDEN_DIM = 512\n",
    "OUTPUT_DIM = 1\n",
    "N_LAYERS = 4 \n",
    "BIDIRECTIONAL = False # changeable\n",
    "RNN_TYPE = 'gru' # changeable\n",
    "DROPOUT = 0.5\n",
    "# padding\n",
    "PAD_IDX = TEXT.vocab.stoi[TEXT.pad_token] \n",
    "\n",
    "#creating instance of our LSTM_net class\n",
    "model = RNN(vocab_size=INPUT_DIM, \n",
    "            embedding_dim=EMBEDDING_DIM, \n",
    "            hidden_dim=HIDDEN_DIM, \n",
    "            output_dim=OUTPUT_DIM, \n",
    "            n_layers=N_LAYERS, \n",
    "            bidirectional=BIDIRECTIONAL, \n",
    "            rnn_type=RNN_TYPE,\n",
    "            dropout=DROPOUT, \n",
    "            pad_idx=PAD_IDX)\n",
    "\n",
    "PATH = SAVED_MODEL_PATH+MODEL_NAME\n",
    "model.load_state_dict(torch.load(PATH))\n",
    "\n",
    "data2_pred = []\n",
    "data3_pred = []\n",
    "\n",
    "for sentence in data2['text_cleaned'].to_list():\n",
    "    data2_pred.append(predict(model, sentence))\n",
    "for sentence in data3['text_cleaned'].to_list():\n",
    "    data3_pred.append(predict(model, sentence))\n",
    "\n",
    "results_df = results_analyser.calculate_metrics(results_df, data2[\"Label\"].to_list(), data2_pred, \"data2_\"+MODEL_NAME)\n",
    "results_df = results_analyser.calculate_metrics(results_df, data3[\"Label\"].to_list(), data3_pred, \"data3_\"+MODEL_NAME)"
   ]
  },
  {
   "cell_type": "markdown",
   "metadata": {
    "id": "gKUwCefdSzdY"
   },
   "source": [
    "### CONFIGURATION 1d \n",
    "- Data 1\n",
    "- BiGRU"
   ]
  },
  {
   "cell_type": "code",
   "execution_count": null,
   "metadata": {
    "colab": {
     "base_uri": "https://localhost:8080/"
    },
    "executionInfo": {
     "elapsed": 55911,
     "status": "ok",
     "timestamp": 1647938103215,
     "user": {
      "displayName": "Chuan Bin Phoe",
      "photoUrl": "https://lh3.googleusercontent.com/a/default-user=s64",
      "userId": "05567159451591599581"
     },
     "user_tz": -480
    },
    "id": "nL1hSCATSjJW",
    "outputId": "077585b0-7eea-4144-aac0-23ca315e214d"
   },
   "outputs": [
    {
     "name": "stdout",
     "output_type": "stream",
     "text": [
      "Size of TEXT vocabulary: 3286\n",
      "Size of LABEL vocabulary: 2\n",
      "Top 10 most frequent word in the vocabulary: [('the', 417), ('to', 410), ('a', 311), ('in', 268), ('of', 267), ('on', 253), ('for', 251), ('and', 227), ('is', 212), ('this', 148)]\n",
      "cuda\n",
      "RNN(\n",
      "  (embedding): Embedding(3286, 300, padding_idx=1)\n",
      "  (rnn): GRU(300, 512, num_layers=4, batch_first=True, dropout=0.5, bidirectional=True)\n",
      "  (fc1): Linear(in_features=1024, out_features=512, bias=True)\n",
      "  (fc2): Linear(in_features=512, out_features=1, bias=True)\n",
      "  (dropout): Dropout(p=0.5, inplace=False)\n",
      ")\n",
      "The model has 18,185,929 trainable parameters\n",
      "\n",
      "Idx: 50, Train Loss: 0.6742\n",
      "Epoch 1: Train Loss: 0.68014 | Val. Loss: 0.65128 | Val. Acc: 0.68098 | Time Taken:  3.571s\n",
      "Idx: 50, Train Loss: 0.5893\n",
      "Epoch 2: Train Loss: 0.66247 | Val. Loss: 0.63981 | Val. Acc: 0.61596 | Time Taken:  3.446s\n",
      "Idx: 50, Train Loss: 0.5133\n",
      "Epoch 3: Train Loss: 0.60985 | Val. Loss: 0.51527 | Val. Acc: 0.76500 | Time Taken:  3.436s\n",
      "Idx: 50, Train Loss: 0.5476\n",
      "Epoch 4: Train Loss: 0.53318 | Val. Loss: 0.48590 | Val. Acc: 0.76866 | Time Taken:  3.451s\n",
      "Idx: 50, Train Loss: 0.5932\n",
      "Epoch 5: Train Loss: 0.50522 | Val. Loss: 0.42520 | Val. Acc: 0.79396 | Time Taken:  3.435s\n",
      "Idx: 50, Train Loss: 0.4752\n",
      "Epoch 6: Train Loss: 0.49153 | Val. Loss: 0.45373 | Val. Acc: 0.80723 | Time Taken:  3.438s\n",
      "Validation Loss did not improve count: 1\n",
      "Idx: 50, Train Loss: 0.4533\n",
      "Epoch 7: Train Loss: 0.44532 | Val. Loss: 0.55072 | Val. Acc: 0.75057 | Time Taken:  3.457s\n",
      "Validation Loss did not improve count: 2\n",
      "Idx: 50, Train Loss: 0.4857\n",
      "Epoch 8: Train Loss: 0.43183 | Val. Loss: 0.42943 | Val. Acc: 0.80941 | Time Taken:  3.436s\n",
      "Idx: 50, Train Loss: 0.4389\n",
      "Epoch 9: Train Loss: 0.43553 | Val. Loss: 0.43497 | Val. Acc: 0.80357 | Time Taken:  3.440s\n",
      "Epoch     9: reducing learning rate of group 0 to 5.0000e-05.\n",
      "Validation Loss did not improve count: 1\n",
      "Idx: 50, Train Loss: 0.4006\n",
      "Epoch 10: Train Loss: 0.39307 | Val. Loss: 0.42419 | Val. Acc: 0.82406 | Time Taken:  3.439s\n",
      "Idx: 50, Train Loss: 0.4025\n",
      "Epoch 11: Train Loss: 0.39560 | Val. Loss: 0.42449 | Val. Acc: 0.82154 | Time Taken:  3.432s\n",
      "Validation Loss did not improve count: 1\n",
      "Idx: 50, Train Loss: 0.4092\n",
      "Epoch 12: Train Loss: 0.39881 | Val. Loss: 0.42539 | Val. Acc: 0.83127 | Time Taken:  3.424s\n",
      "Validation Loss did not improve count: 2\n",
      "Idx: 50, Train Loss: 0.3958\n",
      "Epoch 13: Train Loss: 0.39845 | Val. Loss: 0.41694 | Val. Acc: 0.83242 | Time Taken:  3.436s\n",
      "Idx: 50, Train Loss: 0.3232\n",
      "Epoch 14: Train Loss: 0.38549 | Val. Loss: 0.41250 | Val. Acc: 0.83242 | Time Taken:  3.444s\n",
      "Idx: 50, Train Loss: 0.3966\n",
      "Epoch 15: Train Loss: 0.39468 | Val. Loss: 0.40731 | Val. Acc: 0.82521 | Time Taken:  3.446s\n",
      "\n"
     ]
    },
    {
     "data": {
      "image/png": "[encoded data removed]",
      "text/plain": [
       "<Figure size 432x288 with 1 Axes>"
      ]
     },
     "metadata": {
      "needs_background": "light"
     },
     "output_type": "display_data"
    },
    {
     "name": "stdout",
     "output_type": "stream",
     "text": [
      "F1-Score and Confusion Matrix of the Validation Set\n",
      "\n",
      "              precision    recall  f1-score   support\n",
      "\n",
      "           0     0.8623    0.8881    0.8750       268\n",
      "           1     0.7674    0.7226    0.7444       137\n",
      "\n",
      "    accuracy                         0.8321       405\n",
      "   macro avg     0.8149    0.8053    0.8097       405\n",
      "weighted avg     0.8302    0.8321    0.8308       405\n",
      "\n",
      "\n",
      "\n"
     ]
    },
    {
     "data": {
      "image/png": "[encoded data removed]",
      "text/plain": [
       "<Figure size 576x432 with 2 Axes>"
      ]
     },
     "metadata": {
      "needs_background": "light"
     },
     "output_type": "display_data"
    },
    {
     "name": "stdout",
     "output_type": "stream",
     "text": [
      "\n",
      "AUC Score: 0.8797663144133347\n"
     ]
    }
   ],
   "source": [
    "# call the data handler to load the data\n",
    "TEXT, LABEL, device, train_iterator, valid_iterator = data_handler(DATA_PATH, \n",
    "                                                                   train_data_filename=data1_train_filepath, \n",
    "                                                                   val_data_filename=data1_val_filepath, \n",
    "                                                                   batch_size=32)\n",
    "\n",
    "MODEL_NAME = 'data1_bigru_model.pt'\n",
    "\n",
    "# Hyperparameters\n",
    "NUM_EPOCHS = 15\n",
    "LEARNING_RATE = 5e-04\n",
    "\n",
    "INPUT_DIM = len(TEXT.vocab)\n",
    "EMBEDDING_DIM = 300\n",
    "HIDDEN_DIM = 512\n",
    "OUTPUT_DIM = 1\n",
    "N_LAYERS = 4 \n",
    "BIDIRECTIONAL = True # changeable\n",
    "RNN_TYPE = 'gru' # changeable\n",
    "DROPOUT = 0.5\n",
    "# padding\n",
    "PAD_IDX = TEXT.vocab.stoi[TEXT.pad_token] \n",
    "\n",
    "#creating instance of our LSTM_net class\n",
    "model = RNN(vocab_size=INPUT_DIM, \n",
    "            embedding_dim=EMBEDDING_DIM, \n",
    "            hidden_dim=HIDDEN_DIM, \n",
    "            output_dim=OUTPUT_DIM, \n",
    "            n_layers=N_LAYERS, \n",
    "            bidirectional=BIDIRECTIONAL, \n",
    "            rnn_type=RNN_TYPE,\n",
    "            dropout=DROPOUT, \n",
    "            pad_idx=PAD_IDX)\n",
    "# see the model description\n",
    "print(model)\n",
    "    \n",
    "print(f'The model has {count_parameters(model):,} trainable parameters')\n",
    "print()\n",
    "\n",
    "pretrained_embeddings = TEXT.vocab.vectors\n",
    "model.embedding.weight.data.copy_(pretrained_embeddings)\n",
    "\n",
    "#  to initiaise padded to zeros\n",
    "model.embedding.weight.data[PAD_IDX] = torch.zeros(EMBEDDING_DIM)\n",
    "\n",
    "# fit the model\n",
    "fpr1d, tpr1d, get_auc_value1d, thresholds1d = fit_model(model=model, \n",
    "                                                device=device,\n",
    "                                                learning_rate=LEARNING_RATE,\n",
    "                                                num_epochs=NUM_EPOCHS,\n",
    "                                                root_path=SAVED_MODEL_PATH, \n",
    "                                                filepath=MODEL_NAME)"
   ]
  },
  {
   "cell_type": "code",
   "execution_count": null,
   "metadata": {
    "colab": {
     "base_uri": "https://localhost:8080/"
    },
    "executionInfo": {
     "elapsed": 92280,
     "status": "ok",
     "timestamp": 1647938195460,
     "user": {
      "displayName": "Chuan Bin Phoe",
      "photoUrl": "https://lh3.googleusercontent.com/a/default-user=s64",
      "userId": "05567159451591599581"
     },
     "user_tz": -480
    },
    "id": "oDdgYWTsuhLR",
    "outputId": "32ee65d1-a424-4cca-95f6-0dbcc4b3f867"
   },
   "outputs": [
    {
     "name": "stdout",
     "output_type": "stream",
     "text": [
      "Size of TEXT vocabulary: 3286\n",
      "Size of LABEL vocabulary: 2\n",
      "Top 10 most frequent word in the vocabulary: [('the', 417), ('to', 410), ('a', 311), ('in', 268), ('of', 267), ('on', 253), ('for', 251), ('and', 227), ('is', 212), ('this', 148)]\n",
      "cuda\n"
     ]
    }
   ],
   "source": [
    "# call the data handler to load the data\n",
    "TEXT, LABEL, device, train_iterator, valid_iterator = data_handler(DATA_PATH, \n",
    "                                                                   train_data_filename=data1_train_filepath, \n",
    "                                                                   val_data_filename=data1_val_filepath, \n",
    "                                                                   batch_size=32)\n",
    "\n",
    "MODEL_NAME = 'data1_bigru_model.pt'\n",
    "\n",
    "# Hyperparameters\n",
    "NUM_EPOCHS = 15\n",
    "LEARNING_RATE = 5e-04\n",
    "\n",
    "INPUT_DIM = len(TEXT.vocab)\n",
    "EMBEDDING_DIM = 300\n",
    "HIDDEN_DIM = 512\n",
    "OUTPUT_DIM = 1\n",
    "N_LAYERS = 4 \n",
    "BIDIRECTIONAL = True # changeable\n",
    "RNN_TYPE = 'gru' # changeable\n",
    "DROPOUT = 0.5\n",
    "# padding\n",
    "PAD_IDX = TEXT.vocab.stoi[TEXT.pad_token] \n",
    "\n",
    "#creating instance of our LSTM_net class\n",
    "model = RNN(vocab_size=INPUT_DIM, \n",
    "            embedding_dim=EMBEDDING_DIM, \n",
    "            hidden_dim=HIDDEN_DIM, \n",
    "            output_dim=OUTPUT_DIM, \n",
    "            n_layers=N_LAYERS, \n",
    "            bidirectional=BIDIRECTIONAL, \n",
    "            rnn_type=RNN_TYPE,\n",
    "            dropout=DROPOUT, \n",
    "            pad_idx=PAD_IDX)\n",
    "\n",
    "PATH = SAVED_MODEL_PATH+MODEL_NAME\n",
    "model.load_state_dict(torch.load(PATH))\n",
    "\n",
    "data2_pred = []\n",
    "data3_pred = []\n",
    "\n",
    "for sentence in data2['text_cleaned'].to_list():\n",
    "    data2_pred.append(predict(model, sentence))\n",
    "for sentence in data3['text_cleaned'].to_list():\n",
    "    data3_pred.append(predict(model, sentence))\n",
    "\n",
    "results_df = results_analyser.calculate_metrics(results_df, data2[\"Label\"].to_list(), data2_pred, \"data2_\"+MODEL_NAME)\n",
    "results_df = results_analyser.calculate_metrics(results_df, data3[\"Label\"].to_list(), data3_pred, \"data3_\"+MODEL_NAME)"
   ]
  },
  {
   "cell_type": "markdown",
   "metadata": {
    "id": "0laZPCy0YJVU"
   },
   "source": [
    "### CONFIGURATION 2a\n",
    "- Data 4\n",
    "- Uni-LSTM"
   ]
  },
  {
   "cell_type": "code",
   "execution_count": null,
   "metadata": {
    "colab": {
     "base_uri": "https://localhost:8080/"
    },
    "executionInfo": {
     "elapsed": 57275,
     "status": "ok",
     "timestamp": 1647938252683,
     "user": {
      "displayName": "Chuan Bin Phoe",
      "photoUrl": "https://lh3.googleusercontent.com/a/default-user=s64",
      "userId": "05567159451591599581"
     },
     "user_tz": -480
    },
    "id": "POe6K0TTYJyA",
    "outputId": "ae5d4b04-4b1f-4346-f2df-834a3260c294"
   },
   "outputs": [
    {
     "name": "stdout",
     "output_type": "stream",
     "text": [
      "Size of TEXT vocabulary: 5931\n",
      "Size of LABEL vocabulary: 2\n",
      "Top 10 most frequent word in the vocabulary: [('the', 1712), ('to', 1238), ('and', 861), ('a', 822), ('is', 813), ('i', 643), ('this', 634), ('in', 596), ('of', 580), ('it', 478)]\n",
      "cuda\n",
      "RNN(\n",
      "  (embedding): Embedding(5931, 300, padding_idx=1)\n",
      "  (rnn): LSTM(300, 512, num_layers=4, batch_first=True, dropout=0.5)\n",
      "  (fc1): Linear(in_features=1024, out_features=512, bias=True)\n",
      "  (fc2): Linear(in_features=512, out_features=1, bias=True)\n",
      "  (dropout): Dropout(p=0.5, inplace=False)\n",
      ")\n",
      "The model has 10,275,429 trainable parameters\n",
      "\n",
      "Idx: 50, Train Loss: 0.6988\n",
      "Idx: 100, Train Loss: 0.6090\n",
      "Epoch 1: Train Loss: 0.65365 | Val. Loss: 0.62209 | Val. Acc: 0.73250 | Time Taken:  4.869s\n",
      "Idx: 50, Train Loss: 0.5716\n",
      "Idx: 100, Train Loss: 0.5235\n",
      "Epoch 2: Train Loss: 0.64557 | Val. Loss: 0.59008 | Val. Acc: 0.73250 | Time Taken:  4.772s\n",
      "Idx: 50, Train Loss: 0.6661\n",
      "Idx: 100, Train Loss: 0.4840\n",
      "Epoch 3: Train Loss: 0.63862 | Val. Loss: 0.57539 | Val. Acc: 0.73375 | Time Taken:  4.763s\n",
      "Idx: 50, Train Loss: 0.6024\n",
      "Idx: 100, Train Loss: 0.6713\n",
      "Epoch 4: Train Loss: 0.59702 | Val. Loss: 0.56989 | Val. Acc: 0.75750 | Time Taken:  4.791s\n",
      "Idx: 50, Train Loss: 0.5313\n",
      "Idx: 100, Train Loss: 0.4725\n",
      "Epoch 5: Train Loss: 0.57361 | Val. Loss: 0.54333 | Val. Acc: 0.75875 | Time Taken:  4.971s\n",
      "Idx: 50, Train Loss: 0.7380\n",
      "Idx: 100, Train Loss: 0.4877\n",
      "Epoch 6: Train Loss: 0.54048 | Val. Loss: 0.54384 | Val. Acc: 0.75500 | Time Taken:  4.789s\n",
      "Validation Loss did not improve count: 1\n",
      "Idx: 50, Train Loss: 0.4211\n",
      "Idx: 100, Train Loss: 0.5957\n",
      "Epoch 7: Train Loss: 0.52423 | Val. Loss: 0.52622 | Val. Acc: 0.75875 | Time Taken:  4.777s\n",
      "Idx: 50, Train Loss: 0.5443\n",
      "Idx: 100, Train Loss: 0.4715\n",
      "Epoch 8: Train Loss: 0.49662 | Val. Loss: 0.51600 | Val. Acc: 0.76000 | Time Taken:  4.770s\n",
      "Idx: 50, Train Loss: 0.3894\n",
      "Idx: 100, Train Loss: 0.4454\n",
      "Epoch 9: Train Loss: 0.47529 | Val. Loss: 0.54860 | Val. Acc: 0.72375 | Time Taken:  4.785s\n",
      "Validation Loss did not improve count: 1\n",
      "Idx: 50, Train Loss: 0.4395\n",
      "Idx: 100, Train Loss: 0.3059\n",
      "Epoch 10: Train Loss: 0.45100 | Val. Loss: 0.56723 | Val. Acc: 0.75250 | Time Taken:  4.783s\n",
      "Validation Loss did not improve count: 2\n",
      "Idx: 50, Train Loss: 0.4155\n",
      "Idx: 100, Train Loss: 0.4556\n",
      "Epoch 11: Train Loss: 0.44615 | Val. Loss: 0.57280 | Val. Acc: 0.75250 | Time Taken:  4.765s\n",
      "Validation Loss did not improve count: 3\n",
      "Training stopped due to early stopping!\n",
      "\n"
     ]
    },
    {
     "data": {
      "image/png": "[encoded data removed]",
      "text/plain": [
       "<Figure size 432x288 with 1 Axes>"
      ]
     },
     "metadata": {
      "needs_background": "light"
     },
     "output_type": "display_data"
    },
    {
     "name": "stdout",
     "output_type": "stream",
     "text": [
      "F1-Score and Confusion Matrix of the Validation Set\n",
      "\n",
      "              precision    recall  f1-score   support\n",
      "\n",
      "           0     0.7975    0.8874    0.8401       586\n",
      "           1     0.5541    0.3832    0.4530       214\n",
      "\n",
      "    accuracy                         0.7525       800\n",
      "   macro avg     0.6758    0.6353    0.6466       800\n",
      "weighted avg     0.7324    0.7525    0.7365       800\n",
      "\n",
      "\n",
      "\n"
     ]
    },
    {
     "data": {
      "image/png": "[encoded data removed]",
      "text/plain": [
       "<Figure size 576x432 with 2 Axes>"
      ]
     },
     "metadata": {
      "needs_background": "light"
     },
     "output_type": "display_data"
    },
    {
     "name": "stdout",
     "output_type": "stream",
     "text": [
      "\n",
      "AUC Score: 0.7208781219099869\n"
     ]
    }
   ],
   "source": [
    "# call the data handler to load the data\n",
    "TEXT, LABEL, device, train_iterator, valid_iterator = data_handler(DATA_PATH, \n",
    "                                                                   train_data_filename=data4_train_filepath, \n",
    "                                                                   val_data_filename=data4_val_filepath, \n",
    "                                                                   batch_size=32)\n",
    "\n",
    "MODEL_NAME = 'data4_unilstm_model.pt'\n",
    "\n",
    "# Hyperparameters\n",
    "NUM_EPOCHS = 15\n",
    "LEARNING_RATE = 5e-04\n",
    "\n",
    "INPUT_DIM = len(TEXT.vocab)\n",
    "EMBEDDING_DIM = 300\n",
    "HIDDEN_DIM = 512\n",
    "OUTPUT_DIM = 1\n",
    "N_LAYERS = 4 \n",
    "BIDIRECTIONAL = False # changeable\n",
    "RNN_TYPE = 'lstm' # changeable\n",
    "DROPOUT = 0.5\n",
    "# padding\n",
    "PAD_IDX = TEXT.vocab.stoi[TEXT.pad_token] \n",
    "\n",
    "#creating instance of our LSTM_net class\n",
    "model = RNN(vocab_size=INPUT_DIM, \n",
    "            embedding_dim=EMBEDDING_DIM, \n",
    "            hidden_dim=HIDDEN_DIM, \n",
    "            output_dim=OUTPUT_DIM, \n",
    "            n_layers=N_LAYERS, \n",
    "            bidirectional=BIDIRECTIONAL, \n",
    "            rnn_type=RNN_TYPE,\n",
    "            dropout=DROPOUT, \n",
    "            pad_idx=PAD_IDX)\n",
    "# see the model description\n",
    "print(model)\n",
    "    \n",
    "print(f'The model has {count_parameters(model):,} trainable parameters')\n",
    "print()\n",
    "\n",
    "pretrained_embeddings = TEXT.vocab.vectors\n",
    "model.embedding.weight.data.copy_(pretrained_embeddings)\n",
    "\n",
    "#  to initiaise padded to zeros\n",
    "model.embedding.weight.data[PAD_IDX] = torch.zeros(EMBEDDING_DIM)\n",
    "\n",
    "# fit the model\n",
    "fpr2a, tpr2a, get_auc_value2a, thresholds2a = fit_model(model=model, \n",
    "                                                device=device,\n",
    "                                                learning_rate=LEARNING_RATE,\n",
    "                                                num_epochs=NUM_EPOCHS,\n",
    "                                                root_path=SAVED_MODEL_PATH, \n",
    "                                                filepath=MODEL_NAME)"
   ]
  },
  {
   "cell_type": "code",
   "execution_count": null,
   "metadata": {
    "colab": {
     "base_uri": "https://localhost:8080/"
    },
    "executionInfo": {
     "elapsed": 47944,
     "status": "ok",
     "timestamp": 1647938300610,
     "user": {
      "displayName": "Chuan Bin Phoe",
      "photoUrl": "https://lh3.googleusercontent.com/a/default-user=s64",
      "userId": "05567159451591599581"
     },
     "user_tz": -480
    },
    "id": "Q8kvW54Yuxri",
    "outputId": "fcbbddf7-5f2c-49ac-db8b-662492377c86"
   },
   "outputs": [
    {
     "name": "stdout",
     "output_type": "stream",
     "text": [
      "Size of TEXT vocabulary: 5931\n",
      "Size of LABEL vocabulary: 2\n",
      "Top 10 most frequent word in the vocabulary: [('the', 1712), ('to', 1238), ('and', 861), ('a', 822), ('is', 813), ('i', 643), ('this', 634), ('in', 596), ('of', 580), ('it', 478)]\n",
      "cuda\n"
     ]
    }
   ],
   "source": [
    "# call the data handler to load the data\n",
    "TEXT, LABEL, device, train_iterator, valid_iterator = data_handler(DATA_PATH, \n",
    "                                                                   train_data_filename=data4_train_filepath, \n",
    "                                                                   val_data_filename=data4_val_filepath, \n",
    "                                                                   batch_size=32)\n",
    "\n",
    "MODEL_NAME = 'data4_unilstm_model.pt'\n",
    "\n",
    "# Hyperparameters\n",
    "NUM_EPOCHS = 15\n",
    "LEARNING_RATE = 5e-04\n",
    "\n",
    "INPUT_DIM = len(TEXT.vocab)\n",
    "EMBEDDING_DIM = 300\n",
    "HIDDEN_DIM = 512\n",
    "OUTPUT_DIM = 1\n",
    "N_LAYERS = 4 \n",
    "BIDIRECTIONAL = False # changeable\n",
    "RNN_TYPE = 'lstm' # changeable\n",
    "DROPOUT = 0.5\n",
    "# padding\n",
    "PAD_IDX = TEXT.vocab.stoi[TEXT.pad_token] \n",
    "\n",
    "#creating instance of our LSTM_net class\n",
    "model = RNN(vocab_size=INPUT_DIM, \n",
    "            embedding_dim=EMBEDDING_DIM, \n",
    "            hidden_dim=HIDDEN_DIM, \n",
    "            output_dim=OUTPUT_DIM, \n",
    "            n_layers=N_LAYERS, \n",
    "            bidirectional=BIDIRECTIONAL, \n",
    "            rnn_type=RNN_TYPE,\n",
    "            dropout=DROPOUT, \n",
    "            pad_idx=PAD_IDX)\n",
    "\n",
    "PATH = SAVED_MODEL_PATH+MODEL_NAME\n",
    "model.load_state_dict(torch.load(PATH))\n",
    "\n",
    "data2_pred = []\n",
    "data3_pred = []\n",
    "\n",
    "for sentence in data2['text_cleaned'].to_list():\n",
    "    data2_pred.append(predict(model, sentence))\n",
    "for sentence in data3['text_cleaned'].to_list():\n",
    "    data3_pred.append(predict(model, sentence))\n",
    "\n",
    "results_df = results_analyser.calculate_metrics(results_df, data2[\"Label\"].to_list(), data2_pred, \"data2_\"+MODEL_NAME)\n",
    "results_df = results_analyser.calculate_metrics(results_df, data3[\"Label\"].to_list(), data3_pred, \"data3_\"+MODEL_NAME)"
   ]
  },
  {
   "cell_type": "markdown",
   "metadata": {
    "id": "upd4837OYUA_"
   },
   "source": [
    "### CONFIGURATION 2b\n",
    "- Data 4\n",
    "- BiLSTM"
   ]
  },
  {
   "cell_type": "code",
   "execution_count": null,
   "metadata": {
    "colab": {
     "base_uri": "https://localhost:8080/"
    },
    "executionInfo": {
     "elapsed": 154291,
     "status": "ok",
     "timestamp": 1647938454834,
     "user": {
      "displayName": "Chuan Bin Phoe",
      "photoUrl": "https://lh3.googleusercontent.com/a/default-user=s64",
      "userId": "05567159451591599581"
     },
     "user_tz": -480
    },
    "id": "bmk9_UqkYS7n",
    "outputId": "3c8de2b2-12ea-4a1a-9aa7-00954e3750c8"
   },
   "outputs": [
    {
     "name": "stdout",
     "output_type": "stream",
     "text": [
      "Size of TEXT vocabulary: 5931\n",
      "Size of LABEL vocabulary: 2\n",
      "Top 10 most frequent word in the vocabulary: [('the', 1712), ('to', 1238), ('and', 861), ('a', 822), ('is', 813), ('i', 643), ('this', 634), ('in', 596), ('of', 580), ('it', 478)]\n",
      "cuda\n",
      "RNN(\n",
      "  (embedding): Embedding(5931, 300, padding_idx=1)\n",
      "  (rnn): LSTM(300, 512, num_layers=4, batch_first=True, dropout=0.5, bidirectional=True)\n",
      "  (fc1): Linear(in_features=1024, out_features=512, bias=True)\n",
      "  (fc2): Linear(in_features=512, out_features=1, bias=True)\n",
      "  (dropout): Dropout(p=0.5, inplace=False)\n",
      ")\n",
      "The model has 24,537,701 trainable parameters\n",
      "\n",
      "Idx: 50, Train Loss: 0.5551\n",
      "Idx: 100, Train Loss: 0.6485\n",
      "Epoch 1: Train Loss: 0.64476 | Val. Loss: 0.63588 | Val. Acc: 0.73250 | Time Taken:  10.074s\n",
      "Idx: 50, Train Loss: 0.5721\n",
      "Idx: 100, Train Loss: 0.6166\n",
      "Epoch 2: Train Loss: 0.64636 | Val. Loss: 0.60370 | Val. Acc: 0.73250 | Time Taken:  10.009s\n",
      "Idx: 50, Train Loss: 0.6292\n",
      "Idx: 100, Train Loss: 0.5547\n",
      "Epoch 3: Train Loss: 0.63776 | Val. Loss: 0.60356 | Val. Acc: 0.74250 | Time Taken:  10.066s\n",
      "Idx: 50, Train Loss: 0.7484\n",
      "Idx: 100, Train Loss: 0.5804\n",
      "Epoch 4: Train Loss: 0.60354 | Val. Loss: 0.52165 | Val. Acc: 0.76500 | Time Taken:  9.993s\n",
      "Idx: 50, Train Loss: 0.4986\n",
      "Idx: 100, Train Loss: 0.5695\n",
      "Epoch 5: Train Loss: 0.56978 | Val. Loss: 0.51288 | Val. Acc: 0.76625 | Time Taken:  9.982s\n",
      "Idx: 50, Train Loss: 0.5241\n",
      "Idx: 100, Train Loss: 0.6605\n",
      "Epoch 6: Train Loss: 0.53744 | Val. Loss: 0.55591 | Val. Acc: 0.72625 | Time Taken:  9.976s\n",
      "Validation Loss did not improve count: 1\n",
      "Idx: 50, Train Loss: 0.5952\n",
      "Idx: 100, Train Loss: 0.4635\n",
      "Epoch 7: Train Loss: 0.52713 | Val. Loss: 0.51360 | Val. Acc: 0.75375 | Time Taken:  9.952s\n",
      "Idx: 50, Train Loss: 0.5461\n",
      "Idx: 100, Train Loss: 0.5339\n",
      "Epoch 8: Train Loss: 0.49136 | Val. Loss: 0.50763 | Val. Acc: 0.77375 | Time Taken:  9.959s\n",
      "Idx: 50, Train Loss: 0.5545\n",
      "Idx: 100, Train Loss: 0.5775\n",
      "Epoch 9: Train Loss: 0.46139 | Val. Loss: 0.50551 | Val. Acc: 0.77125 | Time Taken:  9.962s\n",
      "Idx: 50, Train Loss: 0.4345\n",
      "Idx: 100, Train Loss: 0.4775\n",
      "Epoch 10: Train Loss: 0.45685 | Val. Loss: 0.54446 | Val. Acc: 0.75000 | Time Taken:  9.954s\n",
      "Validation Loss did not improve count: 1\n",
      "Idx: 50, Train Loss: 0.4705\n",
      "Idx: 100, Train Loss: 0.5744\n",
      "Epoch 11: Train Loss: 0.44954 | Val. Loss: 0.61173 | Val. Acc: 0.71000 | Time Taken:  9.944s\n",
      "Validation Loss did not improve count: 2\n",
      "Idx: 50, Train Loss: 0.4763\n",
      "Idx: 100, Train Loss: 0.3585\n",
      "Epoch 12: Train Loss: 0.44859 | Val. Loss: 0.54795 | Val. Acc: 0.73875 | Time Taken:  9.940s\n",
      "Idx: 50, Train Loss: 0.3851\n",
      "Idx: 100, Train Loss: 0.3284\n",
      "Epoch 13: Train Loss: 0.42991 | Val. Loss: 0.58151 | Val. Acc: 0.70875 | Time Taken:  9.948s\n",
      "Epoch    13: reducing learning rate of group 0 to 5.0000e-05.\n",
      "Validation Loss did not improve count: 1\n",
      "Idx: 50, Train Loss: 0.3453\n",
      "Idx: 100, Train Loss: 0.3948\n",
      "Epoch 14: Train Loss: 0.40383 | Val. Loss: 0.59421 | Val. Acc: 0.72750 | Time Taken:  9.938s\n",
      "Validation Loss did not improve count: 2\n",
      "Idx: 50, Train Loss: 0.4178\n",
      "Idx: 100, Train Loss: 0.5427\n",
      "Epoch 15: Train Loss: 0.39545 | Val. Loss: 0.61691 | Val. Acc: 0.72250 | Time Taken:  9.967s\n",
      "Validation Loss did not improve count: 3\n",
      "Training stopped due to early stopping!\n",
      "\n"
     ]
    },
    {
     "data": {
      "image/png": "[encoded data removed]",
      "text/plain": [
       "<Figure size 432x288 with 1 Axes>"
      ]
     },
     "metadata": {
      "needs_background": "light"
     },
     "output_type": "display_data"
    },
    {
     "name": "stdout",
     "output_type": "stream",
     "text": [
      "F1-Score and Confusion Matrix of the Validation Set\n",
      "\n",
      "              precision    recall  f1-score   support\n",
      "\n",
      "           0     0.8095    0.8123    0.8109       586\n",
      "           1     0.4811    0.4766    0.4789       214\n",
      "\n",
      "    accuracy                         0.7225       800\n",
      "   macro avg     0.6453    0.6445    0.6449       800\n",
      "weighted avg     0.7217    0.7225    0.7221       800\n",
      "\n",
      "\n",
      "\n"
     ]
    },
    {
     "data": {
      "image/png": "[encoded data removed]",
      "text/plain": [
       "<Figure size 576x432 with 2 Axes>"
      ]
     },
     "metadata": {
      "needs_background": "light"
     },
     "output_type": "display_data"
    },
    {
     "name": "stdout",
     "output_type": "stream",
     "text": [
      "\n",
      "AUC Score: 0.7192753022232146\n"
     ]
    }
   ],
   "source": [
    "# call the data handler to load the data\n",
    "TEXT, LABEL, device, train_iterator, valid_iterator = data_handler(DATA_PATH, \n",
    "                                                                   train_data_filename=data4_train_filepath, \n",
    "                                                                   val_data_filename=data4_val_filepath, \n",
    "                                                                   batch_size=32)\n",
    "\n",
    "MODEL_NAME = 'data4_bilstm_model.pt'\n",
    "\n",
    "# Hyperparameters\n",
    "NUM_EPOCHS = 15\n",
    "LEARNING_RATE = 5e-04\n",
    "\n",
    "INPUT_DIM = len(TEXT.vocab)\n",
    "EMBEDDING_DIM = 300\n",
    "HIDDEN_DIM = 512\n",
    "OUTPUT_DIM = 1\n",
    "N_LAYERS = 4 \n",
    "BIDIRECTIONAL = True # changeable\n",
    "RNN_TYPE = 'lstm' # changeable\n",
    "DROPOUT = 0.5\n",
    "# padding\n",
    "PAD_IDX = TEXT.vocab.stoi[TEXT.pad_token] \n",
    "\n",
    "#creating instance of our LSTM_net class\n",
    "model = RNN(vocab_size=INPUT_DIM, \n",
    "            embedding_dim=EMBEDDING_DIM, \n",
    "            hidden_dim=HIDDEN_DIM, \n",
    "            output_dim=OUTPUT_DIM, \n",
    "            n_layers=N_LAYERS, \n",
    "            bidirectional=BIDIRECTIONAL, \n",
    "            rnn_type=RNN_TYPE,\n",
    "            dropout=DROPOUT, \n",
    "            pad_idx=PAD_IDX)\n",
    "# see the model description\n",
    "print(model)\n",
    "    \n",
    "print(f'The model has {count_parameters(model):,} trainable parameters')\n",
    "print()\n",
    "\n",
    "pretrained_embeddings = TEXT.vocab.vectors\n",
    "model.embedding.weight.data.copy_(pretrained_embeddings)\n",
    "\n",
    "#  to initiaise padded to zeros\n",
    "model.embedding.weight.data[PAD_IDX] = torch.zeros(EMBEDDING_DIM)\n",
    "\n",
    "# fit the model\n",
    "fpr2b, tpr2b, get_auc_value2b, thresholds2b = fit_model(model=model, \n",
    "                                                device=device,\n",
    "                                                learning_rate=LEARNING_RATE,\n",
    "                                                num_epochs=NUM_EPOCHS,\n",
    "                                                root_path=SAVED_MODEL_PATH, \n",
    "                                                filepath=MODEL_NAME)"
   ]
  },
  {
   "cell_type": "code",
   "execution_count": null,
   "metadata": {
    "colab": {
     "base_uri": "https://localhost:8080/"
    },
    "executionInfo": {
     "elapsed": 109297,
     "status": "ok",
     "timestamp": 1647938564101,
     "user": {
      "displayName": "Chuan Bin Phoe",
      "photoUrl": "https://lh3.googleusercontent.com/a/default-user=s64",
      "userId": "05567159451591599581"
     },
     "user_tz": -480
    },
    "id": "ovUlCIMFu23r",
    "outputId": "dd3d6e27-511a-455a-e4f4-540c7319d312"
   },
   "outputs": [
    {
     "name": "stdout",
     "output_type": "stream",
     "text": [
      "Size of TEXT vocabulary: 5931\n",
      "Size of LABEL vocabulary: 2\n",
      "Top 10 most frequent word in the vocabulary: [('the', 1712), ('to', 1238), ('and', 861), ('a', 822), ('is', 813), ('i', 643), ('this', 634), ('in', 596), ('of', 580), ('it', 478)]\n",
      "cuda\n"
     ]
    }
   ],
   "source": [
    "# call the data handler to load the data\n",
    "TEXT, LABEL, device, train_iterator, valid_iterator = data_handler(DATA_PATH, \n",
    "                                                                   train_data_filename=data4_train_filepath, \n",
    "                                                                   val_data_filename=data4_val_filepath, \n",
    "                                                                   batch_size=32)\n",
    "\n",
    "MODEL_NAME = 'data4_bilstm_model.pt'\n",
    "\n",
    "# Hyperparameters\n",
    "NUM_EPOCHS = 15\n",
    "LEARNING_RATE = 5e-04\n",
    "\n",
    "INPUT_DIM = len(TEXT.vocab)\n",
    "EMBEDDING_DIM = 300\n",
    "HIDDEN_DIM = 512\n",
    "OUTPUT_DIM = 1\n",
    "N_LAYERS = 4 \n",
    "BIDIRECTIONAL = True # changeable\n",
    "RNN_TYPE = 'lstm' # changeable\n",
    "DROPOUT = 0.5\n",
    "# padding\n",
    "PAD_IDX = TEXT.vocab.stoi[TEXT.pad_token] \n",
    "\n",
    "#creating instance of our LSTM_net class\n",
    "model = RNN(vocab_size=INPUT_DIM, \n",
    "            embedding_dim=EMBEDDING_DIM, \n",
    "            hidden_dim=HIDDEN_DIM, \n",
    "            output_dim=OUTPUT_DIM, \n",
    "            n_layers=N_LAYERS, \n",
    "            bidirectional=BIDIRECTIONAL, \n",
    "            rnn_type=RNN_TYPE,\n",
    "            dropout=DROPOUT, \n",
    "            pad_idx=PAD_IDX)\n",
    "\n",
    "PATH = SAVED_MODEL_PATH+MODEL_NAME\n",
    "model.load_state_dict(torch.load(PATH))\n",
    "\n",
    "data2_pred = []\n",
    "data3_pred = []\n",
    "\n",
    "for sentence in data2['text_cleaned'].to_list():\n",
    "    data2_pred.append(predict(model, sentence))\n",
    "for sentence in data3['text_cleaned'].to_list():\n",
    "    data3_pred.append(predict(model, sentence))\n",
    "\n",
    "results_df = results_analyser.calculate_metrics(results_df, data2[\"Label\"].to_list(), data2_pred, \"data2_\"+MODEL_NAME)\n",
    "results_df = results_analyser.calculate_metrics(results_df, data3[\"Label\"].to_list(), data3_pred, \"data3_\"+MODEL_NAME)"
   ]
  },
  {
   "cell_type": "markdown",
   "metadata": {
    "id": "vX6uLDU6YY3i"
   },
   "source": [
    "### CONFIGURATION 2c\n",
    "- Data 4\n",
    "- Uni-GRU"
   ]
  },
  {
   "cell_type": "code",
   "execution_count": null,
   "metadata": {
    "colab": {
     "base_uri": "https://localhost:8080/"
    },
    "executionInfo": {
     "elapsed": 37162,
     "status": "ok",
     "timestamp": 1647938601204,
     "user": {
      "displayName": "Chuan Bin Phoe",
      "photoUrl": "https://lh3.googleusercontent.com/a/default-user=s64",
      "userId": "05567159451591599581"
     },
     "user_tz": -480
    },
    "id": "Eo6Ks5zaYS_3",
    "outputId": "f1b53e6e-7afd-4c5a-8088-b28f6e4cdf62"
   },
   "outputs": [
    {
     "name": "stdout",
     "output_type": "stream",
     "text": [
      "Size of TEXT vocabulary: 5931\n",
      "Size of LABEL vocabulary: 2\n",
      "Top 10 most frequent word in the vocabulary: [('the', 1712), ('to', 1238), ('and', 861), ('a', 822), ('is', 813), ('i', 643), ('this', 634), ('in', 596), ('of', 580), ('it', 478)]\n",
      "cuda\n",
      "RNN(\n",
      "  (embedding): Embedding(5931, 300, padding_idx=1)\n",
      "  (rnn): GRU(300, 512, num_layers=4, batch_first=True, dropout=0.5)\n",
      "  (fc1): Linear(in_features=1024, out_features=512, bias=True)\n",
      "  (fc2): Linear(in_features=512, out_features=1, bias=True)\n",
      "  (dropout): Dropout(p=0.5, inplace=False)\n",
      ")\n",
      "The model has 8,282,725 trainable parameters\n",
      "\n",
      "Idx: 50, Train Loss: 0.6561\n",
      "Idx: 100, Train Loss: 0.6476\n",
      "Epoch 1: Train Loss: 0.66179 | Val. Loss: 0.63563 | Val. Acc: 0.73250 | Time Taken:  4.327s\n",
      "Idx: 50, Train Loss: 0.4800\n",
      "Idx: 100, Train Loss: 0.5730\n",
      "Epoch 2: Train Loss: 0.63802 | Val. Loss: 0.57351 | Val. Acc: 0.75500 | Time Taken:  4.212s\n",
      "Idx: 50, Train Loss: 0.6927\n",
      "Idx: 100, Train Loss: 0.5605\n",
      "Epoch 3: Train Loss: 0.61700 | Val. Loss: 0.60503 | Val. Acc: 0.72750 | Time Taken:  4.183s\n",
      "Validation Loss did not improve count: 1\n",
      "Idx: 50, Train Loss: 0.6600\n",
      "Idx: 100, Train Loss: 0.6626\n",
      "Epoch 4: Train Loss: 0.61153 | Val. Loss: 0.56428 | Val. Acc: 0.74125 | Time Taken:  4.197s\n",
      "Idx: 50, Train Loss: 0.5758\n",
      "Idx: 100, Train Loss: 0.6409\n",
      "Epoch 5: Train Loss: 0.55977 | Val. Loss: 0.51993 | Val. Acc: 0.76750 | Time Taken:  4.180s\n",
      "Idx: 50, Train Loss: 0.5180\n",
      "Idx: 100, Train Loss: 0.6183\n",
      "Epoch 6: Train Loss: 0.54268 | Val. Loss: 0.54553 | Val. Acc: 0.75375 | Time Taken:  4.187s\n",
      "Validation Loss did not improve count: 1\n",
      "Idx: 50, Train Loss: 0.4969\n",
      "Idx: 100, Train Loss: 0.4872\n",
      "Epoch 7: Train Loss: 0.50289 | Val. Loss: 0.55504 | Val. Acc: 0.73250 | Time Taken:  4.200s\n",
      "Validation Loss did not improve count: 2\n",
      "Idx: 50, Train Loss: 0.5077\n",
      "Idx: 100, Train Loss: 0.6149\n",
      "Epoch 8: Train Loss: 0.47006 | Val. Loss: 0.56918 | Val. Acc: 0.75875 | Time Taken:  4.180s\n",
      "Validation Loss did not improve count: 3\n",
      "Training stopped due to early stopping!\n",
      "\n"
     ]
    },
    {
     "data": {
      "image/png": "[encoded data removed]",
      "text/plain": [
       "<Figure size 432x288 with 1 Axes>"
      ]
     },
     "metadata": {
      "needs_background": "light"
     },
     "output_type": "display_data"
    },
    {
     "name": "stdout",
     "output_type": "stream",
     "text": [
      "F1-Score and Confusion Matrix of the Validation Set\n",
      "\n",
      "              precision    recall  f1-score   support\n",
      "\n",
      "           0     0.7869    0.9198    0.8482       586\n",
      "           1     0.5913    0.3178    0.4134       214\n",
      "\n",
      "    accuracy                         0.7588       800\n",
      "   macro avg     0.6891    0.6188    0.6308       800\n",
      "weighted avg     0.7345    0.7588    0.7318       800\n",
      "\n",
      "\n",
      "\n"
     ]
    },
    {
     "data": {
      "image/png": "[encoded data removed]",
      "text/plain": [
       "<Figure size 576x432 with 2 Axes>"
      ]
     },
     "metadata": {
      "needs_background": "light"
     },
     "output_type": "display_data"
    },
    {
     "name": "stdout",
     "output_type": "stream",
     "text": [
      "\n",
      "AUC Score: 0.7079439252336449\n"
     ]
    }
   ],
   "source": [
    "# call the data handler to load the data\n",
    "TEXT, LABEL, device, train_iterator, valid_iterator = data_handler(DATA_PATH, \n",
    "                                                                   train_data_filename=data4_train_filepath, \n",
    "                                                                   val_data_filename=data4_val_filepath, \n",
    "                                                                   batch_size=32)\n",
    "\n",
    "MODEL_NAME = 'data4_unigru_model.pt'\n",
    "\n",
    "# Hyperparameters\n",
    "NUM_EPOCHS = 15\n",
    "LEARNING_RATE = 5e-04\n",
    "\n",
    "INPUT_DIM = len(TEXT.vocab)\n",
    "EMBEDDING_DIM = 300\n",
    "HIDDEN_DIM = 512\n",
    "OUTPUT_DIM = 1\n",
    "N_LAYERS = 4 \n",
    "BIDIRECTIONAL = False # changeable\n",
    "RNN_TYPE = 'gru' # changeable\n",
    "DROPOUT = 0.5\n",
    "# padding\n",
    "PAD_IDX = TEXT.vocab.stoi[TEXT.pad_token] \n",
    "\n",
    "#creating instance of our LSTM_net class\n",
    "model = RNN(vocab_size=INPUT_DIM, \n",
    "            embedding_dim=EMBEDDING_DIM, \n",
    "            hidden_dim=HIDDEN_DIM, \n",
    "            output_dim=OUTPUT_DIM, \n",
    "            n_layers=N_LAYERS, \n",
    "            bidirectional=BIDIRECTIONAL, \n",
    "            rnn_type=RNN_TYPE,\n",
    "            dropout=DROPOUT, \n",
    "            pad_idx=PAD_IDX)\n",
    "# see the model description\n",
    "print(model)\n",
    "    \n",
    "print(f'The model has {count_parameters(model):,} trainable parameters')\n",
    "print()\n",
    "\n",
    "pretrained_embeddings = TEXT.vocab.vectors\n",
    "model.embedding.weight.data.copy_(pretrained_embeddings)\n",
    "\n",
    "#  to initiaise padded to zeros\n",
    "model.embedding.weight.data[PAD_IDX] = torch.zeros(EMBEDDING_DIM)\n",
    "\n",
    "# fit the model\n",
    "fpr2c, tpr2c, get_auc_value2c, thresholds2c = fit_model(model=model, \n",
    "                                                device=device,\n",
    "                                                learning_rate=LEARNING_RATE,\n",
    "                                                num_epochs=NUM_EPOCHS,\n",
    "                                                root_path=SAVED_MODEL_PATH, \n",
    "                                                filepath=MODEL_NAME)"
   ]
  },
  {
   "cell_type": "code",
   "execution_count": null,
   "metadata": {
    "colab": {
     "base_uri": "https://localhost:8080/"
    },
    "executionInfo": {
     "elapsed": 41013,
     "status": "ok",
     "timestamp": 1647938642210,
     "user": {
      "displayName": "Chuan Bin Phoe",
      "photoUrl": "https://lh3.googleusercontent.com/a/default-user=s64",
      "userId": "05567159451591599581"
     },
     "user_tz": -480
    },
    "id": "FoLSdgr_u8Sn",
    "outputId": "cfb667d6-76f4-43e3-af79-778b8fe8a6db"
   },
   "outputs": [
    {
     "name": "stdout",
     "output_type": "stream",
     "text": [
      "Size of TEXT vocabulary: 5931\n",
      "Size of LABEL vocabulary: 2\n",
      "Top 10 most frequent word in the vocabulary: [('the', 1712), ('to', 1238), ('and', 861), ('a', 822), ('is', 813), ('i', 643), ('this', 634), ('in', 596), ('of', 580), ('it', 478)]\n",
      "cuda\n"
     ]
    }
   ],
   "source": [
    "# call the data handler to load the data\n",
    "TEXT, LABEL, device, train_iterator, valid_iterator = data_handler(DATA_PATH, \n",
    "                                                                   train_data_filename=data4_train_filepath, \n",
    "                                                                   val_data_filename=data4_val_filepath, \n",
    "                                                                   batch_size=32)\n",
    "\n",
    "MODEL_NAME = 'data4_unigru_model.pt'\n",
    "\n",
    "# Hyperparameters\n",
    "NUM_EPOCHS = 15\n",
    "LEARNING_RATE = 5e-04\n",
    "\n",
    "INPUT_DIM = len(TEXT.vocab)\n",
    "EMBEDDING_DIM = 300\n",
    "HIDDEN_DIM = 512\n",
    "OUTPUT_DIM = 1\n",
    "N_LAYERS = 4 \n",
    "BIDIRECTIONAL = False # changeable\n",
    "RNN_TYPE = 'gru' # changeable\n",
    "DROPOUT = 0.5\n",
    "# padding\n",
    "PAD_IDX = TEXT.vocab.stoi[TEXT.pad_token] \n",
    "\n",
    "#creating instance of our LSTM_net class\n",
    "model = RNN(vocab_size=INPUT_DIM, \n",
    "            embedding_dim=EMBEDDING_DIM, \n",
    "            hidden_dim=HIDDEN_DIM, \n",
    "            output_dim=OUTPUT_DIM, \n",
    "            n_layers=N_LAYERS, \n",
    "            bidirectional=BIDIRECTIONAL, \n",
    "            rnn_type=RNN_TYPE,\n",
    "            dropout=DROPOUT, \n",
    "            pad_idx=PAD_IDX)\n",
    "\n",
    "PATH = SAVED_MODEL_PATH+MODEL_NAME\n",
    "model.load_state_dict(torch.load(PATH))\n",
    "\n",
    "data2_pred = []\n",
    "data3_pred = []\n",
    "\n",
    "for sentence in data2['text_cleaned'].to_list():\n",
    "    data2_pred.append(predict(model, sentence))\n",
    "for sentence in data3['text_cleaned'].to_list():\n",
    "    data3_pred.append(predict(model, sentence))\n",
    "\n",
    "results_df = results_analyser.calculate_metrics(results_df, data2[\"Label\"].to_list(), data2_pred, \"data2_\"+MODEL_NAME)\n",
    "results_df = results_analyser.calculate_metrics(results_df, data3[\"Label\"].to_list(), data3_pred, \"data3_\"+MODEL_NAME)"
   ]
  },
  {
   "cell_type": "markdown",
   "metadata": {
    "id": "hSRVpFfzYigA"
   },
   "source": [
    "### CONFIGURATION 2d\n",
    "- Data 4\n",
    "- BiGRU"
   ]
  },
  {
   "cell_type": "code",
   "execution_count": null,
   "metadata": {
    "colab": {
     "base_uri": "https://localhost:8080/"
    },
    "executionInfo": {
     "elapsed": 130235,
     "status": "ok",
     "timestamp": 1647938772423,
     "user": {
      "displayName": "Chuan Bin Phoe",
      "photoUrl": "https://lh3.googleusercontent.com/a/default-user=s64",
      "userId": "05567159451591599581"
     },
     "user_tz": -480
    },
    "id": "ZZIK1mLDYJ-C",
    "outputId": "5a098e45-feed-4a41-be5a-a842525b6e08"
   },
   "outputs": [
    {
     "name": "stdout",
     "output_type": "stream",
     "text": [
      "Size of TEXT vocabulary: 5931\n",
      "Size of LABEL vocabulary: 2\n",
      "Top 10 most frequent word in the vocabulary: [('the', 1712), ('to', 1238), ('and', 861), ('a', 822), ('is', 813), ('i', 643), ('this', 634), ('in', 596), ('of', 580), ('it', 478)]\n",
      "cuda\n",
      "RNN(\n",
      "  (embedding): Embedding(5931, 300, padding_idx=1)\n",
      "  (rnn): GRU(300, 512, num_layers=4, batch_first=True, dropout=0.5, bidirectional=True)\n",
      "  (fc1): Linear(in_features=1024, out_features=512, bias=True)\n",
      "  (fc2): Linear(in_features=512, out_features=1, bias=True)\n",
      "  (dropout): Dropout(p=0.5, inplace=False)\n",
      ")\n",
      "The model has 18,979,429 trainable parameters\n",
      "\n",
      "Idx: 50, Train Loss: 0.6051\n",
      "Idx: 100, Train Loss: 0.6417\n",
      "Epoch 1: Train Loss: 0.66166 | Val. Loss: 0.59666 | Val. Acc: 0.73375 | Time Taken:  8.550s\n",
      "Idx: 50, Train Loss: 0.5460\n",
      "Idx: 100, Train Loss: 0.5389\n",
      "Epoch 2: Train Loss: 0.63922 | Val. Loss: 0.57209 | Val. Acc: 0.75000 | Time Taken:  8.457s\n",
      "Idx: 50, Train Loss: 0.5519\n",
      "Idx: 100, Train Loss: 0.6500\n",
      "Epoch 3: Train Loss: 0.62054 | Val. Loss: 0.58581 | Val. Acc: 0.73000 | Time Taken:  8.498s\n",
      "Validation Loss did not improve count: 1\n",
      "Idx: 50, Train Loss: 0.6659\n",
      "Idx: 100, Train Loss: 0.6607\n",
      "Epoch 4: Train Loss: 0.59109 | Val. Loss: 0.53714 | Val. Acc: 0.76000 | Time Taken:  8.451s\n",
      "Idx: 50, Train Loss: 0.5122\n",
      "Idx: 100, Train Loss: 0.5438\n",
      "Epoch 5: Train Loss: 0.56447 | Val. Loss: 0.52622 | Val. Acc: 0.76500 | Time Taken:  8.441s\n",
      "Idx: 50, Train Loss: 0.6511\n",
      "Idx: 100, Train Loss: 0.5439\n",
      "Epoch 6: Train Loss: 0.53459 | Val. Loss: 0.56165 | Val. Acc: 0.74875 | Time Taken:  8.442s\n",
      "Validation Loss did not improve count: 1\n",
      "Idx: 50, Train Loss: 0.6421\n",
      "Idx: 100, Train Loss: 0.6913\n",
      "Epoch 7: Train Loss: 0.49100 | Val. Loss: 0.56165 | Val. Acc: 0.73875 | Time Taken:  8.424s\n",
      "Validation Loss did not improve count: 2\n",
      "Idx: 50, Train Loss: 0.4983\n",
      "Idx: 100, Train Loss: 0.6905\n",
      "Epoch 8: Train Loss: 0.46657 | Val. Loss: 0.55517 | Val. Acc: 0.75250 | Time Taken:  8.407s\n",
      "Idx: 50, Train Loss: 0.5981\n",
      "Idx: 100, Train Loss: 0.4641\n",
      "Epoch 9: Train Loss: 0.45295 | Val. Loss: 0.54433 | Val. Acc: 0.74500 | Time Taken:  8.424s\n",
      "Epoch     9: reducing learning rate of group 0 to 5.0000e-05.\n",
      "Idx: 50, Train Loss: 0.4348\n",
      "Idx: 100, Train Loss: 0.4451\n",
      "Epoch 10: Train Loss: 0.42325 | Val. Loss: 0.59211 | Val. Acc: 0.71875 | Time Taken:  8.420s\n",
      "Validation Loss did not improve count: 1\n",
      "Idx: 50, Train Loss: 0.5923\n",
      "Idx: 100, Train Loss: 0.4418\n",
      "Epoch 11: Train Loss: 0.41305 | Val. Loss: 0.58495 | Val. Acc: 0.73250 | Time Taken:  8.429s\n",
      "Idx: 50, Train Loss: 0.2501\n",
      "Idx: 100, Train Loss: 0.3069\n",
      "Epoch 12: Train Loss: 0.39429 | Val. Loss: 0.60754 | Val. Acc: 0.73000 | Time Taken:  8.405s\n",
      "Validation Loss did not improve count: 1\n",
      "Idx: 50, Train Loss: 0.3962\n",
      "Idx: 100, Train Loss: 0.3764\n",
      "Epoch 13: Train Loss: 0.40815 | Val. Loss: 0.59281 | Val. Acc: 0.72500 | Time Taken:  8.422s\n",
      "Epoch    13: reducing learning rate of group 0 to 1.0000e-05.\n",
      "Idx: 50, Train Loss: 0.2784\n",
      "Idx: 100, Train Loss: 0.4663\n",
      "Epoch 14: Train Loss: 0.39398 | Val. Loss: 0.59900 | Val. Acc: 0.71875 | Time Taken:  8.426s\n",
      "Validation Loss did not improve count: 1\n",
      "Idx: 50, Train Loss: 0.3848\n",
      "Idx: 100, Train Loss: 0.4986\n",
      "Epoch 15: Train Loss: 0.39291 | Val. Loss: 0.60497 | Val. Acc: 0.72625 | Time Taken:  8.436s\n",
      "Validation Loss did not improve count: 2\n",
      "\n"
     ]
    },
    {
     "data": {
      "image/png": "[encoded data removed]",
      "text/plain": [
       "<Figure size 432x288 with 1 Axes>"
      ]
     },
     "metadata": {
      "needs_background": "light"
     },
     "output_type": "display_data"
    },
    {
     "name": "stdout",
     "output_type": "stream",
     "text": [
      "F1-Score and Confusion Matrix of the Validation Set\n",
      "\n",
      "              precision    recall  f1-score   support\n",
      "\n",
      "           0     0.7936    0.8464    0.8192       586\n",
      "           1     0.4857    0.3972    0.4370       214\n",
      "\n",
      "    accuracy                         0.7262       800\n",
      "   macro avg     0.6397    0.6218    0.6281       800\n",
      "weighted avg     0.7112    0.7262    0.7169       800\n",
      "\n",
      "\n",
      "\n"
     ]
    },
    {
     "data": {
      "image/png": "[encoded data removed]",
      "text/plain": [
       "<Figure size 576x432 with 2 Axes>"
      ]
     },
     "metadata": {
      "needs_background": "light"
     },
     "output_type": "display_data"
    },
    {
     "name": "stdout",
     "output_type": "stream",
     "text": [
      "\n",
      "AUC Score: 0.7046186724506396\n"
     ]
    }
   ],
   "source": [
    "# call the data handler to load the data\n",
    "TEXT, LABEL, device, train_iterator, valid_iterator = data_handler(DATA_PATH, \n",
    "                                                                   train_data_filename=data4_train_filepath, \n",
    "                                                                   val_data_filename=data4_val_filepath, \n",
    "                                                                   batch_size=32)\n",
    "\n",
    "MODEL_NAME = 'data4_bigru_model.pt'\n",
    "\n",
    "# Hyperparameters\n",
    "NUM_EPOCHS = 15\n",
    "LEARNING_RATE = 5e-04\n",
    "\n",
    "INPUT_DIM = len(TEXT.vocab)\n",
    "EMBEDDING_DIM = 300\n",
    "HIDDEN_DIM = 512\n",
    "OUTPUT_DIM = 1\n",
    "N_LAYERS = 4 \n",
    "BIDIRECTIONAL = True # changeable\n",
    "RNN_TYPE = 'gru' # changeable\n",
    "DROPOUT = 0.5\n",
    "# padding\n",
    "PAD_IDX = TEXT.vocab.stoi[TEXT.pad_token] \n",
    "\n",
    "#creating instance of our LSTM_net class\n",
    "model = RNN(vocab_size=INPUT_DIM, \n",
    "            embedding_dim=EMBEDDING_DIM, \n",
    "            hidden_dim=HIDDEN_DIM, \n",
    "            output_dim=OUTPUT_DIM, \n",
    "            n_layers=N_LAYERS, \n",
    "            bidirectional=BIDIRECTIONAL, \n",
    "            rnn_type=RNN_TYPE,\n",
    "            dropout=DROPOUT, \n",
    "            pad_idx=PAD_IDX)\n",
    "# see the model description\n",
    "print(model)\n",
    "    \n",
    "print(f'The model has {count_parameters(model):,} trainable parameters')\n",
    "print()\n",
    "\n",
    "pretrained_embeddings = TEXT.vocab.vectors\n",
    "model.embedding.weight.data.copy_(pretrained_embeddings)\n",
    "\n",
    "#  to initiaise padded to zeros\n",
    "model.embedding.weight.data[PAD_IDX] = torch.zeros(EMBEDDING_DIM)\n",
    "\n",
    "# fit the model\n",
    "fpr2d, tpr2d, get_auc_value2d, thresholds2d = fit_model(model=model, \n",
    "                                                device=device,\n",
    "                                                learning_rate=LEARNING_RATE,\n",
    "                                                num_epochs=NUM_EPOCHS,\n",
    "                                                root_path=SAVED_MODEL_PATH, \n",
    "                                                filepath=MODEL_NAME)"
   ]
  },
  {
   "cell_type": "code",
   "execution_count": null,
   "metadata": {
    "colab": {
     "base_uri": "https://localhost:8080/"
    },
    "executionInfo": {
     "elapsed": 91692,
     "status": "ok",
     "timestamp": 1647938864110,
     "user": {
      "displayName": "Chuan Bin Phoe",
      "photoUrl": "https://lh3.googleusercontent.com/a/default-user=s64",
      "userId": "05567159451591599581"
     },
     "user_tz": -480
    },
    "id": "EzS_YP3pvCZ9",
    "outputId": "b753404e-49b3-404d-c628-14c5ba0e6c12"
   },
   "outputs": [
    {
     "name": "stdout",
     "output_type": "stream",
     "text": [
      "Size of TEXT vocabulary: 5931\n",
      "Size of LABEL vocabulary: 2\n",
      "Top 10 most frequent word in the vocabulary: [('the', 1712), ('to', 1238), ('and', 861), ('a', 822), ('is', 813), ('i', 643), ('this', 634), ('in', 596), ('of', 580), ('it', 478)]\n",
      "cuda\n"
     ]
    }
   ],
   "source": [
    "# call the data handler to load the data\n",
    "TEXT, LABEL, device, train_iterator, valid_iterator = data_handler(DATA_PATH, \n",
    "                                                                   train_data_filename=data4_train_filepath, \n",
    "                                                                   val_data_filename=data4_val_filepath, \n",
    "                                                                   batch_size=32)\n",
    "\n",
    "MODEL_NAME = 'data4_bigru_model.pt'\n",
    "\n",
    "# Hyperparameters\n",
    "NUM_EPOCHS = 15\n",
    "LEARNING_RATE = 5e-04\n",
    "\n",
    "INPUT_DIM = len(TEXT.vocab)\n",
    "EMBEDDING_DIM = 300\n",
    "HIDDEN_DIM = 512\n",
    "OUTPUT_DIM = 1\n",
    "N_LAYERS = 4 \n",
    "BIDIRECTIONAL = True # changeable\n",
    "RNN_TYPE = 'gru' # changeable\n",
    "DROPOUT = 0.5\n",
    "# padding\n",
    "PAD_IDX = TEXT.vocab.stoi[TEXT.pad_token] \n",
    "\n",
    "#creating instance of our LSTM_net class\n",
    "model = RNN(vocab_size=INPUT_DIM, \n",
    "            embedding_dim=EMBEDDING_DIM, \n",
    "            hidden_dim=HIDDEN_DIM, \n",
    "            output_dim=OUTPUT_DIM, \n",
    "            n_layers=N_LAYERS, \n",
    "            bidirectional=BIDIRECTIONAL, \n",
    "            rnn_type=RNN_TYPE,\n",
    "            dropout=DROPOUT, \n",
    "            pad_idx=PAD_IDX)\n",
    "\n",
    "PATH = SAVED_MODEL_PATH+MODEL_NAME\n",
    "model.load_state_dict(torch.load(PATH))\n",
    "\n",
    "data2_pred = []\n",
    "data3_pred = []\n",
    "\n",
    "for sentence in data2['text_cleaned'].to_list():\n",
    "    data2_pred.append(predict(model, sentence))\n",
    "for sentence in data3['text_cleaned'].to_list():\n",
    "    data3_pred.append(predict(model, sentence))\n",
    "\n",
    "results_df = results_analyser.calculate_metrics(results_df, data2[\"Label\"].to_list(), data2_pred, \"data2_\"+MODEL_NAME)\n",
    "results_df = results_analyser.calculate_metrics(results_df, data3[\"Label\"].to_list(), data3_pred, \"data3_\"+MODEL_NAME)"
   ]
  },
  {
   "cell_type": "markdown",
   "metadata": {
    "id": "P4TENE9aZFLy"
   },
   "source": [
    "### CONFIGURATION 3a\n",
    "- Combined Data 1 and 4\n",
    "- Uni-LSTM"
   ]
  },
  {
   "cell_type": "code",
   "execution_count": null,
   "metadata": {
    "colab": {
     "base_uri": "https://localhost:8080/"
    },
    "executionInfo": {
     "elapsed": 49423,
     "status": "ok",
     "timestamp": 1647938914574,
     "user": {
      "displayName": "Chuan Bin Phoe",
      "photoUrl": "https://lh3.googleusercontent.com/a/default-user=s64",
      "userId": "05567159451591599581"
     },
     "user_tz": -480
    },
    "id": "GwoUr_cMYKC6",
    "outputId": "33777ef4-de4c-41f9-bd95-be467c1c2f36"
   },
   "outputs": [
    {
     "name": "stdout",
     "output_type": "stream",
     "text": [
      "Size of TEXT vocabulary: 5711\n",
      "Size of LABEL vocabulary: 2\n",
      "Top 10 most frequent word in the vocabulary: [('the', 1271), ('to', 1042), ('a', 694), ('and', 651), ('is', 633), ('in', 573), ('of', 549), ('this', 516), ('for', 500), ('on', 477)]\n",
      "cuda\n",
      "RNN(\n",
      "  (embedding): Embedding(5711, 300, padding_idx=1)\n",
      "  (rnn): LSTM(300, 512, num_layers=4, batch_first=True, dropout=0.5)\n",
      "  (fc1): Linear(in_features=1024, out_features=512, bias=True)\n",
      "  (fc2): Linear(in_features=512, out_features=1, bias=True)\n",
      "  (dropout): Dropout(p=0.5, inplace=False)\n",
      ")\n",
      "The model has 10,209,429 trainable parameters\n",
      "\n",
      "Idx: 50, Train Loss: 0.6147\n",
      "Idx: 100, Train Loss: 0.6749\n",
      "Epoch 1: Train Loss: 0.66656 | Val. Loss: 0.63698 | Val. Acc: 0.71154 | Time Taken:  4.692s\n",
      "Idx: 50, Train Loss: 0.6241\n",
      "Idx: 100, Train Loss: 0.6028\n",
      "Epoch 2: Train Loss: 0.66352 | Val. Loss: 0.61895 | Val. Acc: 0.71154 | Time Taken:  4.569s\n",
      "Idx: 50, Train Loss: 0.5782\n",
      "Idx: 100, Train Loss: 0.5909\n",
      "Epoch 3: Train Loss: 0.64357 | Val. Loss: 0.62805 | Val. Acc: 0.71875 | Time Taken:  4.500s\n",
      "Validation Loss did not improve count: 1\n",
      "Idx: 50, Train Loss: 0.6152\n",
      "Idx: 100, Train Loss: 0.6545\n",
      "Epoch 4: Train Loss: 0.61039 | Val. Loss: 0.56390 | Val. Acc: 0.75601 | Time Taken:  4.607s\n",
      "Idx: 50, Train Loss: 0.5360\n",
      "Idx: 100, Train Loss: 0.5287\n",
      "Epoch 5: Train Loss: 0.55690 | Val. Loss: 0.53008 | Val. Acc: 0.75601 | Time Taken:  4.511s\n",
      "Idx: 50, Train Loss: 0.4905\n",
      "Idx: 100, Train Loss: 0.5104\n",
      "Epoch 6: Train Loss: 0.53768 | Val. Loss: 0.52352 | Val. Acc: 0.74519 | Time Taken:  4.504s\n",
      "Idx: 50, Train Loss: 0.6865\n",
      "Idx: 100, Train Loss: 0.4515\n",
      "Epoch 7: Train Loss: 0.50449 | Val. Loss: 0.52301 | Val. Acc: 0.74399 | Time Taken:  4.490s\n",
      "Idx: 50, Train Loss: 0.5053\n",
      "Idx: 100, Train Loss: 0.5402\n",
      "Epoch 8: Train Loss: 0.48922 | Val. Loss: 0.53148 | Val. Acc: 0.72837 | Time Taken:  4.547s\n",
      "Validation Loss did not improve count: 1\n",
      "Idx: 50, Train Loss: 0.4335\n",
      "Idx: 100, Train Loss: 0.4697\n",
      "Epoch 9: Train Loss: 0.46967 | Val. Loss: 0.55224 | Val. Acc: 0.72716 | Time Taken:  4.617s\n",
      "Validation Loss did not improve count: 2\n",
      "Idx: 50, Train Loss: 0.5716\n",
      "Idx: 100, Train Loss: 0.5854\n",
      "Epoch 10: Train Loss: 0.45416 | Val. Loss: 0.56767 | Val. Acc: 0.71755 | Time Taken:  4.560s\n",
      "Validation Loss did not improve count: 3\n",
      "Training stopped due to early stopping!\n",
      "\n"
     ]
    },
    {
     "data": {
      "image/png": "[encoded data removed]",
      "text/plain": [
       "<Figure size 432x288 with 1 Axes>"
      ]
     },
     "metadata": {
      "needs_background": "light"
     },
     "output_type": "display_data"
    },
    {
     "name": "stdout",
     "output_type": "stream",
     "text": [
      "F1-Score and Confusion Matrix of the Validation Set\n",
      "\n",
      "              precision    recall  f1-score   support\n",
      "\n",
      "           0     0.8127    0.7972    0.8049       577\n",
      "           1     0.5165    0.5411    0.5285       231\n",
      "\n",
      "    accuracy                         0.7240       808\n",
      "   macro avg     0.6646    0.6692    0.6667       808\n",
      "weighted avg     0.7280    0.7240    0.7259       808\n",
      "\n",
      "\n",
      "\n"
     ]
    },
    {
     "data": {
      "image/png": "[encoded data removed]",
      "text/plain": [
       "<Figure size 576x432 with 2 Axes>"
      ]
     },
     "metadata": {
      "needs_background": "light"
     },
     "output_type": "display_data"
    },
    {
     "name": "stdout",
     "output_type": "stream",
     "text": [
      "\n",
      "AUC Score: 0.7467007285031548\n"
     ]
    }
   ],
   "source": [
    "# call the data handler to load the data\n",
    "TEXT, LABEL, device, train_iterator, valid_iterator = data_handler(DATA_PATH, \n",
    "                                                                   train_data_filename=combined_data_train_filepath, \n",
    "                                                                   val_data_filename=combined_data_val_filepath, \n",
    "                                                                   batch_size=32)\n",
    "\n",
    "MODEL_NAME = 'combined_unilstm_model.pt'\n",
    "\n",
    "# Hyperparameters\n",
    "NUM_EPOCHS = 15\n",
    "LEARNING_RATE = 5e-04\n",
    "\n",
    "INPUT_DIM = len(TEXT.vocab)\n",
    "EMBEDDING_DIM = 300\n",
    "HIDDEN_DIM = 512\n",
    "OUTPUT_DIM = 1\n",
    "N_LAYERS = 4 \n",
    "BIDIRECTIONAL = False # changeable\n",
    "RNN_TYPE = 'lstm' # changeable\n",
    "DROPOUT = 0.5\n",
    "# padding\n",
    "PAD_IDX = TEXT.vocab.stoi[TEXT.pad_token] \n",
    "\n",
    "#creating instance of our LSTM_net class\n",
    "model = RNN(vocab_size=INPUT_DIM, \n",
    "            embedding_dim=EMBEDDING_DIM, \n",
    "            hidden_dim=HIDDEN_DIM, \n",
    "            output_dim=OUTPUT_DIM, \n",
    "            n_layers=N_LAYERS, \n",
    "            bidirectional=BIDIRECTIONAL, \n",
    "            rnn_type=RNN_TYPE,\n",
    "            dropout=DROPOUT, \n",
    "            pad_idx=PAD_IDX)\n",
    "# see the model description\n",
    "print(model)\n",
    "    \n",
    "print(f'The model has {count_parameters(model):,} trainable parameters')\n",
    "print()\n",
    "\n",
    "pretrained_embeddings = TEXT.vocab.vectors\n",
    "model.embedding.weight.data.copy_(pretrained_embeddings)\n",
    "\n",
    "#  to initiaise padded to zeros\n",
    "model.embedding.weight.data[PAD_IDX] = torch.zeros(EMBEDDING_DIM)\n",
    "\n",
    "# fit the model\n",
    "fpr3a, tpr3a, get_auc_value3a, thresholds3a = fit_model(model=model, \n",
    "                                                device=device,\n",
    "                                                learning_rate=LEARNING_RATE,\n",
    "                                                num_epochs=NUM_EPOCHS,\n",
    "                                                root_path=SAVED_MODEL_PATH, \n",
    "                                                filepath=MODEL_NAME)"
   ]
  },
  {
   "cell_type": "code",
   "execution_count": null,
   "metadata": {
    "colab": {
     "base_uri": "https://localhost:8080/"
    },
    "executionInfo": {
     "elapsed": 47921,
     "status": "ok",
     "timestamp": 1647938962470,
     "user": {
      "displayName": "Chuan Bin Phoe",
      "photoUrl": "https://lh3.googleusercontent.com/a/default-user=s64",
      "userId": "05567159451591599581"
     },
     "user_tz": -480
    },
    "id": "UUFA5fb9vNDF",
    "outputId": "3ce8503d-f2d1-4c6f-d2a8-1babbd24ac19"
   },
   "outputs": [
    {
     "name": "stdout",
     "output_type": "stream",
     "text": [
      "Size of TEXT vocabulary: 5711\n",
      "Size of LABEL vocabulary: 2\n",
      "Top 10 most frequent word in the vocabulary: [('the', 1271), ('to', 1042), ('a', 694), ('and', 651), ('is', 633), ('in', 573), ('of', 549), ('this', 516), ('for', 500), ('on', 477)]\n",
      "cuda\n"
     ]
    }
   ],
   "source": [
    "# call the data handler to load the data\n",
    "TEXT, LABEL, device, train_iterator, valid_iterator = data_handler(DATA_PATH, \n",
    "                                                                   train_data_filename=combined_data_train_filepath, \n",
    "                                                                   val_data_filename=combined_data_val_filepath, \n",
    "                                                                   batch_size=32)\n",
    "\n",
    "MODEL_NAME = 'combined_unilstm_model.pt'\n",
    "\n",
    "# Hyperparameters\n",
    "NUM_EPOCHS = 15\n",
    "LEARNING_RATE = 5e-04\n",
    "\n",
    "INPUT_DIM = len(TEXT.vocab)\n",
    "EMBEDDING_DIM = 300\n",
    "HIDDEN_DIM = 512\n",
    "OUTPUT_DIM = 1\n",
    "N_LAYERS = 4 \n",
    "BIDIRECTIONAL = False # changeable\n",
    "RNN_TYPE = 'lstm' # changeable\n",
    "DROPOUT = 0.5\n",
    "# padding\n",
    "PAD_IDX = TEXT.vocab.stoi[TEXT.pad_token] \n",
    "\n",
    "#creating instance of our LSTM_net class\n",
    "model = RNN(vocab_size=INPUT_DIM, \n",
    "            embedding_dim=EMBEDDING_DIM, \n",
    "            hidden_dim=HIDDEN_DIM, \n",
    "            output_dim=OUTPUT_DIM, \n",
    "            n_layers=N_LAYERS, \n",
    "            bidirectional=BIDIRECTIONAL, \n",
    "            rnn_type=RNN_TYPE,\n",
    "            dropout=DROPOUT, \n",
    "            pad_idx=PAD_IDX)\n",
    "\n",
    "PATH = SAVED_MODEL_PATH+MODEL_NAME\n",
    "model.load_state_dict(torch.load(PATH))\n",
    "\n",
    "data2_pred = []\n",
    "data3_pred = []\n",
    "\n",
    "for sentence in data2['text_cleaned'].to_list():\n",
    "    data2_pred.append(predict(model, sentence))\n",
    "for sentence in data3['text_cleaned'].to_list():\n",
    "    data3_pred.append(predict(model, sentence))\n",
    "\n",
    "results_df = results_analyser.calculate_metrics(results_df, data2[\"Label\"].to_list(), data2_pred, \"data2_\"+MODEL_NAME)\n",
    "results_df = results_analyser.calculate_metrics(results_df, data3[\"Label\"].to_list(), data3_pred, \"data3_\"+MODEL_NAME)"
   ]
  },
  {
   "cell_type": "markdown",
   "metadata": {
    "id": "s-O0fBFraAYn"
   },
   "source": [
    "### CONFIGURATION 3b\n",
    "-  Combined Data 1 and 4\n",
    "- Bi-LSTM"
   ]
  },
  {
   "cell_type": "code",
   "execution_count": null,
   "metadata": {
    "colab": {
     "base_uri": "https://localhost:8080/"
    },
    "executionInfo": {
     "elapsed": 147001,
     "status": "ok",
     "timestamp": 1647939109417,
     "user": {
      "displayName": "Chuan Bin Phoe",
      "photoUrl": "https://lh3.googleusercontent.com/a/default-user=s64",
      "userId": "05567159451591599581"
     },
     "user_tz": -480
    },
    "id": "lE4Tb-zZYKHh",
    "outputId": "a8475b29-bc0c-4ca4-df26-0e0d23572251"
   },
   "outputs": [
    {
     "name": "stdout",
     "output_type": "stream",
     "text": [
      "Size of TEXT vocabulary: 5711\n",
      "Size of LABEL vocabulary: 2\n",
      "Top 10 most frequent word in the vocabulary: [('the', 1271), ('to', 1042), ('a', 694), ('and', 651), ('is', 633), ('in', 573), ('of', 549), ('this', 516), ('for', 500), ('on', 477)]\n",
      "cuda\n",
      "RNN(\n",
      "  (embedding): Embedding(5711, 300, padding_idx=1)\n",
      "  (rnn): LSTM(300, 512, num_layers=4, batch_first=True, dropout=0.5, bidirectional=True)\n",
      "  (fc1): Linear(in_features=1024, out_features=512, bias=True)\n",
      "  (fc2): Linear(in_features=512, out_features=1, bias=True)\n",
      "  (dropout): Dropout(p=0.5, inplace=False)\n",
      ")\n",
      "The model has 24,471,701 trainable parameters\n",
      "\n",
      "Idx: 50, Train Loss: 0.6584\n",
      "Idx: 100, Train Loss: 0.7147\n",
      "Epoch 1: Train Loss: 0.66086 | Val. Loss: 0.64236 | Val. Acc: 0.71154 | Time Taken:  9.546s\n",
      "Idx: 50, Train Loss: 0.7026\n",
      "Idx: 100, Train Loss: 0.5149\n",
      "Epoch 2: Train Loss: 0.65769 | Val. Loss: 0.54724 | Val. Acc: 0.75601 | Time Taken:  9.450s\n",
      "Idx: 50, Train Loss: 0.5985\n",
      "Idx: 100, Train Loss: 0.4896\n",
      "Epoch 3: Train Loss: 0.61924 | Val. Loss: 0.51047 | Val. Acc: 0.75721 | Time Taken:  9.325s\n",
      "Idx: 50, Train Loss: 0.5614\n",
      "Idx: 100, Train Loss: 0.5600\n",
      "Epoch 4: Train Loss: 0.55369 | Val. Loss: 0.49799 | Val. Acc: 0.76442 | Time Taken:  9.551s\n",
      "Idx: 50, Train Loss: 0.5525\n",
      "Idx: 100, Train Loss: 0.4067\n",
      "Epoch 5: Train Loss: 0.53975 | Val. Loss: 0.49742 | Val. Acc: 0.75481 | Time Taken:  9.336s\n",
      "Idx: 50, Train Loss: 0.5225\n",
      "Idx: 100, Train Loss: 0.4731\n",
      "Epoch 6: Train Loss: 0.51394 | Val. Loss: 0.54415 | Val. Acc: 0.72236 | Time Taken:  9.349s\n",
      "Validation Loss did not improve count: 1\n",
      "Idx: 50, Train Loss: 0.5906\n",
      "Idx: 100, Train Loss: 0.5350\n",
      "Epoch 7: Train Loss: 0.49917 | Val. Loss: 0.49912 | Val. Acc: 0.75481 | Time Taken:  9.290s\n",
      "Idx: 50, Train Loss: 0.4047\n",
      "Idx: 100, Train Loss: 0.5965\n",
      "Epoch 8: Train Loss: 0.46161 | Val. Loss: 0.50967 | Val. Acc: 0.73558 | Time Taken:  9.382s\n",
      "Validation Loss did not improve count: 1\n",
      "Idx: 50, Train Loss: 0.4825\n",
      "Idx: 100, Train Loss: 0.5982\n",
      "Epoch 9: Train Loss: 0.44973 | Val. Loss: 0.55944 | Val. Acc: 0.73918 | Time Taken:  9.402s\n",
      "Epoch     9: reducing learning rate of group 0 to 5.0000e-05.\n",
      "Validation Loss did not improve count: 2\n",
      "Idx: 50, Train Loss: 0.3601\n",
      "Idx: 100, Train Loss: 0.3476\n",
      "Epoch 10: Train Loss: 0.41484 | Val. Loss: 0.52644 | Val. Acc: 0.74038 | Time Taken:  9.426s\n",
      "Idx: 50, Train Loss: 0.4676\n",
      "Idx: 100, Train Loss: 0.4736\n",
      "Epoch 11: Train Loss: 0.40887 | Val. Loss: 0.52141 | Val. Acc: 0.74880 | Time Taken:  9.424s\n",
      "Idx: 50, Train Loss: 0.4994\n",
      "Idx: 100, Train Loss: 0.2302\n",
      "Epoch 12: Train Loss: 0.39608 | Val. Loss: 0.52173 | Val. Acc: 0.74880 | Time Taken:  9.434s\n",
      "Validation Loss did not improve count: 1\n",
      "Idx: 50, Train Loss: 0.3864\n",
      "Idx: 100, Train Loss: 0.3352\n",
      "Epoch 13: Train Loss: 0.41453 | Val. Loss: 0.53927 | Val. Acc: 0.73918 | Time Taken:  9.341s\n",
      "Epoch    13: reducing learning rate of group 0 to 1.0000e-05.\n",
      "Validation Loss did not improve count: 2\n",
      "Idx: 50, Train Loss: 0.3959\n",
      "Idx: 100, Train Loss: 0.5051\n",
      "Epoch 14: Train Loss: 0.40828 | Val. Loss: 0.53904 | Val. Acc: 0.73798 | Time Taken:  9.373s\n",
      "Idx: 50, Train Loss: 0.3823\n",
      "Idx: 100, Train Loss: 0.4488\n",
      "Epoch 15: Train Loss: 0.40506 | Val. Loss: 0.53945 | Val. Acc: 0.73918 | Time Taken:  9.334s\n",
      "Validation Loss did not improve count: 1\n",
      "\n"
     ]
    },
    {
     "data": {
      "image/png": "[encoded data removed]",
      "text/plain": [
       "<Figure size 432x288 with 1 Axes>"
      ]
     },
     "metadata": {
      "needs_background": "light"
     },
     "output_type": "display_data"
    },
    {
     "name": "stdout",
     "output_type": "stream",
     "text": [
      "F1-Score and Confusion Matrix of the Validation Set\n",
      "\n",
      "              precision    recall  f1-score   support\n",
      "\n",
      "           0     0.8187    0.8215    0.8201       577\n",
      "           1     0.5502    0.5455    0.5478       231\n",
      "\n",
      "    accuracy                         0.7426       808\n",
      "   macro avg     0.6844    0.6835    0.6839       808\n",
      "weighted avg     0.7419    0.7426    0.7422       808\n",
      "\n",
      "\n",
      "\n"
     ]
    },
    {
     "data": {
      "image/png": "[encoded data removed]",
      "text/plain": [
       "<Figure size 576x432 with 2 Axes>"
      ]
     },
     "metadata": {
      "needs_background": "light"
     },
     "output_type": "display_data"
    },
    {
     "name": "stdout",
     "output_type": "stream",
     "text": [
      "\n",
      "AUC Score: 0.7879275548253017\n"
     ]
    }
   ],
   "source": [
    "# call the data handler to load the data\n",
    "TEXT, LABEL, device, train_iterator, valid_iterator = data_handler(DATA_PATH, \n",
    "                                                                   train_data_filename=combined_data_train_filepath, \n",
    "                                                                   val_data_filename=combined_data_val_filepath, \n",
    "                                                                   batch_size=32)\n",
    "\n",
    "MODEL_NAME = 'combined_bilstm_model.pt'\n",
    "\n",
    "# Hyperparameters\n",
    "NUM_EPOCHS = 15\n",
    "LEARNING_RATE = 5e-04\n",
    "\n",
    "INPUT_DIM = len(TEXT.vocab)\n",
    "EMBEDDING_DIM = 300\n",
    "HIDDEN_DIM = 512\n",
    "OUTPUT_DIM = 1\n",
    "N_LAYERS = 4 \n",
    "BIDIRECTIONAL = True # changeable\n",
    "RNN_TYPE = 'lstm' # changeable\n",
    "DROPOUT = 0.5\n",
    "# padding\n",
    "PAD_IDX = TEXT.vocab.stoi[TEXT.pad_token] \n",
    "\n",
    "#creating instance of our LSTM_net class\n",
    "model = RNN(vocab_size=INPUT_DIM, \n",
    "            embedding_dim=EMBEDDING_DIM, \n",
    "            hidden_dim=HIDDEN_DIM, \n",
    "            output_dim=OUTPUT_DIM, \n",
    "            n_layers=N_LAYERS, \n",
    "            bidirectional=BIDIRECTIONAL, \n",
    "            rnn_type=RNN_TYPE,\n",
    "            dropout=DROPOUT, \n",
    "            pad_idx=PAD_IDX)\n",
    "# see the model description\n",
    "print(model)\n",
    "    \n",
    "print(f'The model has {count_parameters(model):,} trainable parameters')\n",
    "print()\n",
    "\n",
    "pretrained_embeddings = TEXT.vocab.vectors\n",
    "model.embedding.weight.data.copy_(pretrained_embeddings)\n",
    "\n",
    "#  to initiaise padded to zeros\n",
    "model.embedding.weight.data[PAD_IDX] = torch.zeros(EMBEDDING_DIM)\n",
    "\n",
    "# fit the model\n",
    "fpr3b, tpr3b, get_auc_value3b, thresholds3b = fit_model(model=model, \n",
    "                                                device=device,\n",
    "                                                learning_rate=LEARNING_RATE,\n",
    "                                                num_epochs=NUM_EPOCHS,\n",
    "                                                root_path=SAVED_MODEL_PATH, \n",
    "                                                filepath=MODEL_NAME)"
   ]
  },
  {
   "cell_type": "code",
   "execution_count": null,
   "metadata": {
    "colab": {
     "base_uri": "https://localhost:8080/"
    },
    "executionInfo": {
     "elapsed": 107556,
     "status": "ok",
     "timestamp": 1647939216963,
     "user": {
      "displayName": "Chuan Bin Phoe",
      "photoUrl": "https://lh3.googleusercontent.com/a/default-user=s64",
      "userId": "05567159451591599581"
     },
     "user_tz": -480
    },
    "id": "gn-DMnGfvRVg",
    "outputId": "e7a1ae35-ca1e-4d2b-af11-81e69effcffe"
   },
   "outputs": [
    {
     "name": "stdout",
     "output_type": "stream",
     "text": [
      "Size of TEXT vocabulary: 5711\n",
      "Size of LABEL vocabulary: 2\n",
      "Top 10 most frequent word in the vocabulary: [('the', 1271), ('to', 1042), ('a', 694), ('and', 651), ('is', 633), ('in', 573), ('of', 549), ('this', 516), ('for', 500), ('on', 477)]\n",
      "cuda\n"
     ]
    }
   ],
   "source": [
    "# call the data handler to load the data\n",
    "TEXT, LABEL, device, train_iterator, valid_iterator = data_handler(DATA_PATH, \n",
    "                                                                   train_data_filename=combined_data_train_filepath, \n",
    "                                                                   val_data_filename=combined_data_val_filepath, \n",
    "                                                                   batch_size=32)\n",
    "\n",
    "MODEL_NAME = 'combined_bilstm_model.pt'\n",
    "\n",
    "# Hyperparameters\n",
    "NUM_EPOCHS = 15\n",
    "LEARNING_RATE = 5e-04\n",
    "\n",
    "INPUT_DIM = len(TEXT.vocab)\n",
    "EMBEDDING_DIM = 300\n",
    "HIDDEN_DIM = 512\n",
    "OUTPUT_DIM = 1\n",
    "N_LAYERS = 4 \n",
    "BIDIRECTIONAL = True # changeable\n",
    "RNN_TYPE = 'lstm' # changeable\n",
    "DROPOUT = 0.5\n",
    "# padding\n",
    "PAD_IDX = TEXT.vocab.stoi[TEXT.pad_token] \n",
    "\n",
    "#creating instance of our LSTM_net class\n",
    "model = RNN(vocab_size=INPUT_DIM, \n",
    "            embedding_dim=EMBEDDING_DIM, \n",
    "            hidden_dim=HIDDEN_DIM, \n",
    "            output_dim=OUTPUT_DIM, \n",
    "            n_layers=N_LAYERS, \n",
    "            bidirectional=BIDIRECTIONAL, \n",
    "            rnn_type=RNN_TYPE,\n",
    "            dropout=DROPOUT, \n",
    "            pad_idx=PAD_IDX)\n",
    "\n",
    "PATH = SAVED_MODEL_PATH+MODEL_NAME\n",
    "model.load_state_dict(torch.load(PATH))\n",
    "\n",
    "data2_pred = []\n",
    "data3_pred = []\n",
    "\n",
    "for sentence in data2['text_cleaned'].to_list():\n",
    "    data2_pred.append(predict(model, sentence))\n",
    "for sentence in data3['text_cleaned'].to_list():\n",
    "    data3_pred.append(predict(model, sentence))\n",
    "\n",
    "results_df = results_analyser.calculate_metrics(results_df, data2[\"Label\"].to_list(), data2_pred, \"data2_\"+MODEL_NAME)\n",
    "results_df = results_analyser.calculate_metrics(results_df, data3[\"Label\"].to_list(), data3_pred, \"data3_\"+MODEL_NAME)"
   ]
  },
  {
   "cell_type": "markdown",
   "metadata": {
    "id": "Ga6v3bNqaDQw"
   },
   "source": [
    "### CONFIGURATION 3c\n",
    "-  Combined Data 1 and 4\n",
    "- Uni-GRU"
   ]
  },
  {
   "cell_type": "code",
   "execution_count": null,
   "metadata": {
    "colab": {
     "base_uri": "https://localhost:8080/"
    },
    "executionInfo": {
     "elapsed": 59575,
     "status": "ok",
     "timestamp": 1647939276467,
     "user": {
      "displayName": "Chuan Bin Phoe",
      "photoUrl": "https://lh3.googleusercontent.com/a/default-user=s64",
      "userId": "05567159451591599581"
     },
     "user_tz": -480
    },
    "id": "UZSwI1UgYKJ8",
    "outputId": "486d236c-a328-4d06-b8ed-c6dbf298cc54"
   },
   "outputs": [
    {
     "name": "stdout",
     "output_type": "stream",
     "text": [
      "Size of TEXT vocabulary: 5711\n",
      "Size of LABEL vocabulary: 2\n",
      "Top 10 most frequent word in the vocabulary: [('the', 1271), ('to', 1042), ('a', 694), ('and', 651), ('is', 633), ('in', 573), ('of', 549), ('this', 516), ('for', 500), ('on', 477)]\n",
      "cuda\n",
      "RNN(\n",
      "  (embedding): Embedding(5711, 300, padding_idx=1)\n",
      "  (rnn): GRU(300, 512, num_layers=4, batch_first=True, dropout=0.5)\n",
      "  (fc1): Linear(in_features=1024, out_features=512, bias=True)\n",
      "  (fc2): Linear(in_features=512, out_features=1, bias=True)\n",
      "  (dropout): Dropout(p=0.5, inplace=False)\n",
      ")\n",
      "The model has 8,216,725 trainable parameters\n",
      "\n",
      "Idx: 50, Train Loss: 0.6058\n",
      "Idx: 100, Train Loss: 0.7317\n",
      "Epoch 1: Train Loss: 0.66600 | Val. Loss: 0.62567 | Val. Acc: 0.71154 | Time Taken:  4.128s\n",
      "Idx: 50, Train Loss: 0.7917\n",
      "Idx: 100, Train Loss: 0.5814\n",
      "Epoch 2: Train Loss: 0.65136 | Val. Loss: 0.56580 | Val. Acc: 0.74038 | Time Taken:  3.987s\n",
      "Idx: 50, Train Loss: 0.6263\n",
      "Idx: 100, Train Loss: 0.5769\n",
      "Epoch 3: Train Loss: 0.61776 | Val. Loss: 0.58359 | Val. Acc: 0.74399 | Time Taken:  3.944s\n",
      "Validation Loss did not improve count: 1\n",
      "Idx: 50, Train Loss: 0.5837\n",
      "Idx: 100, Train Loss: 0.6336\n",
      "Epoch 4: Train Loss: 0.57447 | Val. Loss: 0.55354 | Val. Acc: 0.75601 | Time Taken:  4.033s\n",
      "Idx: 50, Train Loss: 0.6843\n",
      "Idx: 100, Train Loss: 0.6254\n",
      "Epoch 5: Train Loss: 0.53344 | Val. Loss: 0.54811 | Val. Acc: 0.73317 | Time Taken:  3.959s\n",
      "Idx: 50, Train Loss: 0.5163\n",
      "Idx: 100, Train Loss: 0.5335\n",
      "Epoch 6: Train Loss: 0.51667 | Val. Loss: 0.57159 | Val. Acc: 0.70072 | Time Taken:  3.944s\n",
      "Validation Loss did not improve count: 1\n",
      "Idx: 50, Train Loss: 0.5241\n",
      "Idx: 100, Train Loss: 0.5931\n",
      "Epoch 7: Train Loss: 0.49132 | Val. Loss: 0.53118 | Val. Acc: 0.75361 | Time Taken:  3.945s\n",
      "Idx: 50, Train Loss: 0.4130\n",
      "Idx: 100, Train Loss: 0.4806\n",
      "Epoch 8: Train Loss: 0.45570 | Val. Loss: 0.61734 | Val. Acc: 0.70192 | Time Taken:  3.970s\n",
      "Validation Loss did not improve count: 1\n",
      "Idx: 50, Train Loss: 0.4294\n",
      "Idx: 100, Train Loss: 0.4924\n",
      "Epoch 9: Train Loss: 0.43944 | Val. Loss: 0.62840 | Val. Acc: 0.67428 | Time Taken:  4.005s\n",
      "Validation Loss did not improve count: 2\n",
      "Idx: 50, Train Loss: 0.4746\n",
      "Idx: 100, Train Loss: 0.5204\n",
      "Epoch 10: Train Loss: 0.43001 | Val. Loss: 0.61400 | Val. Acc: 0.71034 | Time Taken:  3.968s\n",
      "Idx: 50, Train Loss: 0.3490\n",
      "Idx: 100, Train Loss: 0.4966\n",
      "Epoch 11: Train Loss: 0.41689 | Val. Loss: 0.56400 | Val. Acc: 0.73077 | Time Taken:  3.975s\n",
      "Epoch    11: reducing learning rate of group 0 to 5.0000e-05.\n",
      "Idx: 50, Train Loss: 0.4817\n",
      "Idx: 100, Train Loss: 0.3028\n",
      "Epoch 12: Train Loss: 0.39712 | Val. Loss: 0.60724 | Val. Acc: 0.73317 | Time Taken:  3.989s\n",
      "Validation Loss did not improve count: 1\n",
      "Idx: 50, Train Loss: 0.4822\n",
      "Idx: 100, Train Loss: 0.4238\n",
      "Epoch 13: Train Loss: 0.38959 | Val. Loss: 0.61519 | Val. Acc: 0.72957 | Time Taken:  3.936s\n",
      "Validation Loss did not improve count: 2\n",
      "Idx: 50, Train Loss: 0.2736\n",
      "Idx: 100, Train Loss: 0.3094\n",
      "Epoch 14: Train Loss: 0.39468 | Val. Loss: 0.63219 | Val. Acc: 0.72957 | Time Taken:  3.949s\n",
      "Validation Loss did not improve count: 3\n",
      "Training stopped due to early stopping!\n",
      "\n"
     ]
    },
    {
     "data": {
      "image/png": "[encoded data removed]",
      "text/plain": [
       "<Figure size 432x288 with 1 Axes>"
      ]
     },
     "metadata": {
      "needs_background": "light"
     },
     "output_type": "display_data"
    },
    {
     "name": "stdout",
     "output_type": "stream",
     "text": [
      "F1-Score and Confusion Matrix of the Validation Set\n",
      "\n",
      "              precision    recall  f1-score   support\n",
      "\n",
      "           0     0.8140    0.8042    0.8091       577\n",
      "           1     0.5252    0.5411    0.5330       231\n",
      "\n",
      "    accuracy                         0.7290       808\n",
      "   macro avg     0.6696    0.6726    0.6711       808\n",
      "weighted avg     0.7315    0.7290    0.7302       808\n",
      "\n",
      "\n",
      "\n"
     ]
    },
    {
     "data": {
      "image/png": "[encoded data removed]",
      "text/plain": [
       "<Figure size 576x432 with 2 Axes>"
      ]
     },
     "metadata": {
      "needs_background": "light"
     },
     "output_type": "display_data"
    },
    {
     "name": "stdout",
     "output_type": "stream",
     "text": [
      "\n",
      "AUC Score: 0.7345164944818324\n"
     ]
    }
   ],
   "source": [
    "# call the data handler to load the data\n",
    "TEXT, LABEL, device, train_iterator, valid_iterator = data_handler(DATA_PATH, \n",
    "                                                                   train_data_filename=combined_data_train_filepath, \n",
    "                                                                   val_data_filename=combined_data_val_filepath, \n",
    "                                                                   batch_size=32)\n",
    "\n",
    "MODEL_NAME = 'combined_unigru_model.pt'\n",
    "\n",
    "# Hyperparameters\n",
    "NUM_EPOCHS = 15\n",
    "LEARNING_RATE = 5e-04\n",
    "\n",
    "INPUT_DIM = len(TEXT.vocab)\n",
    "EMBEDDING_DIM = 300\n",
    "HIDDEN_DIM = 512\n",
    "OUTPUT_DIM = 1\n",
    "N_LAYERS = 4 \n",
    "BIDIRECTIONAL = False # changeable\n",
    "RNN_TYPE = 'gru' # changeable\n",
    "DROPOUT = 0.5\n",
    "# padding\n",
    "PAD_IDX = TEXT.vocab.stoi[TEXT.pad_token] \n",
    "\n",
    "#creating instance of our LSTM_net class\n",
    "model = RNN(vocab_size=INPUT_DIM, \n",
    "            embedding_dim=EMBEDDING_DIM, \n",
    "            hidden_dim=HIDDEN_DIM, \n",
    "            output_dim=OUTPUT_DIM, \n",
    "            n_layers=N_LAYERS, \n",
    "            bidirectional=BIDIRECTIONAL, \n",
    "            rnn_type=RNN_TYPE,\n",
    "            dropout=DROPOUT, \n",
    "            pad_idx=PAD_IDX)\n",
    "# see the model description\n",
    "print(model)\n",
    "    \n",
    "print(f'The model has {count_parameters(model):,} trainable parameters')\n",
    "print()\n",
    "\n",
    "pretrained_embeddings = TEXT.vocab.vectors\n",
    "model.embedding.weight.data.copy_(pretrained_embeddings)\n",
    "\n",
    "#  to initiaise padded to zeros\n",
    "model.embedding.weight.data[PAD_IDX] = torch.zeros(EMBEDDING_DIM)\n",
    "\n",
    "# fit the model\n",
    "fpr3c, tpr3c, get_auc_value3c, thresholds3c = fit_model(model=model, \n",
    "                                                device=device,\n",
    "                                                learning_rate=LEARNING_RATE,\n",
    "                                                num_epochs=NUM_EPOCHS,\n",
    "                                                root_path=SAVED_MODEL_PATH, \n",
    "                                                filepath=MODEL_NAME)"
   ]
  },
  {
   "cell_type": "code",
   "execution_count": null,
   "metadata": {
    "colab": {
     "base_uri": "https://localhost:8080/"
    },
    "executionInfo": {
     "elapsed": 41529,
     "status": "ok",
     "timestamp": 1647939317969,
     "user": {
      "displayName": "Chuan Bin Phoe",
      "photoUrl": "https://lh3.googleusercontent.com/a/default-user=s64",
      "userId": "05567159451591599581"
     },
     "user_tz": -480
    },
    "id": "A7NsCowUvYUz",
    "outputId": "54d92209-a22c-4ff5-f3fc-63540dfd0304"
   },
   "outputs": [
    {
     "name": "stdout",
     "output_type": "stream",
     "text": [
      "Size of TEXT vocabulary: 5711\n",
      "Size of LABEL vocabulary: 2\n",
      "Top 10 most frequent word in the vocabulary: [('the', 1271), ('to', 1042), ('a', 694), ('and', 651), ('is', 633), ('in', 573), ('of', 549), ('this', 516), ('for', 500), ('on', 477)]\n",
      "cuda\n"
     ]
    }
   ],
   "source": [
    "# call the data handler to load the data\n",
    "TEXT, LABEL, device, train_iterator, valid_iterator = data_handler(DATA_PATH, \n",
    "                                                                   train_data_filename=combined_data_train_filepath, \n",
    "                                                                   val_data_filename=combined_data_val_filepath, \n",
    "                                                                   batch_size=32)\n",
    "\n",
    "MODEL_NAME = 'combined_unigru_model.pt'\n",
    "\n",
    "# Hyperparameters\n",
    "NUM_EPOCHS = 15\n",
    "LEARNING_RATE = 5e-04\n",
    "\n",
    "INPUT_DIM = len(TEXT.vocab)\n",
    "EMBEDDING_DIM = 300\n",
    "HIDDEN_DIM = 512\n",
    "OUTPUT_DIM = 1\n",
    "N_LAYERS = 4 \n",
    "BIDIRECTIONAL = False # changeable\n",
    "RNN_TYPE = 'gru' # changeable\n",
    "DROPOUT = 0.5\n",
    "# padding\n",
    "PAD_IDX = TEXT.vocab.stoi[TEXT.pad_token] \n",
    "\n",
    "#creating instance of our LSTM_net class\n",
    "model = RNN(vocab_size=INPUT_DIM, \n",
    "            embedding_dim=EMBEDDING_DIM, \n",
    "            hidden_dim=HIDDEN_DIM, \n",
    "            output_dim=OUTPUT_DIM, \n",
    "            n_layers=N_LAYERS, \n",
    "            bidirectional=BIDIRECTIONAL, \n",
    "            rnn_type=RNN_TYPE,\n",
    "            dropout=DROPOUT, \n",
    "            pad_idx=PAD_IDX)\n",
    "\n",
    "PATH = SAVED_MODEL_PATH+MODEL_NAME\n",
    "model.load_state_dict(torch.load(PATH))\n",
    "\n",
    "data2_pred = []\n",
    "data3_pred = []\n",
    "\n",
    "for sentence in data2['text_cleaned'].to_list():\n",
    "    data2_pred.append(predict(model, sentence))\n",
    "for sentence in data3['text_cleaned'].to_list():\n",
    "    data3_pred.append(predict(model, sentence))\n",
    "\n",
    "results_df = results_analyser.calculate_metrics(results_df, data2[\"Label\"].to_list(), data2_pred, \"data2_\"+MODEL_NAME)\n",
    "results_df = results_analyser.calculate_metrics(results_df, data3[\"Label\"].to_list(), data3_pred, \"data3_\"+MODEL_NAME)"
   ]
  },
  {
   "cell_type": "markdown",
   "metadata": {
    "id": "2f7cEMe5bVzY"
   },
   "source": [
    "### CONFIGURATION 3d\n",
    "-  Combined Data 1 and 4\n",
    "- BiGRU"
   ]
  },
  {
   "cell_type": "code",
   "execution_count": null,
   "metadata": {
    "colab": {
     "base_uri": "https://localhost:8080/"
    },
    "executionInfo": {
     "elapsed": 99947,
     "status": "ok",
     "timestamp": 1647939417857,
     "user": {
      "displayName": "Chuan Bin Phoe",
      "photoUrl": "https://lh3.googleusercontent.com/a/default-user=s64",
      "userId": "05567159451591599581"
     },
     "user_tz": -480
    },
    "id": "530IvQOPVQmE",
    "outputId": "7d439462-3260-4fff-850a-bb493ad05de8"
   },
   "outputs": [
    {
     "name": "stdout",
     "output_type": "stream",
     "text": [
      "Size of TEXT vocabulary: 5711\n",
      "Size of LABEL vocabulary: 2\n",
      "Top 10 most frequent word in the vocabulary: [('the', 1271), ('to', 1042), ('a', 694), ('and', 651), ('is', 633), ('in', 573), ('of', 549), ('this', 516), ('for', 500), ('on', 477)]\n",
      "cuda\n",
      "RNN(\n",
      "  (embedding): Embedding(5711, 300, padding_idx=1)\n",
      "  (rnn): GRU(300, 512, num_layers=4, batch_first=True, dropout=0.5, bidirectional=True)\n",
      "  (fc1): Linear(in_features=1024, out_features=512, bias=True)\n",
      "  (fc2): Linear(in_features=512, out_features=1, bias=True)\n",
      "  (dropout): Dropout(p=0.5, inplace=False)\n",
      ")\n",
      "The model has 18,913,429 trainable parameters\n",
      "\n",
      "Idx: 50, Train Loss: 0.6490\n",
      "Idx: 100, Train Loss: 0.7185\n",
      "Epoch 1: Train Loss: 0.68121 | Val. Loss: 0.63737 | Val. Acc: 0.72476 | Time Taken:  8.091s\n",
      "Idx: 50, Train Loss: 0.6052\n",
      "Idx: 100, Train Loss: 0.6470\n",
      "Epoch 2: Train Loss: 0.64903 | Val. Loss: 0.54633 | Val. Acc: 0.74279 | Time Taken:  8.016s\n",
      "Idx: 50, Train Loss: 0.6203\n",
      "Idx: 100, Train Loss: 0.4317\n",
      "Epoch 3: Train Loss: 0.59910 | Val. Loss: 0.52384 | Val. Acc: 0.75000 | Time Taken:  7.925s\n",
      "Idx: 50, Train Loss: 0.6414\n",
      "Idx: 100, Train Loss: 0.5430\n",
      "Epoch 4: Train Loss: 0.56430 | Val. Loss: 0.50648 | Val. Acc: 0.74279 | Time Taken:  8.032s\n",
      "Idx: 50, Train Loss: 0.4919\n",
      "Idx: 100, Train Loss: 0.4835\n",
      "Epoch 5: Train Loss: 0.52180 | Val. Loss: 0.56581 | Val. Acc: 0.72115 | Time Taken:  7.883s\n",
      "Validation Loss did not improve count: 1\n",
      "Idx: 50, Train Loss: 0.5031\n",
      "Idx: 100, Train Loss: 0.4951\n",
      "Epoch 6: Train Loss: 0.50583 | Val. Loss: 0.55247 | Val. Acc: 0.70913 | Time Taken:  7.878s\n",
      "Idx: 50, Train Loss: 0.5021\n",
      "Idx: 100, Train Loss: 0.6139\n",
      "Epoch 7: Train Loss: 0.48699 | Val. Loss: 0.49455 | Val. Acc: 0.74399 | Time Taken:  7.867s\n",
      "Idx: 50, Train Loss: 0.4810\n",
      "Idx: 100, Train Loss: 0.5598\n",
      "Epoch 8: Train Loss: 0.46061 | Val. Loss: 0.58951 | Val. Acc: 0.71394 | Time Taken:  7.977s\n",
      "Validation Loss did not improve count: 1\n",
      "Idx: 50, Train Loss: 0.4555\n",
      "Idx: 100, Train Loss: 0.4125\n",
      "Epoch 9: Train Loss: 0.45787 | Val. Loss: 0.51445 | Val. Acc: 0.73798 | Time Taken:  7.973s\n",
      "Idx: 50, Train Loss: 0.3605\n",
      "Idx: 100, Train Loss: 0.5175\n",
      "Epoch 10: Train Loss: 0.43471 | Val. Loss: 0.56627 | Val. Acc: 0.71635 | Time Taken:  7.972s\n",
      "Validation Loss did not improve count: 1\n",
      "Idx: 50, Train Loss: 0.5112\n",
      "Idx: 100, Train Loss: 0.4098\n",
      "Epoch 11: Train Loss: 0.41818 | Val. Loss: 0.58376 | Val. Acc: 0.71394 | Time Taken:  7.990s\n",
      "Epoch    11: reducing learning rate of group 0 to 5.0000e-05.\n",
      "Validation Loss did not improve count: 2\n",
      "Idx: 50, Train Loss: 0.4563\n",
      "Idx: 100, Train Loss: 0.4032\n",
      "Epoch 12: Train Loss: 0.39170 | Val. Loss: 0.58946 | Val. Acc: 0.70913 | Time Taken:  7.989s\n",
      "Validation Loss did not improve count: 3\n",
      "Training stopped due to early stopping!\n",
      "\n"
     ]
    },
    {
     "data": {
      "image/png": "[encoded data removed]",
      "text/plain": [
       "<Figure size 432x288 with 1 Axes>"
      ]
     },
     "metadata": {
      "needs_background": "light"
     },
     "output_type": "display_data"
    },
    {
     "name": "stdout",
     "output_type": "stream",
     "text": [
      "F1-Score and Confusion Matrix of the Validation Set\n",
      "\n",
      "              precision    recall  f1-score   support\n",
      "\n",
      "           0     0.8080    0.8024    0.8052       577\n",
      "           1     0.5149    0.5238    0.5193       231\n",
      "\n",
      "    accuracy                         0.7228       808\n",
      "   macro avg     0.6615    0.6631    0.6623       808\n",
      "weighted avg     0.7242    0.7228    0.7235       808\n",
      "\n",
      "\n",
      "\n"
     ]
    },
    {
     "data": {
      "image/png": "[encoded data removed]",
      "text/plain": [
       "<Figure size 576x432 with 2 Axes>"
      ]
     },
     "metadata": {
      "needs_background": "light"
     },
     "output_type": "display_data"
    },
    {
     "name": "stdout",
     "output_type": "stream",
     "text": [
      "\n",
      "AUC Score: 0.7690885082566192\n"
     ]
    }
   ],
   "source": [
    "# call the data handler to load the data\n",
    "TEXT, LABEL, device, train_iterator, valid_iterator = data_handler(DATA_PATH, \n",
    "                                                                   train_data_filename=combined_data_train_filepath, \n",
    "                                                                   val_data_filename=combined_data_val_filepath, \n",
    "                                                                   batch_size=32)\n",
    "\n",
    "MODEL_NAME = 'combined_bigru_model.pt'\n",
    "\n",
    "# Hyperparameters\n",
    "NUM_EPOCHS = 15\n",
    "LEARNING_RATE = 5e-04\n",
    "\n",
    "INPUT_DIM = len(TEXT.vocab)\n",
    "EMBEDDING_DIM = 300\n",
    "HIDDEN_DIM = 512\n",
    "OUTPUT_DIM = 1\n",
    "N_LAYERS = 4 \n",
    "BIDIRECTIONAL = True # changeable\n",
    "RNN_TYPE = 'gru' # changeable\n",
    "DROPOUT = 0.5\n",
    "# padding\n",
    "PAD_IDX = TEXT.vocab.stoi[TEXT.pad_token] \n",
    "\n",
    "#creating instance of our LSTM_net class\n",
    "model = RNN(vocab_size=INPUT_DIM, \n",
    "            embedding_dim=EMBEDDING_DIM, \n",
    "            hidden_dim=HIDDEN_DIM, \n",
    "            output_dim=OUTPUT_DIM, \n",
    "            n_layers=N_LAYERS, \n",
    "            bidirectional=BIDIRECTIONAL, \n",
    "            rnn_type=RNN_TYPE,\n",
    "            dropout=DROPOUT, \n",
    "            pad_idx=PAD_IDX)\n",
    "# see the model description\n",
    "print(model)\n",
    "    \n",
    "print(f'The model has {count_parameters(model):,} trainable parameters')\n",
    "print()\n",
    "\n",
    "pretrained_embeddings = TEXT.vocab.vectors\n",
    "model.embedding.weight.data.copy_(pretrained_embeddings)\n",
    "\n",
    "#  to initiaise padded to zeros\n",
    "model.embedding.weight.data[PAD_IDX] = torch.zeros(EMBEDDING_DIM)\n",
    "\n",
    "# fit the model\n",
    "fpr3d, tpr3d, get_auc_value3d, thresholds3d = fit_model(model=model, \n",
    "                                                device=device,\n",
    "                                                learning_rate=LEARNING_RATE,\n",
    "                                                num_epochs=NUM_EPOCHS,\n",
    "                                                root_path=SAVED_MODEL_PATH, \n",
    "                                                filepath=MODEL_NAME)"
   ]
  },
  {
   "cell_type": "code",
   "execution_count": null,
   "metadata": {
    "colab": {
     "base_uri": "https://localhost:8080/"
    },
    "executionInfo": {
     "elapsed": 92162,
     "status": "ok",
     "timestamp": 1647939509946,
     "user": {
      "displayName": "Chuan Bin Phoe",
      "photoUrl": "https://lh3.googleusercontent.com/a/default-user=s64",
      "userId": "05567159451591599581"
     },
     "user_tz": -480
    },
    "id": "maVda23SvdI0",
    "outputId": "421783ea-6612-4b5f-c68c-c452ccbae5c3"
   },
   "outputs": [
    {
     "name": "stdout",
     "output_type": "stream",
     "text": [
      "Size of TEXT vocabulary: 5711\n",
      "Size of LABEL vocabulary: 2\n",
      "Top 10 most frequent word in the vocabulary: [('the', 1271), ('to', 1042), ('a', 694), ('and', 651), ('is', 633), ('in', 573), ('of', 549), ('this', 516), ('for', 500), ('on', 477)]\n",
      "cuda\n"
     ]
    }
   ],
   "source": [
    "# call the data handler to load the data\n",
    "TEXT, LABEL, device, train_iterator, valid_iterator = data_handler(DATA_PATH, \n",
    "                                                                   train_data_filename=combined_data_train_filepath, \n",
    "                                                                   val_data_filename=combined_data_val_filepath, \n",
    "                                                                   batch_size=32)\n",
    "\n",
    "MODEL_NAME = 'combined_bigru_model.pt'\n",
    "\n",
    "# Hyperparameters\n",
    "NUM_EPOCHS = 15\n",
    "LEARNING_RATE = 5e-04\n",
    "\n",
    "INPUT_DIM = len(TEXT.vocab)\n",
    "EMBEDDING_DIM = 300\n",
    "HIDDEN_DIM = 512\n",
    "OUTPUT_DIM = 1\n",
    "N_LAYERS = 4 \n",
    "BIDIRECTIONAL = True # changeable\n",
    "RNN_TYPE = 'gru' # changeable\n",
    "DROPOUT = 0.5\n",
    "# padding\n",
    "PAD_IDX = TEXT.vocab.stoi[TEXT.pad_token] \n",
    "\n",
    "#creating instance of our LSTM_net class\n",
    "model = RNN(vocab_size=INPUT_DIM, \n",
    "            embedding_dim=EMBEDDING_DIM, \n",
    "            hidden_dim=HIDDEN_DIM, \n",
    "            output_dim=OUTPUT_DIM, \n",
    "            n_layers=N_LAYERS, \n",
    "            bidirectional=BIDIRECTIONAL, \n",
    "            rnn_type=RNN_TYPE,\n",
    "            dropout=DROPOUT, \n",
    "            pad_idx=PAD_IDX)\n",
    "\n",
    "PATH = SAVED_MODEL_PATH+MODEL_NAME\n",
    "model.load_state_dict(torch.load(PATH))\n",
    "\n",
    "data2_pred = []\n",
    "data3_pred = []\n",
    "\n",
    "for sentence in data2['text_cleaned'].to_list():\n",
    "    data2_pred.append(predict(model, sentence))\n",
    "for sentence in data3['text_cleaned'].to_list():\n",
    "    data3_pred.append(predict(model, sentence))\n",
    "\n",
    "results_df = results_analyser.calculate_metrics(results_df, data2[\"Label\"].to_list(), data2_pred, \"data2_\"+MODEL_NAME)\n",
    "results_df = results_analyser.calculate_metrics(results_df, data3[\"Label\"].to_list(), data3_pred, \"data3_\"+MODEL_NAME)"
   ]
  },
  {
   "cell_type": "markdown",
   "metadata": {
    "id": "-bWMMb0LvtOt"
   },
   "source": [
    "## View and save results"
   ]
  },
  {
   "cell_type": "code",
   "execution_count": null,
   "metadata": {
    "colab": {
     "base_uri": "https://localhost:8080/",
     "height": 802
    },
    "executionInfo": {
     "elapsed": 88,
     "status": "ok",
     "timestamp": 1647939509954,
     "user": {
      "displayName": "Chuan Bin Phoe",
      "photoUrl": "https://lh3.googleusercontent.com/a/default-user=s64",
      "userId": "05567159451591599581"
     },
     "user_tz": -480
    },
    "id": "XOW-kMcBvuc5",
    "outputId": "00c0b2c6-7d8f-4323-e04e-7c1018e31214"
   },
   "outputs": [
    {
     "data": {
      "text/html": [
       "\n",
       "  <div id=\"df-c50ad014-22d7-4796-b7a9-5147ee938c2a\">\n",
       "    <div class=\"colab-df-container\">\n",
       "      <div>\n",
       "<style scoped>\n",
       "    .dataframe tbody tr th:only-of-type {\n",
       "        vertical-align: middle;\n",
       "    }\n",
       "\n",
       "    .dataframe tbody tr th {\n",
       "        vertical-align: top;\n",
       "    }\n",
       "\n",
       "    .dataframe thead th {\n",
       "        text-align: right;\n",
       "    }\n",
       "</style>\n",
       "<table border=\"1\" class=\"dataframe\">\n",
       "  <thead>\n",
       "    <tr style=\"text-align: right;\">\n",
       "      <th></th>\n",
       "      <th>Experiment</th>\n",
       "      <th>Accuracy</th>\n",
       "      <th>Precision</th>\n",
       "      <th>Recall</th>\n",
       "      <th>F1_score</th>\n",
       "    </tr>\n",
       "  </thead>\n",
       "  <tbody>\n",
       "    <tr>\n",
       "      <th>0</th>\n",
       "      <td>data2_data1_unilstm_model.pt</td>\n",
       "      <td>0.674286</td>\n",
       "      <td>0.696429</td>\n",
       "      <td>0.814042</td>\n",
       "      <td>0.750656</td>\n",
       "    </tr>\n",
       "    <tr>\n",
       "      <th>1</th>\n",
       "      <td>data3_data1_unilstm_model.pt</td>\n",
       "      <td>0.612403</td>\n",
       "      <td>0.659664</td>\n",
       "      <td>0.694690</td>\n",
       "      <td>0.676724</td>\n",
       "    </tr>\n",
       "    <tr>\n",
       "      <th>2</th>\n",
       "      <td>data2_data1_bilstm_model.pt</td>\n",
       "      <td>0.674286</td>\n",
       "      <td>0.695161</td>\n",
       "      <td>0.817837</td>\n",
       "      <td>0.751526</td>\n",
       "    </tr>\n",
       "    <tr>\n",
       "      <th>3</th>\n",
       "      <td>data3_data1_bilstm_model.pt</td>\n",
       "      <td>0.621878</td>\n",
       "      <td>0.672439</td>\n",
       "      <td>0.687316</td>\n",
       "      <td>0.679796</td>\n",
       "    </tr>\n",
       "    <tr>\n",
       "      <th>4</th>\n",
       "      <td>data2_data1_unigru_model.pt</td>\n",
       "      <td>0.656000</td>\n",
       "      <td>0.657382</td>\n",
       "      <td>0.895636</td>\n",
       "      <td>0.758233</td>\n",
       "    </tr>\n",
       "    <tr>\n",
       "      <th>5</th>\n",
       "      <td>data3_data1_unigru_model.pt</td>\n",
       "      <td>0.624462</td>\n",
       "      <td>0.640046</td>\n",
       "      <td>0.815634</td>\n",
       "      <td>0.717250</td>\n",
       "    </tr>\n",
       "    <tr>\n",
       "      <th>6</th>\n",
       "      <td>data2_data1_bigru_model.pt</td>\n",
       "      <td>0.698286</td>\n",
       "      <td>0.733570</td>\n",
       "      <td>0.783681</td>\n",
       "      <td>0.757798</td>\n",
       "    </tr>\n",
       "    <tr>\n",
       "      <th>7</th>\n",
       "      <td>data3_data1_bigru_model.pt</td>\n",
       "      <td>0.624462</td>\n",
       "      <td>0.676385</td>\n",
       "      <td>0.684366</td>\n",
       "      <td>0.680352</td>\n",
       "    </tr>\n",
       "    <tr>\n",
       "      <th>8</th>\n",
       "      <td>data2_data4_unilstm_model.pt</td>\n",
       "      <td>0.646857</td>\n",
       "      <td>0.650552</td>\n",
       "      <td>0.893738</td>\n",
       "      <td>0.752998</td>\n",
       "    </tr>\n",
       "    <tr>\n",
       "      <th>9</th>\n",
       "      <td>data3_data4_unilstm_model.pt</td>\n",
       "      <td>0.677864</td>\n",
       "      <td>0.658664</td>\n",
       "      <td>0.930678</td>\n",
       "      <td>0.771394</td>\n",
       "    </tr>\n",
       "    <tr>\n",
       "      <th>10</th>\n",
       "      <td>data2_data4_bilstm_model.pt</td>\n",
       "      <td>0.657143</td>\n",
       "      <td>0.657420</td>\n",
       "      <td>0.899431</td>\n",
       "      <td>0.759615</td>\n",
       "    </tr>\n",
       "    <tr>\n",
       "      <th>11</th>\n",
       "      <td>data3_data4_bilstm_model.pt</td>\n",
       "      <td>0.677003</td>\n",
       "      <td>0.662728</td>\n",
       "      <td>0.910029</td>\n",
       "      <td>0.766936</td>\n",
       "    </tr>\n",
       "    <tr>\n",
       "      <th>12</th>\n",
       "      <td>data2_data4_unigru_model.pt</td>\n",
       "      <td>0.633143</td>\n",
       "      <td>0.630711</td>\n",
       "      <td>0.943074</td>\n",
       "      <td>0.755894</td>\n",
       "    </tr>\n",
       "    <tr>\n",
       "      <th>13</th>\n",
       "      <td>data3_data4_unigru_model.pt</td>\n",
       "      <td>0.645134</td>\n",
       "      <td>0.629630</td>\n",
       "      <td>0.952802</td>\n",
       "      <td>0.758216</td>\n",
       "    </tr>\n",
       "    <tr>\n",
       "      <th>14</th>\n",
       "      <td>data2_data4_bigru_model.pt</td>\n",
       "      <td>0.624000</td>\n",
       "      <td>0.621622</td>\n",
       "      <td>0.960152</td>\n",
       "      <td>0.754661</td>\n",
       "    </tr>\n",
       "    <tr>\n",
       "      <th>15</th>\n",
       "      <td>data3_data4_bigru_model.pt</td>\n",
       "      <td>0.655469</td>\n",
       "      <td>0.638446</td>\n",
       "      <td>0.945428</td>\n",
       "      <td>0.762188</td>\n",
       "    </tr>\n",
       "    <tr>\n",
       "      <th>16</th>\n",
       "      <td>data2_combined_unilstm_model.pt</td>\n",
       "      <td>0.656000</td>\n",
       "      <td>0.657821</td>\n",
       "      <td>0.893738</td>\n",
       "      <td>0.757844</td>\n",
       "    </tr>\n",
       "    <tr>\n",
       "      <th>17</th>\n",
       "      <td>data3_combined_unilstm_model.pt</td>\n",
       "      <td>0.668389</td>\n",
       "      <td>0.658037</td>\n",
       "      <td>0.899705</td>\n",
       "      <td>0.760125</td>\n",
       "    </tr>\n",
       "    <tr>\n",
       "      <th>18</th>\n",
       "      <td>data2_combined_bilstm_model.pt</td>\n",
       "      <td>0.682286</td>\n",
       "      <td>0.675599</td>\n",
       "      <td>0.908918</td>\n",
       "      <td>0.775081</td>\n",
       "    </tr>\n",
       "    <tr>\n",
       "      <th>19</th>\n",
       "      <td>data3_combined_bilstm_model.pt</td>\n",
       "      <td>0.705426</td>\n",
       "      <td>0.692661</td>\n",
       "      <td>0.890855</td>\n",
       "      <td>0.779355</td>\n",
       "    </tr>\n",
       "    <tr>\n",
       "      <th>20</th>\n",
       "      <td>data2_combined_unigru_model.pt</td>\n",
       "      <td>0.658286</td>\n",
       "      <td>0.649606</td>\n",
       "      <td>0.939279</td>\n",
       "      <td>0.768037</td>\n",
       "    </tr>\n",
       "    <tr>\n",
       "      <th>21</th>\n",
       "      <td>data3_combined_unigru_model.pt</td>\n",
       "      <td>0.678725</td>\n",
       "      <td>0.657704</td>\n",
       "      <td>0.938053</td>\n",
       "      <td>0.773252</td>\n",
       "    </tr>\n",
       "    <tr>\n",
       "      <th>22</th>\n",
       "      <td>data2_combined_bigru_model.pt</td>\n",
       "      <td>0.684571</td>\n",
       "      <td>0.682678</td>\n",
       "      <td>0.889943</td>\n",
       "      <td>0.772652</td>\n",
       "    </tr>\n",
       "    <tr>\n",
       "      <th>23</th>\n",
       "      <td>data3_combined_bigru_model.pt</td>\n",
       "      <td>0.678725</td>\n",
       "      <td>0.669633</td>\n",
       "      <td>0.887906</td>\n",
       "      <td>0.763475</td>\n",
       "    </tr>\n",
       "  </tbody>\n",
       "</table>\n",
       "</div>\n",
       "      <button class=\"colab-df-convert\" onclick=\"convertToInteractive('df-c50ad014-22d7-4796-b7a9-5147ee938c2a')\"\n",
       "              title=\"Convert this dataframe to an interactive table.\"\n",
       "              style=\"display:none;\">\n",
       "        \n",
       "  <svg xmlns=\"http://www.w3.org/2000/svg\" height=\"24px\"viewBox=\"0 0 24 24\"\n",
       "       width=\"24px\">\n",
       "    <path d=\"M0 0h24v24H0V0z\" fill=\"none\"/>\n",
       "    <path d=\"M18.56 5.44l.94 2.06.94-2.06 2.06-.94-2.06-.94-.94-2.06-.94 2.06-2.06.94zm-11 1L8.5 8.5l.94-2.06 2.06-.94-2.06-.94L8.5 2.5l-.94 2.06-2.06.94zm10 10l.94 2.06.94-2.06 2.06-.94-2.06-.94-.94-2.06-.94 2.06-2.06.94z\"/><path d=\"M17.41 7.96l-1.37-1.37c-.4-.4-.92-.59-1.43-.59-.52 0-1.04.2-1.43.59L10.3 9.45l-7.72 7.72c-.78.78-.78 2.05 0 2.83L4 21.41c.39.39.9.59 1.41.59.51 0 1.02-.2 1.41-.59l7.78-7.78 2.81-2.81c.8-.78.8-2.07 0-2.86zM5.41 20L4 18.59l7.72-7.72 1.47 1.35L5.41 20z\"/>\n",
       "  </svg>\n",
       "      </button>\n",
       "      \n",
       "  <style>\n",
       "    .colab-df-container {\n",
       "      display:flex;\n",
       "      flex-wrap:wrap;\n",
       "      gap: 12px;\n",
       "    }\n",
       "\n",
       "    .colab-df-convert {\n",
       "      background-color: #E8F0FE;\n",
       "      border: none;\n",
       "      border-radius: 50%;\n",
       "      cursor: pointer;\n",
       "      display: none;\n",
       "      fill: #1967D2;\n",
       "      height: 32px;\n",
       "      padding: 0 0 0 0;\n",
       "      width: 32px;\n",
       "    }\n",
       "\n",
       "    .colab-df-convert:hover {\n",
       "      background-color: #E2EBFA;\n",
       "      box-shadow: 0px 1px 2px rgba(60, 64, 67, 0.3), 0px 1px 3px 1px rgba(60, 64, 67, 0.15);\n",
       "      fill: #174EA6;\n",
       "    }\n",
       "\n",
       "    [theme=dark] .colab-df-convert {\n",
       "      background-color: #3B4455;\n",
       "      fill: #D2E3FC;\n",
       "    }\n",
       "\n",
       "    [theme=dark] .colab-df-convert:hover {\n",
       "      background-color: #434B5C;\n",
       "      box-shadow: 0px 1px 3px 1px rgba(0, 0, 0, 0.15);\n",
       "      filter: drop-shadow(0px 1px 2px rgba(0, 0, 0, 0.3));\n",
       "      fill: #FFFFFF;\n",
       "    }\n",
       "  </style>\n",
       "\n",
       "      <script>\n",
       "        const buttonEl =\n",
       "          document.querySelector('#df-c50ad014-22d7-4796-b7a9-5147ee938c2a button.colab-df-convert');\n",
       "        buttonEl.style.display =\n",
       "          google.colab.kernel.accessAllowed ? 'block' : 'none';\n",
       "\n",
       "        async function convertToInteractive(key) {\n",
       "          const element = document.querySelector('#df-c50ad014-22d7-4796-b7a9-5147ee938c2a');\n",
       "          const dataTable =\n",
       "            await google.colab.kernel.invokeFunction('convertToInteractive',\n",
       "                                                     [key], {});\n",
       "          if (!dataTable) return;\n",
       "\n",
       "          const docLinkHtml = 'Like what you see? Visit the ' +\n",
       "            '<a target=\"_blank\" href=https://colab.research.google.com/notebooks/data_table.ipynb>data table notebook</a>'\n",
       "            + ' to learn more about interactive tables.';\n",
       "          element.innerHTML = '';\n",
       "          dataTable['output_type'] = 'display_data';\n",
       "          await google.colab.output.renderOutput(dataTable, element);\n",
       "          const docLink = document.createElement('div');\n",
       "          docLink.innerHTML = docLinkHtml;\n",
       "          element.appendChild(docLink);\n",
       "        }\n",
       "      </script>\n",
       "    </div>\n",
       "  </div>\n",
       "  "
      ],
      "text/plain": [
       "                         Experiment  Accuracy  Precision    Recall  F1_score\n",
       "0      data2_data1_unilstm_model.pt  0.674286   0.696429  0.814042  0.750656\n",
       "1      data3_data1_unilstm_model.pt  0.612403   0.659664  0.694690  0.676724\n",
       "2       data2_data1_bilstm_model.pt  0.674286   0.695161  0.817837  0.751526\n",
       "3       data3_data1_bilstm_model.pt  0.621878   0.672439  0.687316  0.679796\n",
       "4       data2_data1_unigru_model.pt  0.656000   0.657382  0.895636  0.758233\n",
       "5       data3_data1_unigru_model.pt  0.624462   0.640046  0.815634  0.717250\n",
       "6        data2_data1_bigru_model.pt  0.698286   0.733570  0.783681  0.757798\n",
       "7        data3_data1_bigru_model.pt  0.624462   0.676385  0.684366  0.680352\n",
       "8      data2_data4_unilstm_model.pt  0.646857   0.650552  0.893738  0.752998\n",
       "9      data3_data4_unilstm_model.pt  0.677864   0.658664  0.930678  0.771394\n",
       "10      data2_data4_bilstm_model.pt  0.657143   0.657420  0.899431  0.759615\n",
       "11      data3_data4_bilstm_model.pt  0.677003   0.662728  0.910029  0.766936\n",
       "12      data2_data4_unigru_model.pt  0.633143   0.630711  0.943074  0.755894\n",
       "13      data3_data4_unigru_model.pt  0.645134   0.629630  0.952802  0.758216\n",
       "14       data2_data4_bigru_model.pt  0.624000   0.621622  0.960152  0.754661\n",
       "15       data3_data4_bigru_model.pt  0.655469   0.638446  0.945428  0.762188\n",
       "16  data2_combined_unilstm_model.pt  0.656000   0.657821  0.893738  0.757844\n",
       "17  data3_combined_unilstm_model.pt  0.668389   0.658037  0.899705  0.760125\n",
       "18   data2_combined_bilstm_model.pt  0.682286   0.675599  0.908918  0.775081\n",
       "19   data3_combined_bilstm_model.pt  0.705426   0.692661  0.890855  0.779355\n",
       "20   data2_combined_unigru_model.pt  0.658286   0.649606  0.939279  0.768037\n",
       "21   data3_combined_unigru_model.pt  0.678725   0.657704  0.938053  0.773252\n",
       "22    data2_combined_bigru_model.pt  0.684571   0.682678  0.889943  0.772652\n",
       "23    data3_combined_bigru_model.pt  0.678725   0.669633  0.887906  0.763475"
      ]
     },
     "metadata": {},
     "output_type": "display_data"
    }
   ],
   "source": [
    "display(results_df)"
   ]
  },
  {
   "cell_type": "code",
   "execution_count": null,
   "metadata": {
    "id": "6VSAQBB2wQiN"
   },
   "outputs": [],
   "source": [
    "results_df.to_csv(SAVED_RESULT_PATH+'rnn_test.csv', index=False)"
   ]
  },
  {
   "cell_type": "markdown",
   "metadata": {
    "id": "rlJqkWn6avmw"
   },
   "source": [
    "## Fill up the dataframe of saved values for ROC curve\n"
   ]
  },
  {
   "cell_type": "code",
   "execution_count": null,
   "metadata": {
    "id": "qEjTAYk_cnGd"
   },
   "outputs": [],
   "source": [
    "# helper function to to plot the ROC curve\n",
    "def plot_roc(fpr, tpr, auc_value): # pass in a subset of the list\n",
    "    \"\"\"\n",
    "    - Print AUC\n",
    "    - Plot ROC\n",
    "    \"\"\"\n",
    "    color_set = ['b','g','r','k']\n",
    "    label_name = ['UniLSTM', 'BiLSTM', 'UniGRU', 'BiGRU']\n",
    "    # Plot ROC AUC\n",
    "    print('ROC Curve')\n",
    "    plt.rcParams[\"figure.figsize\"] = [12,8]\n",
    "    plt.title('Receiver Operating Characteristic')\n",
    "    for i in range(len(auc_value)):\n",
    "        plt.plot(fpr[i], tpr[i], color_set[i], label = f'{label_name[i]} AUC = {auc_value[i]:.4f}')\n",
    "    plt.legend(loc = 'lower right')\n",
    "    plt.plot([0, 1], [0, 1],'r--')\n",
    "    plt.xlim([0, 1])\n",
    "    plt.ylim([0, 1])\n",
    "    plt.ylabel('True Positive Rate')\n",
    "    plt.xlabel('False Positive Rate')\n",
    "    plt.show()"
   ]
  },
  {
   "cell_type": "code",
   "execution_count": null,
   "metadata": {
    "id": "kpWTlWJ_fYD_"
   },
   "outputs": [],
   "source": [
    "# collate the values in a list for backup\n",
    "fpr_list = [fpr1a,fpr1b,fpr1c,fpr1d,\n",
    "            fpr2a,fpr2b,fpr2c,fpr2d,\n",
    "            fpr3a,fpr3b,fpr3c,fpr3d]\n",
    "\n",
    "tpr_list = [tpr1a,tpr1b,tpr1c,tpr1d,\n",
    "            tpr2a,tpr2b,tpr2c,tpr2d,\n",
    "            tpr3a,tpr3b,tpr3c,tpr3d]\n",
    "\n",
    "get_auc_value_list = [get_auc_value1a,get_auc_value1b,get_auc_value1c,get_auc_value1d,\n",
    "                      get_auc_value2a,get_auc_value2b,get_auc_value2c,get_auc_value2d,\n",
    "                      get_auc_value3a,get_auc_value3b,get_auc_value3c,get_auc_value3d]\n",
    "\n",
    "thresholds_list = [thresholds1a,thresholds1b,thresholds1c,thresholds1d,\n",
    "                   thresholds2a,thresholds2b,thresholds2c,thresholds2d,\n",
    "                   thresholds3a,thresholds3b,thresholds3c,thresholds3d]\n",
    "\n",
    "# create a dataframe to store all the values\n",
    "roc_auc_df = pd.DataFrame()\n",
    "roc_auc_df['fpr'] = fpr_list\n",
    "roc_auc_df['tpr'] = tpr_list\n",
    "roc_auc_df['get_auc_value'] = get_auc_value_list\n",
    "roc_auc_df['thresholds'] = thresholds_list\n",
    "\n",
    "# export dataframe as backup\n",
    "roc_auc_df.to_csv(SAVED_RESULT_PATH+'rnn_roc_auc.csv', index=False)"
   ]
  },
  {
   "cell_type": "markdown",
   "metadata": {
    "id": "0166cIi6gxD1"
   },
   "source": [
    "## Get the 4 sets of ROC Curve for different dataset"
   ]
  },
  {
   "cell_type": "code",
   "execution_count": null,
   "metadata": {
    "colab": {
     "base_uri": "https://localhost:8080/",
     "height": 531
    },
    "executionInfo": {
     "elapsed": 17,
     "status": "ok",
     "timestamp": 1647940062422,
     "user": {
      "displayName": "Chuan Bin Phoe",
      "photoUrl": "https://lh3.googleusercontent.com/a/default-user=s64",
      "userId": "05567159451591599581"
     },
     "user_tz": -480
    },
    "id": "x4FGicGwfYGI",
    "outputId": "0f1a89fb-be49-47ba-8ddc-62594c6ce8fb"
   },
   "outputs": [
    {
     "name": "stdout",
     "output_type": "stream",
     "text": [
      "ROC Curve\n"
     ]
    },
    {
     "data": {
      "image/png": "[encoded data removed]",
      "text/plain": [
       "<Figure size 864x576 with 1 Axes>"
      ]
     },
     "metadata": {
      "needs_background": "light"
     },
     "output_type": "display_data"
    }
   ],
   "source": [
    "# data1\n",
    "plot_roc(fpr_list[:4], tpr_list[:4], get_auc_value_list[:4])"
   ]
  },
  {
   "cell_type": "code",
   "execution_count": null,
   "metadata": {
    "colab": {
     "base_uri": "https://localhost:8080/",
     "height": 531
    },
    "executionInfo": {
     "elapsed": 94,
     "status": "ok",
     "timestamp": 1647940063894,
     "user": {
      "displayName": "Chuan Bin Phoe",
      "photoUrl": "https://lh3.googleusercontent.com/a/default-user=s64",
      "userId": "05567159451591599581"
     },
     "user_tz": -480
    },
    "id": "ZqO80tKmfYIi",
    "outputId": "219a6604-b4e5-4a56-cc54-816f45b386ec"
   },
   "outputs": [
    {
     "name": "stdout",
     "output_type": "stream",
     "text": [
      "ROC Curve\n"
     ]
    },
    {
     "data": {
      "image/png": "[encoded data removed]",
      "text/plain": [
       "<Figure size 864x576 with 1 Axes>"
      ]
     },
     "metadata": {
      "needs_background": "light"
     },
     "output_type": "display_data"
    }
   ],
   "source": [
    "# data4\n",
    "plot_roc(fpr_list[4:8], tpr_list[4:8], get_auc_value_list[4:8])"
   ]
  },
  {
   "cell_type": "code",
   "execution_count": null,
   "metadata": {
    "colab": {
     "base_uri": "https://localhost:8080/",
     "height": 531
    },
    "executionInfo": {
     "elapsed": 788,
     "status": "ok",
     "timestamp": 1647940064604,
     "user": {
      "displayName": "Chuan Bin Phoe",
      "photoUrl": "https://lh3.googleusercontent.com/a/default-user=s64",
      "userId": "05567159451591599581"
     },
     "user_tz": -480
    },
    "id": "bKaVZcVUbZAC",
    "outputId": "92e605dd-ae10-4cba-e403-2111f0c774ca"
   },
   "outputs": [
    {
     "name": "stdout",
     "output_type": "stream",
     "text": [
      "ROC Curve\n"
     ]
    },
    {
     "data": {
      "image/png": "[encoded data removed]",
      "text/plain": [
       "<Figure size 864x576 with 1 Axes>"
      ]
     },
     "metadata": {
      "needs_background": "light"
     },
     "output_type": "display_data"
    }
   ],
   "source": [
    "# combined\n",
    "plot_roc(fpr_list[8:12], tpr_list[8:12], get_auc_value_list[8:12])"
   ]
  }
 ],
 "metadata": {
  "accelerator": "GPU",
  "colab": {
   "collapsed_sections": [
    "Xki56ad4JWgR",
    "s5P0RzhBrkoW",
    "wWI9YJnTUTvZ",
    "wQ1wdXwpd5oT",
    "4LiixkEeR5Tq",
    "A3_DDXB_Sap4",
    "gKUwCefdSzdY",
    "0laZPCy0YJVU",
    "upd4837OYUA_",
    "vX6uLDU6YY3i",
    "hSRVpFfzYigA",
    "P4TENE9aZFLy",
    "s-O0fBFraAYn",
    "Ga6v3bNqaDQw",
    "2f7cEMe5bVzY"
   ],
   "name": "rnn.ipynb",
   "provenance": []
  },
  "kernelspec": {
   "display_name": "Python 3",
   "language": "python",
   "name": "python3"
  },
  "language_info": {
   "codemirror_mode": {
    "name": "ipython",
    "version": 3
   },
   "file_extension": ".py",
   "mimetype": "text/x-python",
   "name": "python",
   "nbconvert_exporter": "python",
   "pygments_lexer": "ipython3",
   "version": "3.7.6"
  }
 },
 "nbformat": 4,
 "nbformat_minor": 1
}
